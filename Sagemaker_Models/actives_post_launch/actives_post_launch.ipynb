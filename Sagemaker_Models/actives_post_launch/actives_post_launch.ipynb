{
 "cells": [
  {
   "cell_type": "code",
   "execution_count": 1,
   "id": "3b4eba9a",
   "metadata": {},
   "outputs": [],
   "source": [
    "import pandas as pd\n",
    "import numpy as np\n",
    "import itertools as it\n",
    "import os\n",
    "import io\n",
    "import logging\n",
    "\n",
    "import boto3\n",
    "import sys\n",
    "import json\n",
    "\n",
    "from lib.model import ModelMain\n",
    "\n",
    "# configs\n",
    "from lib.config import percent_data_process_info\n",
    "from lib.config import prelaunch_process_info\n",
    "from lib.config import metadata_process_info\n",
    "from lib.config import default_params_dict as params_dict\n",
    "from lib.config import model_name_list\n",
    "from lib.config import params_tunning_dict"
   ]
  },
  {
   "cell_type": "markdown",
   "id": "d477d298",
   "metadata": {},
   "source": [
    "# Reading Data "
   ]
  },
  {
   "cell_type": "markdown",
   "id": "4cbe8314",
   "metadata": {},
   "source": [
    "Reading data from multiple sources, with the corresponding query"
   ]
  },
  {
   "cell_type": "markdown",
   "id": "4dc81dd9",
   "metadata": {},
   "source": [
    "### Step 1 of the Prediction Process: Getting Data\n",
    "Step 1.1: update the funnel metrics by Sagemaker ipynb file 'query_pipeline' under the '/query' folder\n",
    "\n",
    "Step 1.2: run each of the query in the '/day28_prediction/query/' to extract each input csv below"
   ]
  },
  {
   "cell_type": "code",
   "execution_count": 2,
   "id": "8524495b",
   "metadata": {},
   "outputs": [],
   "source": [
    "input_bucket = 'hbo-ingest-datascience-content-dev'"
   ]
  },
  {
   "cell_type": "code",
   "execution_count": 3,
   "id": "1481f7a2",
   "metadata": {},
   "outputs": [
    {
     "name": "stdout",
     "output_type": "stream",
     "text": [
      "Reading funnel_metric_feature features\n",
      "Reading media_cost_postlaunch_feature features\n",
      "Reading media_cost_prelaunch_feature features\n",
      "Reading metadata_feature features\n",
      "Reading prelaunch_trailer_feature features\n",
      "Reading prelaunch_trailer_feature_before28 features\n",
      "Reading sub_total_feature features\n",
      "Reading trailer_feature features\n",
      "Reading vtp_feature features\n",
      "Reading wiki_view_feature_before28 features\n",
      "Reading wiki_view_post_feature features\n",
      "Reading wiki_view_pre_feature features\n"
     ]
    }
   ],
   "source": [
    "logger = logging.getLogger()\n",
    "logger.info(f'Loading inputs')\n",
    "data_list =[]\n",
    "\n",
    "s3 = boto3.resource('s3')\n",
    "bucket = s3.Bucket(input_bucket)\n",
    "# Iterates through all the objects, doing the pagination for you. Each obj\n",
    "# is an ObjectSummary, so it doesn't contain the body. You'll need to call\n",
    "# get to get the whole body.\n",
    "for obj in bucket.objects.filter(Prefix='input_percent_view'):\n",
    "    key = obj.key\n",
    "    logger.info('Loading csv file {}'.format(key))\n",
    "    body = obj.get()['Body']\n",
    "    var_name = key.split('.')[0].split('/')[1]\n",
    "    print('Reading {0} features'.format(var_name))\n",
    "    exec(\"{0}=pd.read_csv(body, na_values = [r'\\\\\\\\N'])\".format(var_name))\n",
    "    exec(\"{0}.columns = {0}.columns.str.lower()\".format(var_name))\n",
    "    \n",
    "    # exclude the full null columns\n",
    "    exec(\"{0} = {0}.loc[:,{0}.isnull().sum()!={0}.shape[0]]\".format(var_name))\n",
    "\n",
    "    # exclude the old Mortal Kombat movie because the trailer percent view \n",
    "    # matching matches the trailer of the new movie to the old movie\n",
    "    # exclude Tom & Jerry due to unresolvable data issue\n",
    "    exec(\"{0} = {0}.loc[{0}['match_id_platform'].\\\n",
    "        isin(['1-GYGQBcwsaCIW2XgEAAAAL', '0-GYGQBcwsaCIW2XgEAAAAL', '1-GYEb9QwLgFF9_ZwEAAAA7', '0-GYEb9QwLgFF9_ZwEAAAA7'])==False,:]\\\n",
    "        .reset_index(drop = True)\".format(var_name))\n",
    "    \n",
    "    # append the feature df\n",
    "    exec(\"data_list.append({0})\".format(var_name))"
   ]
  },
  {
   "cell_type": "code",
   "execution_count": 4,
   "id": "221b432e",
   "metadata": {},
   "outputs": [
    {
     "name": "stdout",
     "output_type": "stream",
     "text": [
      "Reading pct_actives features\n"
     ]
    }
   ],
   "source": [
    "bucket = s3.Bucket(input_bucket)\n",
    "for obj in bucket.objects.filter(Prefix='pct_actives_prediction/pct_actives'):\n",
    "    key = obj.key\n",
    "    logger.info('Loading csv file {}'.format(key))\n",
    "    body = obj.get()['Body']\n",
    "    var_name = key.split('.')[0].split('/')[1]\n",
    "    print('Reading {0} features'.format(var_name))\n",
    "    exec(\"{0}=pd.read_csv(body, na_values = [r'\\\\\\\\N'])\".format(var_name))\n",
    "    exec(\"{0}.columns = {0}.columns.str.lower()\".format(var_name))\n",
    "    \n",
    "    # exclude the full null columns\n",
    "    exec(\"{0} = {0}.loc[:,{0}.isnull().sum()!={0}.shape[0]]\".format(var_name))\n",
    "\n",
    "    # exclude the old Mortal Kombat movie because the trailer percent view \n",
    "    # matching matches the trailer of the new movie to the old movie\n",
    "    # exclude Tom & Jerry due to unresolvable data issue\n",
    "    exec(\"{0} = {0}.loc[{0}['match_id'].\\\n",
    "        isin(['1-GYGQBcwsaCIW2XgEAAAAL', '0-GYGQBcwsaCIW2XgEAAAAL', '1-GYEb9QwLgFF9_ZwEAAAA7', '0-GYEb9QwLgFF9_ZwEAAAA7'])==False,:]\\\n",
    "        .reset_index(drop = True)\".format(var_name))\n",
    "    \n",
    "    # append the feature df\n",
    "    exec(\"data_list.append({0})\".format(var_name))"
   ]
  },
  {
   "cell_type": "code",
   "execution_count": 5,
   "id": "c57bcbae",
   "metadata": {},
   "outputs": [],
   "source": [
    "active_data = data_list[-1][['match_id_platform', 'days_after_launch', 'pct_actives']]\n",
    "active_data['pct_actives_values'] = active_data.groupby(['match_id_platform', 'days_after_launch'])['pct_actives'].transform('mean')\n",
    "active_data = active_data[['match_id_platform', 'days_after_launch', 'pct_actives_values']]\n",
    "active_data = active_data[(active_data['match_id_platform'].notnull())\n",
    "                         &(active_data['days_after_launch'].notnull())]\n",
    "active_data.drop_duplicates(inplace = True)"
   ]
  },
  {
   "cell_type": "code",
   "execution_count": 6,
   "id": "daf85c17",
   "metadata": {},
   "outputs": [],
   "source": [
    "active_data = active_data.pivot(index='match_id_platform', columns='days_after_launch', values=['pct_actives_values']).reset_index()\n",
    "columns = ['day00' + str(i) + '_percent_actives' for i in range(1, 10) ]\n",
    "columns = columns + ['day0' + str(i) + '_percent_actives' for i in range(10, 29)]\n",
    "active_data.columns = ['match_id_platform_actives'] + columns"
   ]
  },
  {
   "cell_type": "code",
   "execution_count": 7,
   "id": "6f96306d",
   "metadata": {},
   "outputs": [],
   "source": [
    "funnel_metric_feature = data_list[0]\n",
    "active_data = pd.merge(funnel_metric_feature[['match_id_platform']],\n",
    "               active_data, left_on = 'match_id_platform', right_on = 'match_id_platform_actives', \n",
    "               how = 'inner')\n",
    "active_data.drop(['match_id_platform_actives'], axis =1, inplace = True)\n",
    "data_list.pop(-1)\n",
    "data_list.append(active_data)"
   ]
  },
  {
   "cell_type": "code",
   "execution_count": 8,
   "id": "7d69b04c",
   "metadata": {
    "scrolled": true
   },
   "outputs": [
    {
     "name": "stdout",
     "output_type": "stream",
     "text": [
      "Final title size: 6058, All title size: 6058\n"
     ]
    }
   ],
   "source": [
    "# start a object\n",
    "logger.info('Setting up the prediction model')\n",
    "percentile_used = 0.8\n",
    "back_consideration_date = 180\n",
    "nfold = np.floor(back_consideration_date/30)\n",
    "cv_func = ModelMain(data_list, metadata_process_info['label_columns'], metadata_process_info['num_columns'])"
   ]
  },
  {
   "cell_type": "markdown",
   "id": "767ddc6d",
   "metadata": {},
   "source": [
    "# New Title Prediction, Post Launch "
   ]
  },
  {
   "cell_type": "markdown",
   "id": "089da0bb",
   "metadata": {},
   "source": [
    "### Cross Validations"
   ]
  },
  {
   "cell_type": "code",
   "execution_count": 9,
   "id": "0eb39b73",
   "metadata": {},
   "outputs": [
    {
     "name": "stdout",
     "output_type": "stream",
     "text": [
      "keeps the titles above 80.0 percentile day1 viewed over all titles only\n",
      "only 1314 titles considered after popularity filter\n",
      "only 993 titles considered after prelaunch filter\n",
      "the number of days is not large enough to use log ratio transformation\n",
      "X and y are ready based on the input params\n",
      "Do cross prediction for day -27\n"
     ]
    },
    {
     "name": "stderr",
     "output_type": "stream",
     "text": [
      "/home/ec2-user/SageMaker/max-datascience-content-airflow/Sagemaker_Models/actives_post_launch/lib/feature_engineering.py:283: UserWarning: Boolean Series key will be reindexed to match DataFrame index.\n",
      "  self.X_base = self.X[self.y!=-100]\n",
      "/home/ec2-user/SageMaker/max-datascience-content-airflow/Sagemaker_Models/actives_post_launch/lib/feature_engineering.py:285: UserWarning: Boolean Series key will be reindexed to match DataFrame index.\n",
      "  self.X_pred = self.X[((self.y==-100) & (self.X['platform_name']==1))]\n"
     ]
    },
    {
     "name": "stdout",
     "output_type": "stream",
     "text": [
      "SMAPE for all titles 0.6892789385508999\n",
      "SMAPE for the originals 0.8053692753949397\n",
      "running cvs at day -27\n",
      "keeps the titles above 80.0 percentile day1 viewed over all titles only\n",
      "only 1314 titles considered after popularity filter\n",
      "only 992 titles considered after prelaunch filter\n",
      "the number of days is not large enough to use log ratio transformation\n",
      "X and y are ready based on the input params\n",
      "Do cross prediction for day -26\n"
     ]
    },
    {
     "name": "stderr",
     "output_type": "stream",
     "text": [
      "/home/ec2-user/SageMaker/max-datascience-content-airflow/Sagemaker_Models/actives_post_launch/lib/feature_engineering.py:283: UserWarning: Boolean Series key will be reindexed to match DataFrame index.\n",
      "  self.X_base = self.X[self.y!=-100]\n",
      "/home/ec2-user/SageMaker/max-datascience-content-airflow/Sagemaker_Models/actives_post_launch/lib/feature_engineering.py:285: UserWarning: Boolean Series key will be reindexed to match DataFrame index.\n",
      "  self.X_pred = self.X[((self.y==-100) & (self.X['platform_name']==1))]\n"
     ]
    },
    {
     "name": "stdout",
     "output_type": "stream",
     "text": [
      "SMAPE for all titles 0.7224919786427927\n",
      "SMAPE for the originals 0.8135550222991741\n",
      "running cvs at day -26\n",
      "keeps the titles above 80.0 percentile day1 viewed over all titles only\n",
      "only 1314 titles considered after popularity filter\n",
      "only 994 titles considered after prelaunch filter\n",
      "the number of days is not large enough to use log ratio transformation\n",
      "X and y are ready based on the input params\n",
      "Do cross prediction for day -25\n"
     ]
    },
    {
     "name": "stderr",
     "output_type": "stream",
     "text": [
      "/home/ec2-user/SageMaker/max-datascience-content-airflow/Sagemaker_Models/actives_post_launch/lib/feature_engineering.py:283: UserWarning: Boolean Series key will be reindexed to match DataFrame index.\n",
      "  self.X_base = self.X[self.y!=-100]\n",
      "/home/ec2-user/SageMaker/max-datascience-content-airflow/Sagemaker_Models/actives_post_launch/lib/feature_engineering.py:285: UserWarning: Boolean Series key will be reindexed to match DataFrame index.\n",
      "  self.X_pred = self.X[((self.y==-100) & (self.X['platform_name']==1))]\n"
     ]
    },
    {
     "name": "stdout",
     "output_type": "stream",
     "text": [
      "SMAPE for all titles 0.720684213780345\n",
      "SMAPE for the originals 0.8201911438119611\n",
      "running cvs at day -25\n",
      "keeps the titles above 80.0 percentile day1 viewed over all titles only\n",
      "only 1314 titles considered after popularity filter\n",
      "only 994 titles considered after prelaunch filter\n",
      "the number of days is not large enough to use log ratio transformation\n"
     ]
    },
    {
     "name": "stderr",
     "output_type": "stream",
     "text": [
      "/home/ec2-user/SageMaker/max-datascience-content-airflow/Sagemaker_Models/actives_post_launch/lib/feature_engineering.py:283: UserWarning: Boolean Series key will be reindexed to match DataFrame index.\n",
      "  self.X_base = self.X[self.y!=-100]\n",
      "/home/ec2-user/SageMaker/max-datascience-content-airflow/Sagemaker_Models/actives_post_launch/lib/feature_engineering.py:285: UserWarning: Boolean Series key will be reindexed to match DataFrame index.\n",
      "  self.X_pred = self.X[((self.y==-100) & (self.X['platform_name']==1))]\n"
     ]
    },
    {
     "name": "stdout",
     "output_type": "stream",
     "text": [
      "X and y are ready based on the input params\n",
      "Do cross prediction for day -24\n",
      "SMAPE for all titles 0.7196267551566051\n",
      "SMAPE for the originals 0.818568891346505\n",
      "running cvs at day -24\n",
      "keeps the titles above 80.0 percentile day1 viewed over all titles only\n",
      "only 1314 titles considered after popularity filter\n",
      "only 994 titles considered after prelaunch filter\n",
      "the number of days is not large enough to use log ratio transformation\n",
      "X and y are ready based on the input params\n",
      "Do cross prediction for day -23\n"
     ]
    },
    {
     "name": "stderr",
     "output_type": "stream",
     "text": [
      "/home/ec2-user/SageMaker/max-datascience-content-airflow/Sagemaker_Models/actives_post_launch/lib/feature_engineering.py:283: UserWarning: Boolean Series key will be reindexed to match DataFrame index.\n",
      "  self.X_base = self.X[self.y!=-100]\n",
      "/home/ec2-user/SageMaker/max-datascience-content-airflow/Sagemaker_Models/actives_post_launch/lib/feature_engineering.py:285: UserWarning: Boolean Series key will be reindexed to match DataFrame index.\n",
      "  self.X_pred = self.X[((self.y==-100) & (self.X['platform_name']==1))]\n"
     ]
    },
    {
     "name": "stdout",
     "output_type": "stream",
     "text": [
      "SMAPE for all titles 0.7112178195195015\n",
      "SMAPE for the originals 0.8206968855479955\n",
      "running cvs at day -23\n",
      "keeps the titles above 80.0 percentile day1 viewed over all titles only\n",
      "only 1314 titles considered after popularity filter\n",
      "only 996 titles considered after prelaunch filter\n",
      "the number of days is not large enough to use log ratio transformation\n",
      "X and y are ready based on the input params\n",
      "Do cross prediction for day -22\n"
     ]
    },
    {
     "name": "stderr",
     "output_type": "stream",
     "text": [
      "/home/ec2-user/SageMaker/max-datascience-content-airflow/Sagemaker_Models/actives_post_launch/lib/feature_engineering.py:283: UserWarning: Boolean Series key will be reindexed to match DataFrame index.\n",
      "  self.X_base = self.X[self.y!=-100]\n",
      "/home/ec2-user/SageMaker/max-datascience-content-airflow/Sagemaker_Models/actives_post_launch/lib/feature_engineering.py:285: UserWarning: Boolean Series key will be reindexed to match DataFrame index.\n",
      "  self.X_pred = self.X[((self.y==-100) & (self.X['platform_name']==1))]\n"
     ]
    },
    {
     "name": "stdout",
     "output_type": "stream",
     "text": [
      "SMAPE for all titles 0.7106892433935055\n",
      "SMAPE for the originals 0.8272565388587921\n",
      "running cvs at day -22\n",
      "keeps the titles above 80.0 percentile day1 viewed over all titles only\n",
      "only 1314 titles considered after popularity filter\n",
      "only 999 titles considered after prelaunch filter\n",
      "the number of days is not large enough to use log ratio transformation\n",
      "X and y are ready based on the input params\n",
      "Do cross prediction for day -21\n"
     ]
    },
    {
     "name": "stderr",
     "output_type": "stream",
     "text": [
      "/home/ec2-user/SageMaker/max-datascience-content-airflow/Sagemaker_Models/actives_post_launch/lib/feature_engineering.py:283: UserWarning: Boolean Series key will be reindexed to match DataFrame index.\n",
      "  self.X_base = self.X[self.y!=-100]\n",
      "/home/ec2-user/SageMaker/max-datascience-content-airflow/Sagemaker_Models/actives_post_launch/lib/feature_engineering.py:285: UserWarning: Boolean Series key will be reindexed to match DataFrame index.\n",
      "  self.X_pred = self.X[((self.y==-100) & (self.X['platform_name']==1))]\n"
     ]
    },
    {
     "name": "stdout",
     "output_type": "stream",
     "text": [
      "SMAPE for all titles 0.7109344690732016\n",
      "SMAPE for the originals 0.8285112461700308\n",
      "running cvs at day -21\n",
      "keeps the titles above 80.0 percentile day1 viewed over all titles only\n",
      "only 1314 titles considered after popularity filter\n",
      "only 1000 titles considered after prelaunch filter\n",
      "the number of days is not large enough to use log ratio transformation\n",
      "X and y are ready based on the input params\n",
      "Do cross prediction for day -20\n"
     ]
    },
    {
     "name": "stderr",
     "output_type": "stream",
     "text": [
      "/home/ec2-user/SageMaker/max-datascience-content-airflow/Sagemaker_Models/actives_post_launch/lib/feature_engineering.py:283: UserWarning: Boolean Series key will be reindexed to match DataFrame index.\n",
      "  self.X_base = self.X[self.y!=-100]\n",
      "/home/ec2-user/SageMaker/max-datascience-content-airflow/Sagemaker_Models/actives_post_launch/lib/feature_engineering.py:285: UserWarning: Boolean Series key will be reindexed to match DataFrame index.\n",
      "  self.X_pred = self.X[((self.y==-100) & (self.X['platform_name']==1))]\n"
     ]
    },
    {
     "name": "stdout",
     "output_type": "stream",
     "text": [
      "SMAPE for all titles 0.7062918140860899\n",
      "SMAPE for the originals 0.8274208224525689\n",
      "running cvs at day -20\n",
      "keeps the titles above 80.0 percentile day1 viewed over all titles only\n",
      "only 1314 titles considered after popularity filter\n",
      "only 1000 titles considered after prelaunch filter\n",
      "the number of days is not large enough to use log ratio transformation\n",
      "X and y are ready based on the input params\n",
      "Do cross prediction for day -19\n"
     ]
    },
    {
     "name": "stderr",
     "output_type": "stream",
     "text": [
      "/home/ec2-user/SageMaker/max-datascience-content-airflow/Sagemaker_Models/actives_post_launch/lib/feature_engineering.py:283: UserWarning: Boolean Series key will be reindexed to match DataFrame index.\n",
      "  self.X_base = self.X[self.y!=-100]\n",
      "/home/ec2-user/SageMaker/max-datascience-content-airflow/Sagemaker_Models/actives_post_launch/lib/feature_engineering.py:285: UserWarning: Boolean Series key will be reindexed to match DataFrame index.\n",
      "  self.X_pred = self.X[((self.y==-100) & (self.X['platform_name']==1))]\n"
     ]
    },
    {
     "name": "stdout",
     "output_type": "stream",
     "text": [
      "SMAPE for all titles 0.7164243590378155\n",
      "SMAPE for the originals 0.8781070173788124\n",
      "running cvs at day -19\n",
      "keeps the titles above 80.0 percentile day1 viewed over all titles only\n",
      "only 1314 titles considered after popularity filter\n",
      "only 999 titles considered after prelaunch filter\n",
      "the number of days is not large enough to use log ratio transformation\n",
      "X and y are ready based on the input params\n",
      "Do cross prediction for day -18\n"
     ]
    },
    {
     "name": "stderr",
     "output_type": "stream",
     "text": [
      "/home/ec2-user/SageMaker/max-datascience-content-airflow/Sagemaker_Models/actives_post_launch/lib/feature_engineering.py:283: UserWarning: Boolean Series key will be reindexed to match DataFrame index.\n",
      "  self.X_base = self.X[self.y!=-100]\n",
      "/home/ec2-user/SageMaker/max-datascience-content-airflow/Sagemaker_Models/actives_post_launch/lib/feature_engineering.py:285: UserWarning: Boolean Series key will be reindexed to match DataFrame index.\n",
      "  self.X_pred = self.X[((self.y==-100) & (self.X['platform_name']==1))]\n"
     ]
    },
    {
     "name": "stdout",
     "output_type": "stream",
     "text": [
      "SMAPE for all titles 0.7169330312021511\n",
      "SMAPE for the originals 0.8744296741454818\n",
      "running cvs at day -18\n",
      "keeps the titles above 80.0 percentile day1 viewed over all titles only\n",
      "only 1314 titles considered after popularity filter\n",
      "only 1000 titles considered after prelaunch filter\n",
      "the number of days is not large enough to use log ratio transformation\n",
      "X and y are ready based on the input params\n",
      "Do cross prediction for day -17\n"
     ]
    },
    {
     "name": "stderr",
     "output_type": "stream",
     "text": [
      "/home/ec2-user/SageMaker/max-datascience-content-airflow/Sagemaker_Models/actives_post_launch/lib/feature_engineering.py:283: UserWarning: Boolean Series key will be reindexed to match DataFrame index.\n",
      "  self.X_base = self.X[self.y!=-100]\n",
      "/home/ec2-user/SageMaker/max-datascience-content-airflow/Sagemaker_Models/actives_post_launch/lib/feature_engineering.py:285: UserWarning: Boolean Series key will be reindexed to match DataFrame index.\n",
      "  self.X_pred = self.X[((self.y==-100) & (self.X['platform_name']==1))]\n"
     ]
    },
    {
     "name": "stdout",
     "output_type": "stream",
     "text": [
      "SMAPE for all titles 0.7201957362941823\n",
      "SMAPE for the originals 0.8689358057171779\n",
      "running cvs at day -17\n",
      "keeps the titles above 80.0 percentile day1 viewed over all titles only\n",
      "only 1314 titles considered after popularity filter\n",
      "only 1002 titles considered after prelaunch filter\n",
      "the number of days is not large enough to use log ratio transformation\n",
      "X and y are ready based on the input params\n",
      "Do cross prediction for day -16\n"
     ]
    },
    {
     "name": "stderr",
     "output_type": "stream",
     "text": [
      "/home/ec2-user/SageMaker/max-datascience-content-airflow/Sagemaker_Models/actives_post_launch/lib/feature_engineering.py:283: UserWarning: Boolean Series key will be reindexed to match DataFrame index.\n",
      "  self.X_base = self.X[self.y!=-100]\n",
      "/home/ec2-user/SageMaker/max-datascience-content-airflow/Sagemaker_Models/actives_post_launch/lib/feature_engineering.py:285: UserWarning: Boolean Series key will be reindexed to match DataFrame index.\n",
      "  self.X_pred = self.X[((self.y==-100) & (self.X['platform_name']==1))]\n"
     ]
    },
    {
     "name": "stdout",
     "output_type": "stream",
     "text": [
      "SMAPE for all titles 0.7206514777265453\n",
      "SMAPE for the originals 0.8674555497231291\n",
      "running cvs at day -16\n",
      "keeps the titles above 80.0 percentile day1 viewed over all titles only\n",
      "only 1314 titles considered after popularity filter\n",
      "only 1000 titles considered after prelaunch filter\n",
      "the number of days is not large enough to use log ratio transformation\n",
      "X and y are ready based on the input params\n",
      "Do cross prediction for day -15\n"
     ]
    },
    {
     "name": "stderr",
     "output_type": "stream",
     "text": [
      "/home/ec2-user/SageMaker/max-datascience-content-airflow/Sagemaker_Models/actives_post_launch/lib/feature_engineering.py:283: UserWarning: Boolean Series key will be reindexed to match DataFrame index.\n",
      "  self.X_base = self.X[self.y!=-100]\n",
      "/home/ec2-user/SageMaker/max-datascience-content-airflow/Sagemaker_Models/actives_post_launch/lib/feature_engineering.py:285: UserWarning: Boolean Series key will be reindexed to match DataFrame index.\n",
      "  self.X_pred = self.X[((self.y==-100) & (self.X['platform_name']==1))]\n"
     ]
    },
    {
     "name": "stdout",
     "output_type": "stream",
     "text": [
      "SMAPE for all titles 0.721049061684952\n",
      "SMAPE for the originals 0.8618147402497474\n",
      "running cvs at day -15\n",
      "keeps the titles above 80.0 percentile day1 viewed over all titles only\n",
      "only 1314 titles considered after popularity filter\n",
      "only 1003 titles considered after prelaunch filter\n",
      "the number of days is not large enough to use log ratio transformation\n",
      "X and y are ready based on the input params\n",
      "Do cross prediction for day -14\n"
     ]
    },
    {
     "name": "stderr",
     "output_type": "stream",
     "text": [
      "/home/ec2-user/SageMaker/max-datascience-content-airflow/Sagemaker_Models/actives_post_launch/lib/feature_engineering.py:283: UserWarning: Boolean Series key will be reindexed to match DataFrame index.\n",
      "  self.X_base = self.X[self.y!=-100]\n",
      "/home/ec2-user/SageMaker/max-datascience-content-airflow/Sagemaker_Models/actives_post_launch/lib/feature_engineering.py:285: UserWarning: Boolean Series key will be reindexed to match DataFrame index.\n",
      "  self.X_pred = self.X[((self.y==-100) & (self.X['platform_name']==1))]\n"
     ]
    },
    {
     "name": "stdout",
     "output_type": "stream",
     "text": [
      "SMAPE for all titles 0.7207082729803872\n",
      "SMAPE for the originals 0.848575820410195\n",
      "running cvs at day -14\n",
      "keeps the titles above 80.0 percentile day1 viewed over all titles only\n",
      "only 1314 titles considered after popularity filter\n",
      "only 1004 titles considered after prelaunch filter\n",
      "the number of days is not large enough to use log ratio transformation\n",
      "X and y are ready based on the input params\n",
      "Do cross prediction for day -13\n"
     ]
    },
    {
     "name": "stderr",
     "output_type": "stream",
     "text": [
      "/home/ec2-user/SageMaker/max-datascience-content-airflow/Sagemaker_Models/actives_post_launch/lib/feature_engineering.py:283: UserWarning: Boolean Series key will be reindexed to match DataFrame index.\n",
      "  self.X_base = self.X[self.y!=-100]\n",
      "/home/ec2-user/SageMaker/max-datascience-content-airflow/Sagemaker_Models/actives_post_launch/lib/feature_engineering.py:285: UserWarning: Boolean Series key will be reindexed to match DataFrame index.\n",
      "  self.X_pred = self.X[((self.y==-100) & (self.X['platform_name']==1))]\n"
     ]
    },
    {
     "name": "stdout",
     "output_type": "stream",
     "text": [
      "SMAPE for all titles 0.7186609435660929\n",
      "SMAPE for the originals 0.8121537045984324\n",
      "running cvs at day -13\n",
      "keeps the titles above 80.0 percentile day1 viewed over all titles only\n",
      "only 1314 titles considered after popularity filter\n",
      "only 1005 titles considered after prelaunch filter\n",
      "the number of days is not large enough to use log ratio transformation\n",
      "X and y are ready based on the input params\n",
      "Do cross prediction for day -12\n"
     ]
    },
    {
     "name": "stderr",
     "output_type": "stream",
     "text": [
      "/home/ec2-user/SageMaker/max-datascience-content-airflow/Sagemaker_Models/actives_post_launch/lib/feature_engineering.py:283: UserWarning: Boolean Series key will be reindexed to match DataFrame index.\n",
      "  self.X_base = self.X[self.y!=-100]\n",
      "/home/ec2-user/SageMaker/max-datascience-content-airflow/Sagemaker_Models/actives_post_launch/lib/feature_engineering.py:285: UserWarning: Boolean Series key will be reindexed to match DataFrame index.\n",
      "  self.X_pred = self.X[((self.y==-100) & (self.X['platform_name']==1))]\n"
     ]
    },
    {
     "name": "stdout",
     "output_type": "stream",
     "text": [
      "SMAPE for all titles 0.7296510786961585\n",
      "SMAPE for the originals 0.8758684941519528\n",
      "running cvs at day -12\n",
      "keeps the titles above 80.0 percentile day1 viewed over all titles only\n",
      "only 1314 titles considered after popularity filter\n",
      "only 1006 titles considered after prelaunch filter\n",
      "the number of days is not large enough to use log ratio transformation\n",
      "X and y are ready based on the input params\n",
      "Do cross prediction for day -11\n"
     ]
    },
    {
     "name": "stderr",
     "output_type": "stream",
     "text": [
      "/home/ec2-user/SageMaker/max-datascience-content-airflow/Sagemaker_Models/actives_post_launch/lib/feature_engineering.py:283: UserWarning: Boolean Series key will be reindexed to match DataFrame index.\n",
      "  self.X_base = self.X[self.y!=-100]\n",
      "/home/ec2-user/SageMaker/max-datascience-content-airflow/Sagemaker_Models/actives_post_launch/lib/feature_engineering.py:285: UserWarning: Boolean Series key will be reindexed to match DataFrame index.\n",
      "  self.X_pred = self.X[((self.y==-100) & (self.X['platform_name']==1))]\n"
     ]
    },
    {
     "name": "stdout",
     "output_type": "stream",
     "text": [
      "SMAPE for all titles 0.7311438058103419\n",
      "SMAPE for the originals 0.8756003381516732\n",
      "running cvs at day -11\n",
      "keeps the titles above 80.0 percentile day1 viewed over all titles only\n",
      "only 1314 titles considered after popularity filter\n",
      "only 1005 titles considered after prelaunch filter\n",
      "the number of days is not large enough to use log ratio transformation\n",
      "X and y are ready based on the input params\n",
      "Do cross prediction for day -10\n"
     ]
    },
    {
     "name": "stderr",
     "output_type": "stream",
     "text": [
      "/home/ec2-user/SageMaker/max-datascience-content-airflow/Sagemaker_Models/actives_post_launch/lib/feature_engineering.py:283: UserWarning: Boolean Series key will be reindexed to match DataFrame index.\n",
      "  self.X_base = self.X[self.y!=-100]\n",
      "/home/ec2-user/SageMaker/max-datascience-content-airflow/Sagemaker_Models/actives_post_launch/lib/feature_engineering.py:285: UserWarning: Boolean Series key will be reindexed to match DataFrame index.\n",
      "  self.X_pred = self.X[((self.y==-100) & (self.X['platform_name']==1))]\n"
     ]
    },
    {
     "name": "stdout",
     "output_type": "stream",
     "text": [
      "SMAPE for all titles 0.730008367014203\n",
      "SMAPE for the originals 0.8779151396716488\n",
      "running cvs at day -10\n",
      "keeps the titles above 80.0 percentile day1 viewed over all titles only\n",
      "only 1314 titles considered after popularity filter\n",
      "only 1006 titles considered after prelaunch filter\n",
      "the number of days is not large enough to use log ratio transformation\n",
      "X and y are ready based on the input params\n",
      "Do cross prediction for day -9\n"
     ]
    },
    {
     "name": "stderr",
     "output_type": "stream",
     "text": [
      "/home/ec2-user/SageMaker/max-datascience-content-airflow/Sagemaker_Models/actives_post_launch/lib/feature_engineering.py:283: UserWarning: Boolean Series key will be reindexed to match DataFrame index.\n",
      "  self.X_base = self.X[self.y!=-100]\n",
      "/home/ec2-user/SageMaker/max-datascience-content-airflow/Sagemaker_Models/actives_post_launch/lib/feature_engineering.py:285: UserWarning: Boolean Series key will be reindexed to match DataFrame index.\n",
      "  self.X_pred = self.X[((self.y==-100) & (self.X['platform_name']==1))]\n"
     ]
    },
    {
     "name": "stdout",
     "output_type": "stream",
     "text": [
      "SMAPE for all titles 0.7418947232231934\n",
      "SMAPE for the originals 0.9585026581451902\n",
      "running cvs at day -9\n",
      "keeps the titles above 80.0 percentile day1 viewed over all titles only\n",
      "only 1314 titles considered after popularity filter\n",
      "only 1009 titles considered after prelaunch filter\n",
      "the number of days is not large enough to use log ratio transformation\n",
      "X and y are ready based on the input params\n",
      "Do cross prediction for day -8\n"
     ]
    },
    {
     "name": "stderr",
     "output_type": "stream",
     "text": [
      "/home/ec2-user/SageMaker/max-datascience-content-airflow/Sagemaker_Models/actives_post_launch/lib/feature_engineering.py:283: UserWarning: Boolean Series key will be reindexed to match DataFrame index.\n",
      "  self.X_base = self.X[self.y!=-100]\n",
      "/home/ec2-user/SageMaker/max-datascience-content-airflow/Sagemaker_Models/actives_post_launch/lib/feature_engineering.py:285: UserWarning: Boolean Series key will be reindexed to match DataFrame index.\n",
      "  self.X_pred = self.X[((self.y==-100) & (self.X['platform_name']==1))]\n"
     ]
    },
    {
     "name": "stdout",
     "output_type": "stream",
     "text": [
      "SMAPE for all titles 0.7392090114309577\n",
      "SMAPE for the originals 0.9555031814412321\n",
      "running cvs at day -8\n",
      "keeps the titles above 80.0 percentile day1 viewed over all titles only\n",
      "only 1314 titles considered after popularity filter\n",
      "only 1009 titles considered after prelaunch filter\n",
      "the number of days is not large enough to use log ratio transformation\n",
      "X and y are ready based on the input params\n",
      "Do cross prediction for day -7\n"
     ]
    },
    {
     "name": "stderr",
     "output_type": "stream",
     "text": [
      "/home/ec2-user/SageMaker/max-datascience-content-airflow/Sagemaker_Models/actives_post_launch/lib/feature_engineering.py:283: UserWarning: Boolean Series key will be reindexed to match DataFrame index.\n",
      "  self.X_base = self.X[self.y!=-100]\n",
      "/home/ec2-user/SageMaker/max-datascience-content-airflow/Sagemaker_Models/actives_post_launch/lib/feature_engineering.py:285: UserWarning: Boolean Series key will be reindexed to match DataFrame index.\n",
      "  self.X_pred = self.X[((self.y==-100) & (self.X['platform_name']==1))]\n"
     ]
    },
    {
     "name": "stdout",
     "output_type": "stream",
     "text": [
      "SMAPE for all titles 0.7123056035898216\n",
      "SMAPE for the originals 0.9301351005924875\n",
      "running cvs at day -7\n",
      "keeps the titles above 80.0 percentile day1 viewed over all titles only\n",
      "only 1314 titles considered after popularity filter\n",
      "only 1008 titles considered after prelaunch filter\n",
      "the number of days is not large enough to use log ratio transformation\n",
      "X and y are ready based on the input params\n",
      "Do cross prediction for day -6\n"
     ]
    },
    {
     "name": "stderr",
     "output_type": "stream",
     "text": [
      "/home/ec2-user/SageMaker/max-datascience-content-airflow/Sagemaker_Models/actives_post_launch/lib/feature_engineering.py:283: UserWarning: Boolean Series key will be reindexed to match DataFrame index.\n",
      "  self.X_base = self.X[self.y!=-100]\n",
      "/home/ec2-user/SageMaker/max-datascience-content-airflow/Sagemaker_Models/actives_post_launch/lib/feature_engineering.py:285: UserWarning: Boolean Series key will be reindexed to match DataFrame index.\n",
      "  self.X_pred = self.X[((self.y==-100) & (self.X['platform_name']==1))]\n"
     ]
    },
    {
     "name": "stdout",
     "output_type": "stream",
     "text": [
      "SMAPE for all titles 0.7103329818635723\n",
      "SMAPE for the originals 0.9833651583690267\n",
      "running cvs at day -6\n",
      "keeps the titles above 80.0 percentile day1 viewed over all titles only\n",
      "only 1314 titles considered after popularity filter\n",
      "only 1009 titles considered after prelaunch filter\n",
      "the number of days is not large enough to use log ratio transformation\n",
      "X and y are ready based on the input params\n",
      "Do cross prediction for day -5\n"
     ]
    },
    {
     "name": "stderr",
     "output_type": "stream",
     "text": [
      "/home/ec2-user/SageMaker/max-datascience-content-airflow/Sagemaker_Models/actives_post_launch/lib/feature_engineering.py:283: UserWarning: Boolean Series key will be reindexed to match DataFrame index.\n",
      "  self.X_base = self.X[self.y!=-100]\n",
      "/home/ec2-user/SageMaker/max-datascience-content-airflow/Sagemaker_Models/actives_post_launch/lib/feature_engineering.py:285: UserWarning: Boolean Series key will be reindexed to match DataFrame index.\n",
      "  self.X_pred = self.X[((self.y==-100) & (self.X['platform_name']==1))]\n"
     ]
    },
    {
     "name": "stdout",
     "output_type": "stream",
     "text": [
      "SMAPE for all titles 0.7059065128434913\n",
      "SMAPE for the originals 0.9785188514428446\n",
      "running cvs at day -5\n",
      "keeps the titles above 80.0 percentile day1 viewed over all titles only\n",
      "only 1314 titles considered after popularity filter\n",
      "only 1009 titles considered after prelaunch filter\n",
      "the number of days is not large enough to use log ratio transformation\n",
      "X and y are ready based on the input params\n",
      "Do cross prediction for day -4\n"
     ]
    },
    {
     "name": "stderr",
     "output_type": "stream",
     "text": [
      "/home/ec2-user/SageMaker/max-datascience-content-airflow/Sagemaker_Models/actives_post_launch/lib/feature_engineering.py:283: UserWarning: Boolean Series key will be reindexed to match DataFrame index.\n",
      "  self.X_base = self.X[self.y!=-100]\n",
      "/home/ec2-user/SageMaker/max-datascience-content-airflow/Sagemaker_Models/actives_post_launch/lib/feature_engineering.py:285: UserWarning: Boolean Series key will be reindexed to match DataFrame index.\n",
      "  self.X_pred = self.X[((self.y==-100) & (self.X['platform_name']==1))]\n"
     ]
    },
    {
     "name": "stdout",
     "output_type": "stream",
     "text": [
      "SMAPE for all titles 0.710932326459334\n",
      "SMAPE for the originals 1.0222691655414486\n",
      "running cvs at day -4\n",
      "keeps the titles above 80.0 percentile day1 viewed over all titles only\n",
      "only 1314 titles considered after popularity filter\n",
      "only 1010 titles considered after prelaunch filter\n",
      "the number of days is not large enough to use log ratio transformation\n",
      "X and y are ready based on the input params\n",
      "Do cross prediction for day -3\n"
     ]
    },
    {
     "name": "stderr",
     "output_type": "stream",
     "text": [
      "/home/ec2-user/SageMaker/max-datascience-content-airflow/Sagemaker_Models/actives_post_launch/lib/feature_engineering.py:283: UserWarning: Boolean Series key will be reindexed to match DataFrame index.\n",
      "  self.X_base = self.X[self.y!=-100]\n",
      "/home/ec2-user/SageMaker/max-datascience-content-airflow/Sagemaker_Models/actives_post_launch/lib/feature_engineering.py:285: UserWarning: Boolean Series key will be reindexed to match DataFrame index.\n",
      "  self.X_pred = self.X[((self.y==-100) & (self.X['platform_name']==1))]\n"
     ]
    },
    {
     "name": "stdout",
     "output_type": "stream",
     "text": [
      "SMAPE for all titles 0.7104734733580301\n",
      "SMAPE for the originals 1.003011046980316\n",
      "running cvs at day -3\n",
      "keeps the titles above 80.0 percentile day1 viewed over all titles only\n",
      "only 1314 titles considered after popularity filter\n",
      "only 1010 titles considered after prelaunch filter\n",
      "the number of days is not large enough to use log ratio transformation\n",
      "X and y are ready based on the input params\n",
      "Do cross prediction for day -2\n"
     ]
    },
    {
     "name": "stderr",
     "output_type": "stream",
     "text": [
      "/home/ec2-user/SageMaker/max-datascience-content-airflow/Sagemaker_Models/actives_post_launch/lib/feature_engineering.py:283: UserWarning: Boolean Series key will be reindexed to match DataFrame index.\n",
      "  self.X_base = self.X[self.y!=-100]\n",
      "/home/ec2-user/SageMaker/max-datascience-content-airflow/Sagemaker_Models/actives_post_launch/lib/feature_engineering.py:285: UserWarning: Boolean Series key will be reindexed to match DataFrame index.\n",
      "  self.X_pred = self.X[((self.y==-100) & (self.X['platform_name']==1))]\n"
     ]
    },
    {
     "name": "stdout",
     "output_type": "stream",
     "text": [
      "SMAPE for all titles 0.7098344394002768\n",
      "SMAPE for the originals 1.0024526182152693\n",
      "running cvs at day -2\n",
      "keeps the titles above 80.0 percentile day1 viewed over all titles only\n",
      "only 1314 titles considered after popularity filter\n",
      "only 1010 titles considered after prelaunch filter\n",
      "the number of days is not large enough to use log ratio transformation\n",
      "X and y are ready based on the input params\n",
      "Do cross prediction for day -1\n"
     ]
    },
    {
     "name": "stderr",
     "output_type": "stream",
     "text": [
      "/home/ec2-user/SageMaker/max-datascience-content-airflow/Sagemaker_Models/actives_post_launch/lib/feature_engineering.py:283: UserWarning: Boolean Series key will be reindexed to match DataFrame index.\n",
      "  self.X_base = self.X[self.y!=-100]\n",
      "/home/ec2-user/SageMaker/max-datascience-content-airflow/Sagemaker_Models/actives_post_launch/lib/feature_engineering.py:285: UserWarning: Boolean Series key will be reindexed to match DataFrame index.\n",
      "  self.X_pred = self.X[((self.y==-100) & (self.X['platform_name']==1))]\n"
     ]
    },
    {
     "name": "stdout",
     "output_type": "stream",
     "text": [
      "SMAPE for all titles 0.7085588187699436\n",
      "SMAPE for the originals 0.998992023494787\n",
      "running cvs at day -1\n",
      "keeps the titles above 80.0 percentile day1 viewed over all titles only\n",
      "only 1314 titles considered after popularity filter\n",
      "only 1012 titles considered after prelaunch filter\n",
      "the number of days is not large enough to use log ratio transformation\n",
      "X and y are ready based on the input params\n",
      "Do cross prediction for day 0\n"
     ]
    },
    {
     "name": "stderr",
     "output_type": "stream",
     "text": [
      "/home/ec2-user/SageMaker/max-datascience-content-airflow/Sagemaker_Models/actives_post_launch/lib/feature_engineering.py:283: UserWarning: Boolean Series key will be reindexed to match DataFrame index.\n",
      "  self.X_base = self.X[self.y!=-100]\n",
      "/home/ec2-user/SageMaker/max-datascience-content-airflow/Sagemaker_Models/actives_post_launch/lib/feature_engineering.py:285: UserWarning: Boolean Series key will be reindexed to match DataFrame index.\n",
      "  self.X_pred = self.X[((self.y==-100) & (self.X['platform_name']==1))]\n"
     ]
    },
    {
     "name": "stdout",
     "output_type": "stream",
     "text": [
      "SMAPE for all titles 0.7007345368586007\n",
      "SMAPE for the originals 0.9816108033813208\n",
      "running cvs at day 0\n",
      "keeps the titles above 80.0 percentile day1 viewed over all titles only\n",
      "only 1314 titles considered after popularity filter\n",
      "X and y are ready based on the input params\n",
      "Tune parameter for day 1\n",
      "parameter combination 1\n"
     ]
    },
    {
     "name": "stderr",
     "output_type": "stream",
     "text": [
      "/home/ec2-user/anaconda3/envs/python3/lib/python3.6/site-packages/lightgbm/engine.py:148: UserWarning: Found `num_boost_round` in params. Will use it instead of argument\n",
      "  _log_warning(\"Found `{}` in params. Will use it instead of argument\".format(alias))\n"
     ]
    },
    {
     "name": "stdout",
     "output_type": "stream",
     "text": [
      "parameter combination 2\n"
     ]
    },
    {
     "name": "stderr",
     "output_type": "stream",
     "text": [
      "/home/ec2-user/anaconda3/envs/python3/lib/python3.6/site-packages/lightgbm/engine.py:148: UserWarning: Found `num_boost_round` in params. Will use it instead of argument\n",
      "  _log_warning(\"Found `{}` in params. Will use it instead of argument\".format(alias))\n"
     ]
    },
    {
     "name": "stdout",
     "output_type": "stream",
     "text": [
      "parameter combination 3\n"
     ]
    },
    {
     "name": "stderr",
     "output_type": "stream",
     "text": [
      "/home/ec2-user/anaconda3/envs/python3/lib/python3.6/site-packages/lightgbm/engine.py:148: UserWarning: Found `num_boost_round` in params. Will use it instead of argument\n",
      "  _log_warning(\"Found `{}` in params. Will use it instead of argument\".format(alias))\n"
     ]
    },
    {
     "name": "stdout",
     "output_type": "stream",
     "text": [
      "parameter combination 4\n"
     ]
    },
    {
     "name": "stderr",
     "output_type": "stream",
     "text": [
      "/home/ec2-user/anaconda3/envs/python3/lib/python3.6/site-packages/lightgbm/engine.py:148: UserWarning: Found `num_boost_round` in params. Will use it instead of argument\n",
      "  _log_warning(\"Found `{}` in params. Will use it instead of argument\".format(alias))\n"
     ]
    },
    {
     "name": "stdout",
     "output_type": "stream",
     "text": [
      "parameter combination 5\n"
     ]
    },
    {
     "name": "stderr",
     "output_type": "stream",
     "text": [
      "/home/ec2-user/anaconda3/envs/python3/lib/python3.6/site-packages/lightgbm/engine.py:148: UserWarning: Found `num_boost_round` in params. Will use it instead of argument\n",
      "  _log_warning(\"Found `{}` in params. Will use it instead of argument\".format(alias))\n"
     ]
    },
    {
     "name": "stdout",
     "output_type": "stream",
     "text": [
      "parameter combination 6\n"
     ]
    },
    {
     "name": "stderr",
     "output_type": "stream",
     "text": [
      "/home/ec2-user/anaconda3/envs/python3/lib/python3.6/site-packages/lightgbm/engine.py:148: UserWarning: Found `num_boost_round` in params. Will use it instead of argument\n",
      "  _log_warning(\"Found `{}` in params. Will use it instead of argument\".format(alias))\n"
     ]
    },
    {
     "name": "stdout",
     "output_type": "stream",
     "text": [
      "parameter combination 7\n"
     ]
    },
    {
     "name": "stderr",
     "output_type": "stream",
     "text": [
      "/home/ec2-user/anaconda3/envs/python3/lib/python3.6/site-packages/lightgbm/engine.py:148: UserWarning: Found `num_boost_round` in params. Will use it instead of argument\n",
      "  _log_warning(\"Found `{}` in params. Will use it instead of argument\".format(alias))\n"
     ]
    },
    {
     "name": "stdout",
     "output_type": "stream",
     "text": [
      "parameter combination 8\n"
     ]
    },
    {
     "name": "stderr",
     "output_type": "stream",
     "text": [
      "/home/ec2-user/anaconda3/envs/python3/lib/python3.6/site-packages/lightgbm/engine.py:148: UserWarning: Found `num_boost_round` in params. Will use it instead of argument\n",
      "  _log_warning(\"Found `{}` in params. Will use it instead of argument\".format(alias))\n"
     ]
    },
    {
     "name": "stdout",
     "output_type": "stream",
     "text": [
      "SMAPE for all titles 0.4151634736840162\n",
      "SMAPE for the originals 0.5103643156060886\n",
      "running cvs at day 1\n",
      "keeps the titles above 80.0 percentile day1 viewed over all titles only\n",
      "only 1314 titles considered after popularity filter\n",
      "X and y are ready based on the input params\n",
      "Tune parameter for day 2\n",
      "parameter combination 1\n"
     ]
    },
    {
     "name": "stderr",
     "output_type": "stream",
     "text": [
      "/home/ec2-user/anaconda3/envs/python3/lib/python3.6/site-packages/lightgbm/engine.py:148: UserWarning: Found `num_boost_round` in params. Will use it instead of argument\n",
      "  _log_warning(\"Found `{}` in params. Will use it instead of argument\".format(alias))\n"
     ]
    },
    {
     "name": "stdout",
     "output_type": "stream",
     "text": [
      "parameter combination 2\n"
     ]
    },
    {
     "name": "stderr",
     "output_type": "stream",
     "text": [
      "/home/ec2-user/anaconda3/envs/python3/lib/python3.6/site-packages/lightgbm/engine.py:148: UserWarning: Found `num_boost_round` in params. Will use it instead of argument\n",
      "  _log_warning(\"Found `{}` in params. Will use it instead of argument\".format(alias))\n"
     ]
    },
    {
     "name": "stdout",
     "output_type": "stream",
     "text": [
      "parameter combination 3\n"
     ]
    },
    {
     "name": "stderr",
     "output_type": "stream",
     "text": [
      "/home/ec2-user/anaconda3/envs/python3/lib/python3.6/site-packages/lightgbm/engine.py:148: UserWarning: Found `num_boost_round` in params. Will use it instead of argument\n",
      "  _log_warning(\"Found `{}` in params. Will use it instead of argument\".format(alias))\n"
     ]
    },
    {
     "name": "stdout",
     "output_type": "stream",
     "text": [
      "parameter combination 4\n"
     ]
    },
    {
     "name": "stderr",
     "output_type": "stream",
     "text": [
      "/home/ec2-user/anaconda3/envs/python3/lib/python3.6/site-packages/lightgbm/engine.py:148: UserWarning: Found `num_boost_round` in params. Will use it instead of argument\n",
      "  _log_warning(\"Found `{}` in params. Will use it instead of argument\".format(alias))\n"
     ]
    },
    {
     "name": "stdout",
     "output_type": "stream",
     "text": [
      "parameter combination 5\n"
     ]
    },
    {
     "name": "stderr",
     "output_type": "stream",
     "text": [
      "/home/ec2-user/anaconda3/envs/python3/lib/python3.6/site-packages/lightgbm/engine.py:148: UserWarning: Found `num_boost_round` in params. Will use it instead of argument\n",
      "  _log_warning(\"Found `{}` in params. Will use it instead of argument\".format(alias))\n"
     ]
    },
    {
     "name": "stdout",
     "output_type": "stream",
     "text": [
      "parameter combination 6\n"
     ]
    },
    {
     "name": "stderr",
     "output_type": "stream",
     "text": [
      "/home/ec2-user/anaconda3/envs/python3/lib/python3.6/site-packages/lightgbm/engine.py:148: UserWarning: Found `num_boost_round` in params. Will use it instead of argument\n",
      "  _log_warning(\"Found `{}` in params. Will use it instead of argument\".format(alias))\n"
     ]
    },
    {
     "name": "stdout",
     "output_type": "stream",
     "text": [
      "parameter combination 7\n"
     ]
    },
    {
     "name": "stderr",
     "output_type": "stream",
     "text": [
      "/home/ec2-user/anaconda3/envs/python3/lib/python3.6/site-packages/lightgbm/engine.py:148: UserWarning: Found `num_boost_round` in params. Will use it instead of argument\n",
      "  _log_warning(\"Found `{}` in params. Will use it instead of argument\".format(alias))\n"
     ]
    },
    {
     "name": "stdout",
     "output_type": "stream",
     "text": [
      "parameter combination 8\n"
     ]
    },
    {
     "name": "stderr",
     "output_type": "stream",
     "text": [
      "/home/ec2-user/anaconda3/envs/python3/lib/python3.6/site-packages/lightgbm/engine.py:148: UserWarning: Found `num_boost_round` in params. Will use it instead of argument\n",
      "  _log_warning(\"Found `{}` in params. Will use it instead of argument\".format(alias))\n"
     ]
    },
    {
     "name": "stdout",
     "output_type": "stream",
     "text": [
      "SMAPE for all titles 0.4075364644239609\n",
      "SMAPE for the originals 0.46232007755722615\n",
      "running cvs at day 2\n",
      "keeps the titles above 80.0 percentile day1 viewed over all titles only\n",
      "only 1314 titles considered after popularity filter\n",
      "X and y are ready based on the input params\n",
      "Tune parameter for day 3\n",
      "parameter combination 1\n"
     ]
    },
    {
     "name": "stderr",
     "output_type": "stream",
     "text": [
      "/home/ec2-user/anaconda3/envs/python3/lib/python3.6/site-packages/lightgbm/engine.py:148: UserWarning: Found `num_boost_round` in params. Will use it instead of argument\n",
      "  _log_warning(\"Found `{}` in params. Will use it instead of argument\".format(alias))\n"
     ]
    },
    {
     "name": "stdout",
     "output_type": "stream",
     "text": [
      "parameter combination 2\n"
     ]
    },
    {
     "name": "stderr",
     "output_type": "stream",
     "text": [
      "/home/ec2-user/anaconda3/envs/python3/lib/python3.6/site-packages/lightgbm/engine.py:148: UserWarning: Found `num_boost_round` in params. Will use it instead of argument\n",
      "  _log_warning(\"Found `{}` in params. Will use it instead of argument\".format(alias))\n"
     ]
    },
    {
     "name": "stdout",
     "output_type": "stream",
     "text": [
      "parameter combination 3\n"
     ]
    },
    {
     "name": "stderr",
     "output_type": "stream",
     "text": [
      "/home/ec2-user/anaconda3/envs/python3/lib/python3.6/site-packages/lightgbm/engine.py:148: UserWarning: Found `num_boost_round` in params. Will use it instead of argument\n",
      "  _log_warning(\"Found `{}` in params. Will use it instead of argument\".format(alias))\n"
     ]
    },
    {
     "name": "stdout",
     "output_type": "stream",
     "text": [
      "parameter combination 4\n"
     ]
    },
    {
     "name": "stderr",
     "output_type": "stream",
     "text": [
      "/home/ec2-user/anaconda3/envs/python3/lib/python3.6/site-packages/lightgbm/engine.py:148: UserWarning: Found `num_boost_round` in params. Will use it instead of argument\n",
      "  _log_warning(\"Found `{}` in params. Will use it instead of argument\".format(alias))\n"
     ]
    },
    {
     "name": "stdout",
     "output_type": "stream",
     "text": [
      "parameter combination 5\n"
     ]
    },
    {
     "name": "stderr",
     "output_type": "stream",
     "text": [
      "/home/ec2-user/anaconda3/envs/python3/lib/python3.6/site-packages/lightgbm/engine.py:148: UserWarning: Found `num_boost_round` in params. Will use it instead of argument\n",
      "  _log_warning(\"Found `{}` in params. Will use it instead of argument\".format(alias))\n"
     ]
    },
    {
     "name": "stdout",
     "output_type": "stream",
     "text": [
      "parameter combination 6\n"
     ]
    },
    {
     "name": "stderr",
     "output_type": "stream",
     "text": [
      "/home/ec2-user/anaconda3/envs/python3/lib/python3.6/site-packages/lightgbm/engine.py:148: UserWarning: Found `num_boost_round` in params. Will use it instead of argument\n",
      "  _log_warning(\"Found `{}` in params. Will use it instead of argument\".format(alias))\n"
     ]
    },
    {
     "name": "stdout",
     "output_type": "stream",
     "text": [
      "parameter combination 7\n"
     ]
    },
    {
     "name": "stderr",
     "output_type": "stream",
     "text": [
      "/home/ec2-user/anaconda3/envs/python3/lib/python3.6/site-packages/lightgbm/engine.py:148: UserWarning: Found `num_boost_round` in params. Will use it instead of argument\n",
      "  _log_warning(\"Found `{}` in params. Will use it instead of argument\".format(alias))\n"
     ]
    },
    {
     "name": "stdout",
     "output_type": "stream",
     "text": [
      "parameter combination 8\n"
     ]
    },
    {
     "name": "stderr",
     "output_type": "stream",
     "text": [
      "/home/ec2-user/anaconda3/envs/python3/lib/python3.6/site-packages/lightgbm/engine.py:148: UserWarning: Found `num_boost_round` in params. Will use it instead of argument\n",
      "  _log_warning(\"Found `{}` in params. Will use it instead of argument\".format(alias))\n"
     ]
    },
    {
     "name": "stdout",
     "output_type": "stream",
     "text": [
      "SMAPE for all titles 0.3938157992282658\n",
      "SMAPE for the originals 0.4723289914705869\n",
      "running cvs at day 3\n",
      "keeps the titles above 80.0 percentile day1 viewed over all titles only\n",
      "only 1314 titles considered after popularity filter\n",
      "X and y are ready based on the input params\n",
      "Tune parameter for day 4\n",
      "parameter combination 1\n"
     ]
    },
    {
     "name": "stderr",
     "output_type": "stream",
     "text": [
      "/home/ec2-user/anaconda3/envs/python3/lib/python3.6/site-packages/lightgbm/engine.py:148: UserWarning: Found `num_boost_round` in params. Will use it instead of argument\n",
      "  _log_warning(\"Found `{}` in params. Will use it instead of argument\".format(alias))\n"
     ]
    },
    {
     "name": "stdout",
     "output_type": "stream",
     "text": [
      "parameter combination 2\n"
     ]
    },
    {
     "name": "stderr",
     "output_type": "stream",
     "text": [
      "/home/ec2-user/anaconda3/envs/python3/lib/python3.6/site-packages/lightgbm/engine.py:148: UserWarning: Found `num_boost_round` in params. Will use it instead of argument\n",
      "  _log_warning(\"Found `{}` in params. Will use it instead of argument\".format(alias))\n"
     ]
    },
    {
     "name": "stdout",
     "output_type": "stream",
     "text": [
      "parameter combination 3\n"
     ]
    },
    {
     "name": "stderr",
     "output_type": "stream",
     "text": [
      "/home/ec2-user/anaconda3/envs/python3/lib/python3.6/site-packages/lightgbm/engine.py:148: UserWarning: Found `num_boost_round` in params. Will use it instead of argument\n",
      "  _log_warning(\"Found `{}` in params. Will use it instead of argument\".format(alias))\n"
     ]
    },
    {
     "name": "stdout",
     "output_type": "stream",
     "text": [
      "parameter combination 4\n"
     ]
    },
    {
     "name": "stderr",
     "output_type": "stream",
     "text": [
      "/home/ec2-user/anaconda3/envs/python3/lib/python3.6/site-packages/lightgbm/engine.py:148: UserWarning: Found `num_boost_round` in params. Will use it instead of argument\n",
      "  _log_warning(\"Found `{}` in params. Will use it instead of argument\".format(alias))\n"
     ]
    },
    {
     "name": "stdout",
     "output_type": "stream",
     "text": [
      "parameter combination 5\n"
     ]
    },
    {
     "name": "stderr",
     "output_type": "stream",
     "text": [
      "/home/ec2-user/anaconda3/envs/python3/lib/python3.6/site-packages/lightgbm/engine.py:148: UserWarning: Found `num_boost_round` in params. Will use it instead of argument\n",
      "  _log_warning(\"Found `{}` in params. Will use it instead of argument\".format(alias))\n"
     ]
    },
    {
     "name": "stdout",
     "output_type": "stream",
     "text": [
      "parameter combination 6\n"
     ]
    },
    {
     "name": "stderr",
     "output_type": "stream",
     "text": [
      "/home/ec2-user/anaconda3/envs/python3/lib/python3.6/site-packages/lightgbm/engine.py:148: UserWarning: Found `num_boost_round` in params. Will use it instead of argument\n",
      "  _log_warning(\"Found `{}` in params. Will use it instead of argument\".format(alias))\n"
     ]
    },
    {
     "name": "stdout",
     "output_type": "stream",
     "text": [
      "parameter combination 7\n"
     ]
    },
    {
     "name": "stderr",
     "output_type": "stream",
     "text": [
      "/home/ec2-user/anaconda3/envs/python3/lib/python3.6/site-packages/lightgbm/engine.py:148: UserWarning: Found `num_boost_round` in params. Will use it instead of argument\n",
      "  _log_warning(\"Found `{}` in params. Will use it instead of argument\".format(alias))\n"
     ]
    },
    {
     "name": "stdout",
     "output_type": "stream",
     "text": [
      "parameter combination 8\n"
     ]
    },
    {
     "name": "stderr",
     "output_type": "stream",
     "text": [
      "/home/ec2-user/anaconda3/envs/python3/lib/python3.6/site-packages/lightgbm/engine.py:148: UserWarning: Found `num_boost_round` in params. Will use it instead of argument\n",
      "  _log_warning(\"Found `{}` in params. Will use it instead of argument\".format(alias))\n"
     ]
    },
    {
     "name": "stdout",
     "output_type": "stream",
     "text": [
      "SMAPE for all titles 0.3804796080933705\n",
      "SMAPE for the originals 0.4639024385618051\n",
      "running cvs at day 4\n",
      "keeps the titles above 80.0 percentile day1 viewed over all titles only\n",
      "only 1314 titles considered after popularity filter\n",
      "X and y are ready based on the input params\n",
      "Tune parameter for day 5\n",
      "parameter combination 1\n"
     ]
    },
    {
     "name": "stderr",
     "output_type": "stream",
     "text": [
      "/home/ec2-user/anaconda3/envs/python3/lib/python3.6/site-packages/lightgbm/engine.py:148: UserWarning: Found `num_boost_round` in params. Will use it instead of argument\n",
      "  _log_warning(\"Found `{}` in params. Will use it instead of argument\".format(alias))\n"
     ]
    },
    {
     "name": "stdout",
     "output_type": "stream",
     "text": [
      "parameter combination 2\n"
     ]
    },
    {
     "name": "stderr",
     "output_type": "stream",
     "text": [
      "/home/ec2-user/anaconda3/envs/python3/lib/python3.6/site-packages/lightgbm/engine.py:148: UserWarning: Found `num_boost_round` in params. Will use it instead of argument\n",
      "  _log_warning(\"Found `{}` in params. Will use it instead of argument\".format(alias))\n"
     ]
    },
    {
     "name": "stdout",
     "output_type": "stream",
     "text": [
      "parameter combination 3\n"
     ]
    },
    {
     "name": "stderr",
     "output_type": "stream",
     "text": [
      "/home/ec2-user/anaconda3/envs/python3/lib/python3.6/site-packages/lightgbm/engine.py:148: UserWarning: Found `num_boost_round` in params. Will use it instead of argument\n",
      "  _log_warning(\"Found `{}` in params. Will use it instead of argument\".format(alias))\n"
     ]
    },
    {
     "name": "stdout",
     "output_type": "stream",
     "text": [
      "parameter combination 4\n"
     ]
    },
    {
     "name": "stderr",
     "output_type": "stream",
     "text": [
      "/home/ec2-user/anaconda3/envs/python3/lib/python3.6/site-packages/lightgbm/engine.py:148: UserWarning: Found `num_boost_round` in params. Will use it instead of argument\n",
      "  _log_warning(\"Found `{}` in params. Will use it instead of argument\".format(alias))\n"
     ]
    },
    {
     "name": "stdout",
     "output_type": "stream",
     "text": [
      "parameter combination 5\n"
     ]
    },
    {
     "name": "stderr",
     "output_type": "stream",
     "text": [
      "/home/ec2-user/anaconda3/envs/python3/lib/python3.6/site-packages/lightgbm/engine.py:148: UserWarning: Found `num_boost_round` in params. Will use it instead of argument\n",
      "  _log_warning(\"Found `{}` in params. Will use it instead of argument\".format(alias))\n"
     ]
    },
    {
     "name": "stdout",
     "output_type": "stream",
     "text": [
      "parameter combination 6\n"
     ]
    },
    {
     "name": "stderr",
     "output_type": "stream",
     "text": [
      "/home/ec2-user/anaconda3/envs/python3/lib/python3.6/site-packages/lightgbm/engine.py:148: UserWarning: Found `num_boost_round` in params. Will use it instead of argument\n",
      "  _log_warning(\"Found `{}` in params. Will use it instead of argument\".format(alias))\n"
     ]
    },
    {
     "name": "stdout",
     "output_type": "stream",
     "text": [
      "parameter combination 7\n"
     ]
    },
    {
     "name": "stderr",
     "output_type": "stream",
     "text": [
      "/home/ec2-user/anaconda3/envs/python3/lib/python3.6/site-packages/lightgbm/engine.py:148: UserWarning: Found `num_boost_round` in params. Will use it instead of argument\n",
      "  _log_warning(\"Found `{}` in params. Will use it instead of argument\".format(alias))\n"
     ]
    },
    {
     "name": "stdout",
     "output_type": "stream",
     "text": [
      "parameter combination 8\n"
     ]
    },
    {
     "name": "stderr",
     "output_type": "stream",
     "text": [
      "/home/ec2-user/anaconda3/envs/python3/lib/python3.6/site-packages/lightgbm/engine.py:148: UserWarning: Found `num_boost_round` in params. Will use it instead of argument\n",
      "  _log_warning(\"Found `{}` in params. Will use it instead of argument\".format(alias))\n"
     ]
    },
    {
     "name": "stdout",
     "output_type": "stream",
     "text": [
      "SMAPE for all titles 0.3609728561559843\n",
      "SMAPE for the originals 0.4453458588800561\n",
      "running cvs at day 5\n",
      "keeps the titles above 80.0 percentile day1 viewed over all titles only\n",
      "only 1314 titles considered after popularity filter\n",
      "X and y are ready based on the input params\n",
      "Tune parameter for day 6\n",
      "parameter combination 1\n"
     ]
    },
    {
     "name": "stderr",
     "output_type": "stream",
     "text": [
      "/home/ec2-user/anaconda3/envs/python3/lib/python3.6/site-packages/lightgbm/engine.py:148: UserWarning: Found `num_boost_round` in params. Will use it instead of argument\n",
      "  _log_warning(\"Found `{}` in params. Will use it instead of argument\".format(alias))\n"
     ]
    },
    {
     "name": "stdout",
     "output_type": "stream",
     "text": [
      "parameter combination 2\n"
     ]
    },
    {
     "name": "stderr",
     "output_type": "stream",
     "text": [
      "/home/ec2-user/anaconda3/envs/python3/lib/python3.6/site-packages/lightgbm/engine.py:148: UserWarning: Found `num_boost_round` in params. Will use it instead of argument\n",
      "  _log_warning(\"Found `{}` in params. Will use it instead of argument\".format(alias))\n"
     ]
    },
    {
     "name": "stdout",
     "output_type": "stream",
     "text": [
      "parameter combination 3\n"
     ]
    },
    {
     "name": "stderr",
     "output_type": "stream",
     "text": [
      "/home/ec2-user/anaconda3/envs/python3/lib/python3.6/site-packages/lightgbm/engine.py:148: UserWarning: Found `num_boost_round` in params. Will use it instead of argument\n",
      "  _log_warning(\"Found `{}` in params. Will use it instead of argument\".format(alias))\n"
     ]
    },
    {
     "name": "stdout",
     "output_type": "stream",
     "text": [
      "parameter combination 4\n"
     ]
    },
    {
     "name": "stderr",
     "output_type": "stream",
     "text": [
      "/home/ec2-user/anaconda3/envs/python3/lib/python3.6/site-packages/lightgbm/engine.py:148: UserWarning: Found `num_boost_round` in params. Will use it instead of argument\n",
      "  _log_warning(\"Found `{}` in params. Will use it instead of argument\".format(alias))\n"
     ]
    },
    {
     "name": "stdout",
     "output_type": "stream",
     "text": [
      "parameter combination 5\n"
     ]
    },
    {
     "name": "stderr",
     "output_type": "stream",
     "text": [
      "/home/ec2-user/anaconda3/envs/python3/lib/python3.6/site-packages/lightgbm/engine.py:148: UserWarning: Found `num_boost_round` in params. Will use it instead of argument\n",
      "  _log_warning(\"Found `{}` in params. Will use it instead of argument\".format(alias))\n"
     ]
    },
    {
     "name": "stdout",
     "output_type": "stream",
     "text": [
      "parameter combination 6\n"
     ]
    },
    {
     "name": "stderr",
     "output_type": "stream",
     "text": [
      "/home/ec2-user/anaconda3/envs/python3/lib/python3.6/site-packages/lightgbm/engine.py:148: UserWarning: Found `num_boost_round` in params. Will use it instead of argument\n",
      "  _log_warning(\"Found `{}` in params. Will use it instead of argument\".format(alias))\n"
     ]
    },
    {
     "name": "stdout",
     "output_type": "stream",
     "text": [
      "parameter combination 7\n"
     ]
    },
    {
     "name": "stderr",
     "output_type": "stream",
     "text": [
      "/home/ec2-user/anaconda3/envs/python3/lib/python3.6/site-packages/lightgbm/engine.py:148: UserWarning: Found `num_boost_round` in params. Will use it instead of argument\n",
      "  _log_warning(\"Found `{}` in params. Will use it instead of argument\".format(alias))\n"
     ]
    },
    {
     "name": "stdout",
     "output_type": "stream",
     "text": [
      "parameter combination 8\n"
     ]
    },
    {
     "name": "stderr",
     "output_type": "stream",
     "text": [
      "/home/ec2-user/anaconda3/envs/python3/lib/python3.6/site-packages/lightgbm/engine.py:148: UserWarning: Found `num_boost_round` in params. Will use it instead of argument\n",
      "  _log_warning(\"Found `{}` in params. Will use it instead of argument\".format(alias))\n"
     ]
    },
    {
     "name": "stdout",
     "output_type": "stream",
     "text": [
      "SMAPE for all titles 0.343647421674003\n",
      "SMAPE for the originals 0.44280944724597415\n",
      "running cvs at day 6\n",
      "keeps the titles above 80.0 percentile day1 viewed over all titles only\n",
      "only 1314 titles considered after popularity filter\n",
      "X and y are ready based on the input params\n",
      "Tune parameter for day 7\n",
      "parameter combination 1\n"
     ]
    },
    {
     "name": "stderr",
     "output_type": "stream",
     "text": [
      "/home/ec2-user/anaconda3/envs/python3/lib/python3.6/site-packages/lightgbm/engine.py:148: UserWarning: Found `num_boost_round` in params. Will use it instead of argument\n",
      "  _log_warning(\"Found `{}` in params. Will use it instead of argument\".format(alias))\n"
     ]
    },
    {
     "name": "stdout",
     "output_type": "stream",
     "text": [
      "parameter combination 2\n"
     ]
    },
    {
     "name": "stderr",
     "output_type": "stream",
     "text": [
      "/home/ec2-user/anaconda3/envs/python3/lib/python3.6/site-packages/lightgbm/engine.py:148: UserWarning: Found `num_boost_round` in params. Will use it instead of argument\n",
      "  _log_warning(\"Found `{}` in params. Will use it instead of argument\".format(alias))\n"
     ]
    },
    {
     "name": "stdout",
     "output_type": "stream",
     "text": [
      "parameter combination 3\n"
     ]
    },
    {
     "name": "stderr",
     "output_type": "stream",
     "text": [
      "/home/ec2-user/anaconda3/envs/python3/lib/python3.6/site-packages/lightgbm/engine.py:148: UserWarning: Found `num_boost_round` in params. Will use it instead of argument\n",
      "  _log_warning(\"Found `{}` in params. Will use it instead of argument\".format(alias))\n"
     ]
    },
    {
     "name": "stdout",
     "output_type": "stream",
     "text": [
      "parameter combination 4\n"
     ]
    },
    {
     "name": "stderr",
     "output_type": "stream",
     "text": [
      "/home/ec2-user/anaconda3/envs/python3/lib/python3.6/site-packages/lightgbm/engine.py:148: UserWarning: Found `num_boost_round` in params. Will use it instead of argument\n",
      "  _log_warning(\"Found `{}` in params. Will use it instead of argument\".format(alias))\n"
     ]
    },
    {
     "name": "stdout",
     "output_type": "stream",
     "text": [
      "parameter combination 5\n"
     ]
    },
    {
     "name": "stderr",
     "output_type": "stream",
     "text": [
      "/home/ec2-user/anaconda3/envs/python3/lib/python3.6/site-packages/lightgbm/engine.py:148: UserWarning: Found `num_boost_round` in params. Will use it instead of argument\n",
      "  _log_warning(\"Found `{}` in params. Will use it instead of argument\".format(alias))\n"
     ]
    },
    {
     "name": "stdout",
     "output_type": "stream",
     "text": [
      "parameter combination 6\n"
     ]
    },
    {
     "name": "stderr",
     "output_type": "stream",
     "text": [
      "/home/ec2-user/anaconda3/envs/python3/lib/python3.6/site-packages/lightgbm/engine.py:148: UserWarning: Found `num_boost_round` in params. Will use it instead of argument\n",
      "  _log_warning(\"Found `{}` in params. Will use it instead of argument\".format(alias))\n"
     ]
    },
    {
     "name": "stdout",
     "output_type": "stream",
     "text": [
      "parameter combination 7\n"
     ]
    },
    {
     "name": "stderr",
     "output_type": "stream",
     "text": [
      "/home/ec2-user/anaconda3/envs/python3/lib/python3.6/site-packages/lightgbm/engine.py:148: UserWarning: Found `num_boost_round` in params. Will use it instead of argument\n",
      "  _log_warning(\"Found `{}` in params. Will use it instead of argument\".format(alias))\n"
     ]
    },
    {
     "name": "stdout",
     "output_type": "stream",
     "text": [
      "parameter combination 8\n"
     ]
    },
    {
     "name": "stderr",
     "output_type": "stream",
     "text": [
      "/home/ec2-user/anaconda3/envs/python3/lib/python3.6/site-packages/lightgbm/engine.py:148: UserWarning: Found `num_boost_round` in params. Will use it instead of argument\n",
      "  _log_warning(\"Found `{}` in params. Will use it instead of argument\".format(alias))\n"
     ]
    },
    {
     "name": "stdout",
     "output_type": "stream",
     "text": [
      "SMAPE for all titles 0.35777074572888784\n",
      "SMAPE for the originals 0.46683887197272705\n",
      "running cvs at day 7\n",
      "keeps the titles above 80.0 percentile day1 viewed over all titles only\n",
      "only 1314 titles considered after popularity filter\n",
      "X and y are ready based on the input params\n",
      "Tune parameter for day 8\n",
      "parameter combination 1\n"
     ]
    },
    {
     "name": "stderr",
     "output_type": "stream",
     "text": [
      "/home/ec2-user/anaconda3/envs/python3/lib/python3.6/site-packages/lightgbm/engine.py:148: UserWarning: Found `num_boost_round` in params. Will use it instead of argument\n",
      "  _log_warning(\"Found `{}` in params. Will use it instead of argument\".format(alias))\n"
     ]
    },
    {
     "name": "stdout",
     "output_type": "stream",
     "text": [
      "parameter combination 2\n"
     ]
    },
    {
     "name": "stderr",
     "output_type": "stream",
     "text": [
      "/home/ec2-user/anaconda3/envs/python3/lib/python3.6/site-packages/lightgbm/engine.py:148: UserWarning: Found `num_boost_round` in params. Will use it instead of argument\n",
      "  _log_warning(\"Found `{}` in params. Will use it instead of argument\".format(alias))\n"
     ]
    },
    {
     "name": "stdout",
     "output_type": "stream",
     "text": [
      "parameter combination 3\n"
     ]
    },
    {
     "name": "stderr",
     "output_type": "stream",
     "text": [
      "/home/ec2-user/anaconda3/envs/python3/lib/python3.6/site-packages/lightgbm/engine.py:148: UserWarning: Found `num_boost_round` in params. Will use it instead of argument\n",
      "  _log_warning(\"Found `{}` in params. Will use it instead of argument\".format(alias))\n"
     ]
    },
    {
     "name": "stdout",
     "output_type": "stream",
     "text": [
      "parameter combination 4\n"
     ]
    },
    {
     "name": "stderr",
     "output_type": "stream",
     "text": [
      "/home/ec2-user/anaconda3/envs/python3/lib/python3.6/site-packages/lightgbm/engine.py:148: UserWarning: Found `num_boost_round` in params. Will use it instead of argument\n",
      "  _log_warning(\"Found `{}` in params. Will use it instead of argument\".format(alias))\n"
     ]
    },
    {
     "name": "stdout",
     "output_type": "stream",
     "text": [
      "parameter combination 5\n"
     ]
    },
    {
     "name": "stderr",
     "output_type": "stream",
     "text": [
      "/home/ec2-user/anaconda3/envs/python3/lib/python3.6/site-packages/lightgbm/engine.py:148: UserWarning: Found `num_boost_round` in params. Will use it instead of argument\n",
      "  _log_warning(\"Found `{}` in params. Will use it instead of argument\".format(alias))\n"
     ]
    },
    {
     "name": "stdout",
     "output_type": "stream",
     "text": [
      "parameter combination 6\n"
     ]
    },
    {
     "name": "stderr",
     "output_type": "stream",
     "text": [
      "/home/ec2-user/anaconda3/envs/python3/lib/python3.6/site-packages/lightgbm/engine.py:148: UserWarning: Found `num_boost_round` in params. Will use it instead of argument\n",
      "  _log_warning(\"Found `{}` in params. Will use it instead of argument\".format(alias))\n"
     ]
    },
    {
     "name": "stdout",
     "output_type": "stream",
     "text": [
      "parameter combination 7\n"
     ]
    },
    {
     "name": "stderr",
     "output_type": "stream",
     "text": [
      "/home/ec2-user/anaconda3/envs/python3/lib/python3.6/site-packages/lightgbm/engine.py:148: UserWarning: Found `num_boost_round` in params. Will use it instead of argument\n",
      "  _log_warning(\"Found `{}` in params. Will use it instead of argument\".format(alias))\n"
     ]
    },
    {
     "name": "stdout",
     "output_type": "stream",
     "text": [
      "parameter combination 8\n"
     ]
    },
    {
     "name": "stderr",
     "output_type": "stream",
     "text": [
      "/home/ec2-user/anaconda3/envs/python3/lib/python3.6/site-packages/lightgbm/engine.py:148: UserWarning: Found `num_boost_round` in params. Will use it instead of argument\n",
      "  _log_warning(\"Found `{}` in params. Will use it instead of argument\".format(alias))\n"
     ]
    },
    {
     "name": "stdout",
     "output_type": "stream",
     "text": [
      "SMAPE for all titles 0.3817567795051302\n",
      "SMAPE for the originals 0.470195059669256\n",
      "running cvs at day 8\n",
      "keeps the titles above 80.0 percentile day1 viewed over all titles only\n",
      "only 1314 titles considered after popularity filter\n",
      "X and y are ready based on the input params\n",
      "Tune parameter for day 9\n",
      "parameter combination 1\n"
     ]
    },
    {
     "name": "stderr",
     "output_type": "stream",
     "text": [
      "/home/ec2-user/anaconda3/envs/python3/lib/python3.6/site-packages/lightgbm/engine.py:148: UserWarning: Found `num_boost_round` in params. Will use it instead of argument\n",
      "  _log_warning(\"Found `{}` in params. Will use it instead of argument\".format(alias))\n"
     ]
    },
    {
     "name": "stdout",
     "output_type": "stream",
     "text": [
      "parameter combination 2\n"
     ]
    },
    {
     "name": "stderr",
     "output_type": "stream",
     "text": [
      "/home/ec2-user/anaconda3/envs/python3/lib/python3.6/site-packages/lightgbm/engine.py:148: UserWarning: Found `num_boost_round` in params. Will use it instead of argument\n",
      "  _log_warning(\"Found `{}` in params. Will use it instead of argument\".format(alias))\n"
     ]
    },
    {
     "name": "stdout",
     "output_type": "stream",
     "text": [
      "parameter combination 3\n"
     ]
    },
    {
     "name": "stderr",
     "output_type": "stream",
     "text": [
      "/home/ec2-user/anaconda3/envs/python3/lib/python3.6/site-packages/lightgbm/engine.py:148: UserWarning: Found `num_boost_round` in params. Will use it instead of argument\n",
      "  _log_warning(\"Found `{}` in params. Will use it instead of argument\".format(alias))\n"
     ]
    },
    {
     "name": "stdout",
     "output_type": "stream",
     "text": [
      "parameter combination 4\n"
     ]
    },
    {
     "name": "stderr",
     "output_type": "stream",
     "text": [
      "/home/ec2-user/anaconda3/envs/python3/lib/python3.6/site-packages/lightgbm/engine.py:148: UserWarning: Found `num_boost_round` in params. Will use it instead of argument\n",
      "  _log_warning(\"Found `{}` in params. Will use it instead of argument\".format(alias))\n"
     ]
    },
    {
     "name": "stdout",
     "output_type": "stream",
     "text": [
      "parameter combination 5\n"
     ]
    },
    {
     "name": "stderr",
     "output_type": "stream",
     "text": [
      "/home/ec2-user/anaconda3/envs/python3/lib/python3.6/site-packages/lightgbm/engine.py:148: UserWarning: Found `num_boost_round` in params. Will use it instead of argument\n",
      "  _log_warning(\"Found `{}` in params. Will use it instead of argument\".format(alias))\n"
     ]
    },
    {
     "name": "stdout",
     "output_type": "stream",
     "text": [
      "parameter combination 6\n"
     ]
    },
    {
     "name": "stderr",
     "output_type": "stream",
     "text": [
      "/home/ec2-user/anaconda3/envs/python3/lib/python3.6/site-packages/lightgbm/engine.py:148: UserWarning: Found `num_boost_round` in params. Will use it instead of argument\n",
      "  _log_warning(\"Found `{}` in params. Will use it instead of argument\".format(alias))\n"
     ]
    },
    {
     "name": "stdout",
     "output_type": "stream",
     "text": [
      "parameter combination 7\n"
     ]
    },
    {
     "name": "stderr",
     "output_type": "stream",
     "text": [
      "/home/ec2-user/anaconda3/envs/python3/lib/python3.6/site-packages/lightgbm/engine.py:148: UserWarning: Found `num_boost_round` in params. Will use it instead of argument\n",
      "  _log_warning(\"Found `{}` in params. Will use it instead of argument\".format(alias))\n"
     ]
    },
    {
     "name": "stdout",
     "output_type": "stream",
     "text": [
      "parameter combination 8\n"
     ]
    },
    {
     "name": "stderr",
     "output_type": "stream",
     "text": [
      "/home/ec2-user/anaconda3/envs/python3/lib/python3.6/site-packages/lightgbm/engine.py:148: UserWarning: Found `num_boost_round` in params. Will use it instead of argument\n",
      "  _log_warning(\"Found `{}` in params. Will use it instead of argument\".format(alias))\n"
     ]
    },
    {
     "name": "stdout",
     "output_type": "stream",
     "text": [
      "SMAPE for all titles 0.3856724840121662\n",
      "SMAPE for the originals 0.505154403735527\n",
      "running cvs at day 9\n",
      "keeps the titles above 80.0 percentile day1 viewed over all titles only\n",
      "only 1314 titles considered after popularity filter\n",
      "X and y are ready based on the input params\n",
      "Tune parameter for day 10\n",
      "parameter combination 1\n"
     ]
    },
    {
     "name": "stderr",
     "output_type": "stream",
     "text": [
      "/home/ec2-user/anaconda3/envs/python3/lib/python3.6/site-packages/lightgbm/engine.py:148: UserWarning: Found `num_boost_round` in params. Will use it instead of argument\n",
      "  _log_warning(\"Found `{}` in params. Will use it instead of argument\".format(alias))\n"
     ]
    },
    {
     "name": "stdout",
     "output_type": "stream",
     "text": [
      "parameter combination 2\n"
     ]
    },
    {
     "name": "stderr",
     "output_type": "stream",
     "text": [
      "/home/ec2-user/anaconda3/envs/python3/lib/python3.6/site-packages/lightgbm/engine.py:148: UserWarning: Found `num_boost_round` in params. Will use it instead of argument\n",
      "  _log_warning(\"Found `{}` in params. Will use it instead of argument\".format(alias))\n"
     ]
    },
    {
     "name": "stdout",
     "output_type": "stream",
     "text": [
      "parameter combination 3\n"
     ]
    },
    {
     "name": "stderr",
     "output_type": "stream",
     "text": [
      "/home/ec2-user/anaconda3/envs/python3/lib/python3.6/site-packages/lightgbm/engine.py:148: UserWarning: Found `num_boost_round` in params. Will use it instead of argument\n",
      "  _log_warning(\"Found `{}` in params. Will use it instead of argument\".format(alias))\n"
     ]
    },
    {
     "name": "stdout",
     "output_type": "stream",
     "text": [
      "parameter combination 4\n"
     ]
    },
    {
     "name": "stderr",
     "output_type": "stream",
     "text": [
      "/home/ec2-user/anaconda3/envs/python3/lib/python3.6/site-packages/lightgbm/engine.py:148: UserWarning: Found `num_boost_round` in params. Will use it instead of argument\n",
      "  _log_warning(\"Found `{}` in params. Will use it instead of argument\".format(alias))\n"
     ]
    },
    {
     "name": "stdout",
     "output_type": "stream",
     "text": [
      "parameter combination 5\n"
     ]
    },
    {
     "name": "stderr",
     "output_type": "stream",
     "text": [
      "/home/ec2-user/anaconda3/envs/python3/lib/python3.6/site-packages/lightgbm/engine.py:148: UserWarning: Found `num_boost_round` in params. Will use it instead of argument\n",
      "  _log_warning(\"Found `{}` in params. Will use it instead of argument\".format(alias))\n"
     ]
    },
    {
     "name": "stdout",
     "output_type": "stream",
     "text": [
      "parameter combination 6\n"
     ]
    },
    {
     "name": "stderr",
     "output_type": "stream",
     "text": [
      "/home/ec2-user/anaconda3/envs/python3/lib/python3.6/site-packages/lightgbm/engine.py:148: UserWarning: Found `num_boost_round` in params. Will use it instead of argument\n",
      "  _log_warning(\"Found `{}` in params. Will use it instead of argument\".format(alias))\n"
     ]
    },
    {
     "name": "stdout",
     "output_type": "stream",
     "text": [
      "parameter combination 7\n"
     ]
    },
    {
     "name": "stderr",
     "output_type": "stream",
     "text": [
      "/home/ec2-user/anaconda3/envs/python3/lib/python3.6/site-packages/lightgbm/engine.py:148: UserWarning: Found `num_boost_round` in params. Will use it instead of argument\n",
      "  _log_warning(\"Found `{}` in params. Will use it instead of argument\".format(alias))\n"
     ]
    },
    {
     "name": "stdout",
     "output_type": "stream",
     "text": [
      "parameter combination 8\n"
     ]
    },
    {
     "name": "stderr",
     "output_type": "stream",
     "text": [
      "/home/ec2-user/anaconda3/envs/python3/lib/python3.6/site-packages/lightgbm/engine.py:148: UserWarning: Found `num_boost_round` in params. Will use it instead of argument\n",
      "  _log_warning(\"Found `{}` in params. Will use it instead of argument\".format(alias))\n"
     ]
    },
    {
     "name": "stdout",
     "output_type": "stream",
     "text": [
      "SMAPE for all titles 0.38901328525859225\n",
      "SMAPE for the originals 0.4967494900422976\n",
      "running cvs at day 10\n",
      "keeps the titles above 80.0 percentile day1 viewed over all titles only\n",
      "only 1314 titles considered after popularity filter\n",
      "X and y are ready based on the input params\n",
      "Tune parameter for day 11\n",
      "parameter combination 1\n"
     ]
    },
    {
     "name": "stderr",
     "output_type": "stream",
     "text": [
      "/home/ec2-user/anaconda3/envs/python3/lib/python3.6/site-packages/lightgbm/engine.py:148: UserWarning: Found `num_boost_round` in params. Will use it instead of argument\n",
      "  _log_warning(\"Found `{}` in params. Will use it instead of argument\".format(alias))\n"
     ]
    },
    {
     "name": "stdout",
     "output_type": "stream",
     "text": [
      "parameter combination 2\n"
     ]
    },
    {
     "name": "stderr",
     "output_type": "stream",
     "text": [
      "/home/ec2-user/anaconda3/envs/python3/lib/python3.6/site-packages/lightgbm/engine.py:148: UserWarning: Found `num_boost_round` in params. Will use it instead of argument\n",
      "  _log_warning(\"Found `{}` in params. Will use it instead of argument\".format(alias))\n"
     ]
    },
    {
     "name": "stdout",
     "output_type": "stream",
     "text": [
      "parameter combination 3\n"
     ]
    },
    {
     "name": "stderr",
     "output_type": "stream",
     "text": [
      "/home/ec2-user/anaconda3/envs/python3/lib/python3.6/site-packages/lightgbm/engine.py:148: UserWarning: Found `num_boost_round` in params. Will use it instead of argument\n",
      "  _log_warning(\"Found `{}` in params. Will use it instead of argument\".format(alias))\n"
     ]
    },
    {
     "name": "stdout",
     "output_type": "stream",
     "text": [
      "parameter combination 4\n"
     ]
    },
    {
     "name": "stderr",
     "output_type": "stream",
     "text": [
      "/home/ec2-user/anaconda3/envs/python3/lib/python3.6/site-packages/lightgbm/engine.py:148: UserWarning: Found `num_boost_round` in params. Will use it instead of argument\n",
      "  _log_warning(\"Found `{}` in params. Will use it instead of argument\".format(alias))\n"
     ]
    },
    {
     "name": "stdout",
     "output_type": "stream",
     "text": [
      "parameter combination 5\n"
     ]
    },
    {
     "name": "stderr",
     "output_type": "stream",
     "text": [
      "/home/ec2-user/anaconda3/envs/python3/lib/python3.6/site-packages/lightgbm/engine.py:148: UserWarning: Found `num_boost_round` in params. Will use it instead of argument\n",
      "  _log_warning(\"Found `{}` in params. Will use it instead of argument\".format(alias))\n"
     ]
    },
    {
     "name": "stdout",
     "output_type": "stream",
     "text": [
      "parameter combination 6\n"
     ]
    },
    {
     "name": "stderr",
     "output_type": "stream",
     "text": [
      "/home/ec2-user/anaconda3/envs/python3/lib/python3.6/site-packages/lightgbm/engine.py:148: UserWarning: Found `num_boost_round` in params. Will use it instead of argument\n",
      "  _log_warning(\"Found `{}` in params. Will use it instead of argument\".format(alias))\n"
     ]
    },
    {
     "name": "stdout",
     "output_type": "stream",
     "text": [
      "parameter combination 7\n"
     ]
    },
    {
     "name": "stderr",
     "output_type": "stream",
     "text": [
      "/home/ec2-user/anaconda3/envs/python3/lib/python3.6/site-packages/lightgbm/engine.py:148: UserWarning: Found `num_boost_round` in params. Will use it instead of argument\n",
      "  _log_warning(\"Found `{}` in params. Will use it instead of argument\".format(alias))\n"
     ]
    },
    {
     "name": "stdout",
     "output_type": "stream",
     "text": [
      "parameter combination 8\n"
     ]
    },
    {
     "name": "stderr",
     "output_type": "stream",
     "text": [
      "/home/ec2-user/anaconda3/envs/python3/lib/python3.6/site-packages/lightgbm/engine.py:148: UserWarning: Found `num_boost_round` in params. Will use it instead of argument\n",
      "  _log_warning(\"Found `{}` in params. Will use it instead of argument\".format(alias))\n"
     ]
    },
    {
     "name": "stdout",
     "output_type": "stream",
     "text": [
      "SMAPE for all titles 0.3831687831690932\n",
      "SMAPE for the originals 0.5006495813370867\n",
      "running cvs at day 11\n",
      "keeps the titles above 80.0 percentile day1 viewed over all titles only\n",
      "only 1314 titles considered after popularity filter\n",
      "X and y are ready based on the input params\n",
      "Tune parameter for day 12\n",
      "parameter combination 1\n"
     ]
    },
    {
     "name": "stderr",
     "output_type": "stream",
     "text": [
      "/home/ec2-user/anaconda3/envs/python3/lib/python3.6/site-packages/lightgbm/engine.py:148: UserWarning: Found `num_boost_round` in params. Will use it instead of argument\n",
      "  _log_warning(\"Found `{}` in params. Will use it instead of argument\".format(alias))\n"
     ]
    },
    {
     "name": "stdout",
     "output_type": "stream",
     "text": [
      "parameter combination 2\n"
     ]
    },
    {
     "name": "stderr",
     "output_type": "stream",
     "text": [
      "/home/ec2-user/anaconda3/envs/python3/lib/python3.6/site-packages/lightgbm/engine.py:148: UserWarning: Found `num_boost_round` in params. Will use it instead of argument\n",
      "  _log_warning(\"Found `{}` in params. Will use it instead of argument\".format(alias))\n"
     ]
    },
    {
     "name": "stdout",
     "output_type": "stream",
     "text": [
      "parameter combination 3\n"
     ]
    },
    {
     "name": "stderr",
     "output_type": "stream",
     "text": [
      "/home/ec2-user/anaconda3/envs/python3/lib/python3.6/site-packages/lightgbm/engine.py:148: UserWarning: Found `num_boost_round` in params. Will use it instead of argument\n",
      "  _log_warning(\"Found `{}` in params. Will use it instead of argument\".format(alias))\n"
     ]
    },
    {
     "name": "stdout",
     "output_type": "stream",
     "text": [
      "parameter combination 4\n"
     ]
    },
    {
     "name": "stderr",
     "output_type": "stream",
     "text": [
      "/home/ec2-user/anaconda3/envs/python3/lib/python3.6/site-packages/lightgbm/engine.py:148: UserWarning: Found `num_boost_round` in params. Will use it instead of argument\n",
      "  _log_warning(\"Found `{}` in params. Will use it instead of argument\".format(alias))\n"
     ]
    },
    {
     "name": "stdout",
     "output_type": "stream",
     "text": [
      "parameter combination 5\n"
     ]
    },
    {
     "name": "stderr",
     "output_type": "stream",
     "text": [
      "/home/ec2-user/anaconda3/envs/python3/lib/python3.6/site-packages/lightgbm/engine.py:148: UserWarning: Found `num_boost_round` in params. Will use it instead of argument\n",
      "  _log_warning(\"Found `{}` in params. Will use it instead of argument\".format(alias))\n"
     ]
    },
    {
     "name": "stdout",
     "output_type": "stream",
     "text": [
      "parameter combination 6\n"
     ]
    },
    {
     "name": "stderr",
     "output_type": "stream",
     "text": [
      "/home/ec2-user/anaconda3/envs/python3/lib/python3.6/site-packages/lightgbm/engine.py:148: UserWarning: Found `num_boost_round` in params. Will use it instead of argument\n",
      "  _log_warning(\"Found `{}` in params. Will use it instead of argument\".format(alias))\n"
     ]
    },
    {
     "name": "stdout",
     "output_type": "stream",
     "text": [
      "parameter combination 7\n"
     ]
    },
    {
     "name": "stderr",
     "output_type": "stream",
     "text": [
      "/home/ec2-user/anaconda3/envs/python3/lib/python3.6/site-packages/lightgbm/engine.py:148: UserWarning: Found `num_boost_round` in params. Will use it instead of argument\n",
      "  _log_warning(\"Found `{}` in params. Will use it instead of argument\".format(alias))\n"
     ]
    },
    {
     "name": "stdout",
     "output_type": "stream",
     "text": [
      "parameter combination 8\n"
     ]
    },
    {
     "name": "stderr",
     "output_type": "stream",
     "text": [
      "/home/ec2-user/anaconda3/envs/python3/lib/python3.6/site-packages/lightgbm/engine.py:148: UserWarning: Found `num_boost_round` in params. Will use it instead of argument\n",
      "  _log_warning(\"Found `{}` in params. Will use it instead of argument\".format(alias))\n"
     ]
    },
    {
     "name": "stdout",
     "output_type": "stream",
     "text": [
      "SMAPE for all titles 0.3764173633955396\n",
      "SMAPE for the originals 0.46258376613064406\n",
      "running cvs at day 12\n",
      "keeps the titles above 80.0 percentile day1 viewed over all titles only\n",
      "only 1314 titles considered after popularity filter\n",
      "X and y are ready based on the input params\n",
      "Tune parameter for day 13\n",
      "parameter combination 1\n"
     ]
    },
    {
     "name": "stderr",
     "output_type": "stream",
     "text": [
      "/home/ec2-user/anaconda3/envs/python3/lib/python3.6/site-packages/lightgbm/engine.py:148: UserWarning: Found `num_boost_round` in params. Will use it instead of argument\n",
      "  _log_warning(\"Found `{}` in params. Will use it instead of argument\".format(alias))\n"
     ]
    },
    {
     "name": "stdout",
     "output_type": "stream",
     "text": [
      "parameter combination 2\n"
     ]
    },
    {
     "name": "stderr",
     "output_type": "stream",
     "text": [
      "/home/ec2-user/anaconda3/envs/python3/lib/python3.6/site-packages/lightgbm/engine.py:148: UserWarning: Found `num_boost_round` in params. Will use it instead of argument\n",
      "  _log_warning(\"Found `{}` in params. Will use it instead of argument\".format(alias))\n"
     ]
    },
    {
     "name": "stdout",
     "output_type": "stream",
     "text": [
      "parameter combination 3\n"
     ]
    },
    {
     "name": "stderr",
     "output_type": "stream",
     "text": [
      "/home/ec2-user/anaconda3/envs/python3/lib/python3.6/site-packages/lightgbm/engine.py:148: UserWarning: Found `num_boost_round` in params. Will use it instead of argument\n",
      "  _log_warning(\"Found `{}` in params. Will use it instead of argument\".format(alias))\n"
     ]
    },
    {
     "name": "stdout",
     "output_type": "stream",
     "text": [
      "parameter combination 4\n"
     ]
    },
    {
     "name": "stderr",
     "output_type": "stream",
     "text": [
      "/home/ec2-user/anaconda3/envs/python3/lib/python3.6/site-packages/lightgbm/engine.py:148: UserWarning: Found `num_boost_round` in params. Will use it instead of argument\n",
      "  _log_warning(\"Found `{}` in params. Will use it instead of argument\".format(alias))\n"
     ]
    },
    {
     "name": "stdout",
     "output_type": "stream",
     "text": [
      "parameter combination 5\n"
     ]
    },
    {
     "name": "stderr",
     "output_type": "stream",
     "text": [
      "/home/ec2-user/anaconda3/envs/python3/lib/python3.6/site-packages/lightgbm/engine.py:148: UserWarning: Found `num_boost_round` in params. Will use it instead of argument\n",
      "  _log_warning(\"Found `{}` in params. Will use it instead of argument\".format(alias))\n"
     ]
    },
    {
     "name": "stdout",
     "output_type": "stream",
     "text": [
      "parameter combination 6\n"
     ]
    },
    {
     "name": "stderr",
     "output_type": "stream",
     "text": [
      "/home/ec2-user/anaconda3/envs/python3/lib/python3.6/site-packages/lightgbm/engine.py:148: UserWarning: Found `num_boost_round` in params. Will use it instead of argument\n",
      "  _log_warning(\"Found `{}` in params. Will use it instead of argument\".format(alias))\n"
     ]
    },
    {
     "name": "stdout",
     "output_type": "stream",
     "text": [
      "parameter combination 7\n"
     ]
    },
    {
     "name": "stderr",
     "output_type": "stream",
     "text": [
      "/home/ec2-user/anaconda3/envs/python3/lib/python3.6/site-packages/lightgbm/engine.py:148: UserWarning: Found `num_boost_round` in params. Will use it instead of argument\n",
      "  _log_warning(\"Found `{}` in params. Will use it instead of argument\".format(alias))\n"
     ]
    },
    {
     "name": "stdout",
     "output_type": "stream",
     "text": [
      "parameter combination 8\n"
     ]
    },
    {
     "name": "stderr",
     "output_type": "stream",
     "text": [
      "/home/ec2-user/anaconda3/envs/python3/lib/python3.6/site-packages/lightgbm/engine.py:148: UserWarning: Found `num_boost_round` in params. Will use it instead of argument\n",
      "  _log_warning(\"Found `{}` in params. Will use it instead of argument\".format(alias))\n"
     ]
    },
    {
     "name": "stdout",
     "output_type": "stream",
     "text": [
      "SMAPE for all titles 0.37037184384905447\n",
      "SMAPE for the originals 0.4572588119833669\n",
      "running cvs at day 13\n",
      "keeps the titles above 80.0 percentile day1 viewed over all titles only\n",
      "only 1314 titles considered after popularity filter\n",
      "X and y are ready based on the input params\n",
      "Do cross prediction for day 14\n",
      "SMAPE for all titles 0.23377340765298835\n",
      "SMAPE for the originals 0.34909102694102534\n",
      "running cvs at day 14\n",
      "keeps the titles above 80.0 percentile day1 viewed over all titles only\n",
      "only 1314 titles considered after popularity filter\n",
      "X and y are ready based on the input params\n",
      "Do cross prediction for day 15\n",
      "SMAPE for all titles 0.2361763450753097\n",
      "SMAPE for the originals 0.3705051122289715\n",
      "running cvs at day 15\n",
      "keeps the titles above 80.0 percentile day1 viewed over all titles only\n",
      "only 1314 titles considered after popularity filter\n",
      "X and y are ready based on the input params\n",
      "Do cross prediction for day 16\n",
      "SMAPE for all titles 0.2333421914967058\n",
      "SMAPE for the originals 0.3675488516694943\n",
      "running cvs at day 16\n",
      "keeps the titles above 80.0 percentile day1 viewed over all titles only\n",
      "only 1314 titles considered after popularity filter\n",
      "X and y are ready based on the input params\n",
      "Do cross prediction for day 17\n",
      "SMAPE for all titles 0.22559971707421445\n",
      "SMAPE for the originals 0.35811552235807714\n",
      "running cvs at day 17\n",
      "keeps the titles above 80.0 percentile day1 viewed over all titles only\n",
      "only 1314 titles considered after popularity filter\n",
      "X and y are ready based on the input params\n",
      "Do cross prediction for day 18\n",
      "SMAPE for all titles 0.22014044270192057\n",
      "SMAPE for the originals 0.352820206555507\n",
      "running cvs at day 18\n",
      "keeps the titles above 80.0 percentile day1 viewed over all titles only\n",
      "only 1314 titles considered after popularity filter\n",
      "X and y are ready based on the input params\n",
      "Do cross prediction for day 19\n",
      "SMAPE for all titles 0.20914422667440846\n",
      "SMAPE for the originals 0.33948918997036454\n",
      "running cvs at day 19\n",
      "keeps the titles above 80.0 percentile day1 viewed over all titles only\n",
      "only 1314 titles considered after popularity filter\n",
      "X and y are ready based on the input params\n",
      "Do cross prediction for day 20\n",
      "SMAPE for all titles 0.2060458442848413\n",
      "SMAPE for the originals 0.3346472276900794\n",
      "running cvs at day 20\n",
      "keeps the titles above 80.0 percentile day1 viewed over all titles only\n",
      "only 1314 titles considered after popularity filter\n",
      "X and y are ready based on the input params\n",
      "Do cross prediction for day 21\n",
      "SMAPE for all titles 0.19888124269089466\n",
      "SMAPE for the originals 0.3268495229656802\n",
      "running cvs at day 21\n",
      "keeps the titles above 80.0 percentile day1 viewed over all titles only\n",
      "only 1314 titles considered after popularity filter\n",
      "X and y are ready based on the input params\n",
      "Do cross prediction for day 22\n",
      "SMAPE for all titles 0.19723850267309248\n",
      "SMAPE for the originals 0.3214653673230384\n",
      "running cvs at day 22\n",
      "keeps the titles above 80.0 percentile day1 viewed over all titles only\n",
      "only 1314 titles considered after popularity filter\n",
      "X and y are ready based on the input params\n",
      "Do cross prediction for day 23\n",
      "SMAPE for all titles 0.18423035236741783\n",
      "SMAPE for the originals 0.297715859676663\n",
      "running cvs at day 23\n",
      "keeps the titles above 80.0 percentile day1 viewed over all titles only\n",
      "only 1314 titles considered after popularity filter\n",
      "X and y are ready based on the input params\n",
      "Do cross prediction for day 24\n",
      "SMAPE for all titles 0.17271499515579736\n",
      "SMAPE for the originals 0.2842957008364679\n",
      "running cvs at day 24\n",
      "keeps the titles above 80.0 percentile day1 viewed over all titles only\n",
      "only 1314 titles considered after popularity filter\n",
      "X and y are ready based on the input params\n",
      "Do cross prediction for day 25\n",
      "SMAPE for all titles 0.16875124778737594\n",
      "SMAPE for the originals 0.2795310688850698\n",
      "running cvs at day 25\n",
      "keeps the titles above 80.0 percentile day1 viewed over all titles only\n",
      "only 1314 titles considered after popularity filter\n",
      "X and y are ready based on the input params\n",
      "Do cross prediction for day 26\n",
      "SMAPE for all titles 0.16386756477693562\n",
      "SMAPE for the originals 0.27479253979116625\n",
      "running cvs at day 26\n",
      "keeps the titles above 80.0 percentile day1 viewed over all titles only\n",
      "only 1314 titles considered after popularity filter\n",
      "X and y are ready based on the input params\n",
      "Do cross prediction for day 27\n",
      "SMAPE for all titles 0.1586639391667119\n",
      "SMAPE for the originals 0.2705300050769361\n",
      "running cvs at day 27\n"
     ]
    }
   ],
   "source": [
    "percent_data_process_info['exact_X_pred'] = False\n",
    "output_flag = True\n",
    "new_title_output = pd.DataFrame()\n",
    "existing_title_output = pd.DataFrame()\n",
    "back_consideration_date = 180\n",
    "\n",
    "for day in range(-27,28):\n",
    "    # renew the percent_data_process_info data very time\n",
    "    from lib.config import percent_data_process_info\n",
    "    from lib.config import prelaunch_process_info\n",
    "    from lib.config import metadata_process_info\n",
    "\n",
    "    # determine prelaunch or postlaunch\n",
    "    if day < 1:\n",
    "        input_process_info = dict(prelaunch_process_info)\n",
    "        percent_data_process_info['target_log_transformation'] = False\n",
    "        percent_data_process_info['log_ratio_transformation'] = False\n",
    "        input_percentile_used = percentile_used\n",
    "        model_name = 'lr'\n",
    "        model_name_list = [model_name]\n",
    "    elif day<14:\n",
    "        input_process_info = dict(metadata_process_info)\n",
    "        percent_data_process_info['target_log_transformation'] = True\n",
    "        percent_data_process_info['log_ratio_transformation'] = True\n",
    "        input_percentile_used = percentile_used\n",
    "        model_name = 'lgb'\n",
    "        model_name_list = [model_name]\n",
    "    else:\n",
    "        input_process_info = dict(metadata_process_info)\n",
    "        percent_data_process_info['target_log_transformation'] = False\n",
    "        percent_data_process_info['log_ratio_transformation'] = False\n",
    "        input_percentile_used = percentile_used\n",
    "        model_name = 'lr'\n",
    "        model_name_list = [model_name]\n",
    "\n",
    "    # just to make the values in the dict back to the initial values\n",
    "    percent_data_process_info = dict(percent_data_process_info)\n",
    "    percent_data_process_info['max_num_day'] = day\n",
    "    \n",
    "    # get x and y\n",
    "    logger.info('Get X and y for day {}'.format(day))\n",
    "    cv_func.get_X_y(percent_data_process_info, \n",
    "                     input_process_info, \n",
    "                     day001_popularity_threshold = input_percentile_used)\n",
    "\n",
    "    # tune parameter\n",
    "    if model_name not in  ['lr', 'enet']:\n",
    "        logger.info('Tune parameter for day {}'.format(day))\n",
    "        print('Tune parameter for day {}'.format(day))\n",
    "        cv_func.parameter_tuning(model_name, \n",
    "                            params_tunning_dict, \n",
    "                            percent_data_process_info,\n",
    "                            nfold = nfold,\n",
    "                            back_consideration_date = back_consideration_date)\n",
    "        \n",
    "        params_dict = cv_func.min_smape_param['min_smape_original']\n",
    "        param_stats = cv_func.parameter_tuning_stats\n",
    "        logger.info('SMAPE for all titles {}'.format(param_stats['min_smape_all']))\n",
    "        logger.info('SMAPE for the originals {}'.format(param_stats['min_smape_original']))\n",
    "        print('SMAPE for all titles {}'.format(param_stats['min_smape_all']))\n",
    "        print('SMAPE for the originals {}'.format(param_stats['min_smape_original']))\n",
    "    \n",
    "    else:\n",
    "        logger.info('Do cross prediction for day {}'.format(day))\n",
    "        print('Do cross prediction for day {}'.format(day))\n",
    "        cv_func.cross_prediction(\n",
    "                         model_name_list, \n",
    "                         params_dict, \n",
    "                         percent_data_process_info, \n",
    "                         nfold = nfold, \n",
    "                         back_consideration_date = back_consideration_date)\n",
    "        \n",
    "        logger.info('SMAPE for all titles {}'.format(cv_func.output['smape_' + model_name].mean()))\n",
    "        logger.info('SMAPE for the originals {}'.format(cv_func.output.loc[cv_func.output['program_type']==1,'smape_' + model_name].mean()))\n",
    "        print('SMAPE for all titles {}'.format(cv_func.output['smape_' + model_name].mean()))\n",
    "        print('SMAPE for the originals {}'.format(cv_func.output.loc[cv_func.output['program_type']==1,'smape_' + model_name].mean()))\n",
    "    \n",
    "    # make prediction\n",
    "    print('running cvs at day {}'.format(day))\n",
    "    cur_existing_title_output = cv_func.output\n",
    "    pred_column = cur_existing_title_output.columns[cur_existing_title_output.columns.str.contains(model_name)][0]\n",
    "    cur_existing_title_output['pred_day'] = day\n",
    "    cur_existing_title_output = cur_existing_title_output.rename(columns = {pred_column:'prediction'})\n",
    "    cur_existing_title_output = cur_existing_title_output.rename(columns = {'smape_lgb':'smape'\n",
    "                                                                    ,'smape_lr':'smape'\n",
    "                                                                    ,'smape_enet':'smape'\n",
    "                                                                    ,'mae_lgb':'mae'\n",
    "                                                                    ,'mae_lr':'mae'\n",
    "                                                                    ,'mae_enet':'mae'\n",
    "                                                                    })\n",
    "    existing_title_output = pd.concat([existing_title_output, cur_existing_title_output], axis = 0)\n",
    "            \n",
    "    if cv_func.pred_empty_flag == True:\n",
    "        pass\n",
    "    else:\n",
    "        logger.info('Making prediction for day {}'.format(day))\n",
    "        print('Making prediction for day {}'.format(day))\n",
    "        cv_func.predict_new_titles(model_name_list, \n",
    "                                   params_dict, \n",
    "                                   percent_data_process_info)\n",
    "    \n",
    "        # process the output\n",
    "        cur_new_title_output = cv_func.new_title_output\n",
    "        pred_column = cur_new_title_output.columns[cur_new_title_output.columns.str.contains(model_name)][0]\n",
    "        cur_new_title_output['pred_day'] = day\n",
    "        cur_new_title_output = cur_new_title_output.rename(columns = {pred_column:'prediction'})\n",
    "\n",
    "        new_title_output = pd.concat([new_title_output,cur_new_title_output], axis = 0)\n",
    "        print (new_title_output.head())\n",
    "\n",
    "          \n",
    "# final formatting\n",
    "\n",
    "if new_title_output.shape[0]>0:    \n",
    "    new_title_output = new_title_output.drop(columns = ['target']).sort_values(['title_name','pred_day'])\n",
    "    new_title_output = new_title_output[['title_name'\n",
    "                                        ,'match_id'\n",
    "                                        ,'match_id_platform'\n",
    "                                        ,'platform_name'\n",
    "                                        ,'program_type'\n",
    "                                        ,'pred_day'\n",
    "                                        ,'prediction']]\n",
    "\n",
    "if existing_title_output.shape[0]>0:           \n",
    "    existing_title_output = existing_title_output.sort_values(['match_id_platform','pred_day'])\n",
    "    existing_title_output['platform_name'] = existing_title_output['match_id_platform'].apply(lambda x: x[0])\n",
    "    existing_title_output = existing_title_output[['title_name'\n",
    "                                                ,'match_id'\n",
    "                                                ,'match_id_platform'\n",
    "                                                ,'platform_name'\n",
    "                                                ,'program_type'\n",
    "                                                ,'target'\n",
    "                                                ,'pred_day'\n",
    "                                                ,'prediction'\n",
    "                                                ,'smape'\n",
    "                                                ,'mae'\n",
    "                                                ,'fold']]"
   ]
  },
  {
   "cell_type": "markdown",
   "id": "f00d719a",
   "metadata": {},
   "source": [
    "# Write csvs to S3"
   ]
  },
  {
   "cell_type": "markdown",
   "id": "00641cd8",
   "metadata": {},
   "source": [
    "### Step 3: Write the prediction result to S3"
   ]
  },
  {
   "cell_type": "code",
   "execution_count": 13,
   "id": "3a2f6709",
   "metadata": {},
   "outputs": [],
   "source": [
    "output_bucket = 'hbo-outbound-datascience-content-dev'"
   ]
  },
  {
   "cell_type": "code",
   "execution_count": 14,
   "id": "5016efcf",
   "metadata": {},
   "outputs": [],
   "source": [
    "def to_s3(filename, output_bucket, content):\n",
    "    client = boto3.client('s3')\n",
    "    client.put_object(Bucket=output_bucket, Key=filename, Body=content)"
   ]
  },
  {
   "cell_type": "code",
   "execution_count": 15,
   "id": "63a979d6",
   "metadata": {},
   "outputs": [
    {
     "name": "stdout",
     "output_type": "stream",
     "text": [
      "Writing new title predictions over time to S3 as an csv file\n"
     ]
    }
   ],
   "source": [
    "logger.info('Writing new title predictions over time to S3 as an csv file')\n",
    "print('Writing new title predictions over time to S3 as an csv file')\n",
    "csv_buffer = io.StringIO()\n",
    "new_title_output.to_csv(csv_buffer, index = False)\n",
    "content = csv_buffer.getvalue()\n",
    "\n",
    "filename = 'output_percent_actives/new_title_prediction.csv'\n",
    "\n",
    "to_s3(filename, output_bucket, content)"
   ]
  },
  {
   "cell_type": "code",
   "execution_count": 16,
   "id": "30e32f59",
   "metadata": {},
   "outputs": [
    {
     "name": "stdout",
     "output_type": "stream",
     "text": [
      "Writing existing title predictions over time to S3 as an csv file\n"
     ]
    }
   ],
   "source": [
    "logger.info('Writing existing title predictions over time to S3 as an csv file')\n",
    "print('Writing existing title predictions over time to S3 as an csv file')\n",
    "csv_buffer = io.StringIO()\n",
    "existing_title_output.to_csv(csv_buffer, index = False)\n",
    "content = csv_buffer.getvalue()\n",
    "\n",
    "filename = 'output_percent_actives/existing_title_prediction.csv'\n",
    "\n",
    "to_s3(filename, output_bucket, content)"
   ]
  },
  {
   "cell_type": "markdown",
   "id": "0d6a456c",
   "metadata": {},
   "source": [
    "# Results"
   ]
  },
  {
   "cell_type": "code",
   "execution_count": 14,
   "id": "6fe3a450",
   "metadata": {},
   "outputs": [],
   "source": [
    "# df = pd.read_csv('df.csv')\n",
    "# df[df['match_id_platform'] == '1-GYUjdLgBiJp5otAEAAAAJ']"
   ]
  },
  {
   "cell_type": "code",
   "execution_count": 28,
   "id": "a0efc116",
   "metadata": {},
   "outputs": [],
   "source": [
    "# import os\n",
    "# import sys\n",
    "# import logging\n",
    "# import boto3\n",
    "# import itertools as it\n",
    "# import io\n",
    "# # from utils import *\n",
    "# import snowflake.connector"
   ]
  },
  {
   "cell_type": "code",
   "execution_count": 29,
   "id": "606a786c",
   "metadata": {},
   "outputs": [],
   "source": [
    "# from matplotlib.pyplot import figure\n",
    "# import matplotlib.pyplot as plt\n",
    "# import datetime\n",
    "# from datetime import timedelta\n",
    "# import scipy.stats as st"
   ]
  },
  {
   "cell_type": "code",
   "execution_count": 30,
   "id": "a53159a3",
   "metadata": {},
   "outputs": [],
   "source": [
    "# pd.set_option('display.max_rows', 1000)\n",
    "# pd.set_option('display.max_columns', None)\n",
    "# pd.options.mode.chained_assignment = None  # default='warn'"
   ]
  },
  {
   "cell_type": "code",
   "execution_count": 32,
   "id": "0ac15b89",
   "metadata": {},
   "outputs": [],
   "source": [
    "# import numpy as np\n",
    "# import math\n",
    "# import pandas as pd\n",
    "# import re\n",
    "# from datetime import date, datetime\n",
    "# import json\n",
    "# from abc import ABCMeta, abstractmethod\n",
    "# import boto3\n",
    "\n",
    "# class Credentials(metaclass=ABCMeta):\n",
    "#     pass\n",
    "    \n",
    "    \n",
    "# class SSMPSCredentials(Credentials):\n",
    "#     def __init__(self, secretid: str):\n",
    "#         self._secretid = secretid\n",
    "#         self._secrets = {}\n",
    "        \n",
    "#     def get_keys(self):\n",
    "#         \"\"\"\n",
    "#         credential fetching \n",
    "#         \"\"\"\n",
    "#         _aws_sm_args = {'service_name': 'secretsmanager', 'region_name': 'us-east-1'}\n",
    "#         secrets_client = boto3.client(**_aws_sm_args)\n",
    "#         get_secret_value_response = secrets_client.get_secret_value(SecretId=self._secretid)\n",
    "#         return get_secret_value_response\n",
    "    \n",
    "    \n",
    "# class BaseConnector(metaclass=ABCMeta):\n",
    "#     @abstractmethod\n",
    "#     def connect(self):\n",
    "#         raise NotImplementedError"
   ]
  },
  {
   "cell_type": "code",
   "execution_count": 33,
   "id": "4730f1b0",
   "metadata": {},
   "outputs": [],
   "source": [
    "# class SnowflakeConnector(BaseConnector):\n",
    "#     def __init__(self, credentials: Credentials):\n",
    "#         keys = credentials.get_keys()\n",
    "#         self._secrets = json.loads(keys.get('SecretString', \"{}\"))\n",
    "\n",
    "#     def connect(self, dbname: str, schema: str = 'DEFAULT'):\n",
    "#         ctx = snowflake.connector.connect(\n",
    "#             user=self._secrets['login_name'],\n",
    "#             password=self._secrets['login_password'],\n",
    "#             account=self._secrets['account'],\n",
    "#             warehouse=self._secrets['warehouse'],\n",
    "#             database=dbname,\n",
    "#             schema=schema\n",
    "#         )\n",
    "\n",
    "#         return ctx\n",
    "    \n",
    "# ## Credentials\n",
    "# SF_CREDS = 'datascience-max-dev-sagemaker-notebooks'\n",
    "\n",
    "# ## Snowflake connection \n",
    "# conn=SnowflakeConnector(SSMPSCredentials(SF_CREDS))\n",
    "# ctx=conn.connect(\"MAX_PROD\",\"DATASCIENCE_STAGE\")"
   ]
  },
  {
   "cell_type": "code",
   "execution_count": 34,
   "id": "b73b35c2",
   "metadata": {},
   "outputs": [],
   "source": [
    "# def run_query(query):\n",
    "#     cursor = ctx.cursor()\n",
    "#     cursor.execute(query)\n",
    "#     df = pd.DataFrame(cursor.fetchall(), columns = [desc[0] for desc in cursor.description])\n",
    "#     df.columns= df.columns.str.lower()\n",
    "#     return df"
   ]
  },
  {
   "cell_type": "code",
   "execution_count": 18,
   "id": "c366d0e9",
   "metadata": {},
   "outputs": [],
   "source": [
    "# existing_title_output.to_csv('existing_title_output.csv')\n",
    "# new_title_output.to_csv('new_title_output.csv')"
   ]
  },
  {
   "cell_type": "code",
   "execution_count": 13,
   "id": "f1fddfe3",
   "metadata": {},
   "outputs": [],
   "source": [
    "# existing_title_output = pd.read_csv('existing_title_output.csv')\n",
    "# new_title_output = pd.read_csv('new_title_output.csv')"
   ]
  },
  {
   "cell_type": "code",
   "execution_count": 25,
   "id": "cba55609",
   "metadata": {},
   "outputs": [],
   "source": [
    "# metadata_feature = data_list[3]"
   ]
  },
  {
   "cell_type": "code",
   "execution_count": 35,
   "id": "f3785e70",
   "metadata": {},
   "outputs": [],
   "source": [
    "# popcorn_titles = run_query('''\n",
    "# SELECT * FROM MAX_PROD.CATALOG.POPCORN_TITLES\n",
    "# ''')"
   ]
  }
 ],
 "metadata": {
  "kernelspec": {
   "display_name": "conda_python3",
   "language": "python",
   "name": "conda_python3"
  },
  "language_info": {
   "codemirror_mode": {
    "name": "ipython",
    "version": 3
   },
   "file_extension": ".py",
   "mimetype": "text/x-python",
   "name": "python",
   "nbconvert_exporter": "python",
   "pygments_lexer": "ipython3",
   "version": "3.6.13"
  }
 },
 "nbformat": 4,
 "nbformat_minor": 5
}
