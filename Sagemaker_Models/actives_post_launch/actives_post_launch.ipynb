{
 "cells": [
  {
   "cell_type": "code",
   "execution_count": 1,
   "id": "cacc8c05",
   "metadata": {},
   "outputs": [],
   "source": [
    "import pandas as pd\n",
    "import numpy as np\n",
    "import itertools as it\n",
    "import os\n",
    "import io\n",
    "import logging\n",
    "\n",
    "import boto3\n",
    "import sys\n",
    "import json\n",
    "\n",
    "from lib.model import ModelMain\n",
    "\n",
    "# configs\n",
    "from lib.config import percent_data_process_info\n",
    "from lib.config import prelaunch_process_info\n",
    "from lib.config import metadata_process_info\n",
    "from lib.config import default_params_dict as params_dict\n",
    "from lib.config import model_name_list\n",
    "from lib.config import params_tuning_dict\n"
   ]
  },
  {
   "cell_type": "markdown",
   "id": "9c85ba03",
   "metadata": {},
   "source": [
    "# Reading Data "
   ]
  },
  {
   "cell_type": "markdown",
   "id": "64813a96",
   "metadata": {},
   "source": [
    "Reading data from multiple sources, with the corresponding query"
   ]
  },
  {
   "cell_type": "markdown",
   "id": "d9b4b88c",
   "metadata": {},
   "source": [
    "### Step 1 of the Prediction Process: Getting Data\n",
    "Step 1.1: update the funnel metrics by Sagemaker ipynb file 'query_pipeline' under the '/query' folder\n",
    "\n",
    "Step 1.2: run each of the query in the '/day28_prediction/query/' to extract each input csv below"
   ]
  },
  {
   "cell_type": "code",
   "execution_count": 2,
   "id": "7579d7d6",
   "metadata": {},
   "outputs": [],
   "source": [
    "input_bucket = 'hbo-ingest-datascience-content-dev'"
   ]
  },
  {
   "cell_type": "code",
   "execution_count": 3,
   "id": "a43789a6",
   "metadata": {},
   "outputs": [
    {
     "name": "stdout",
     "output_type": "stream",
     "text": [
      "Reading funnel_metric_feature features\n",
      "Reading media_cost_postlaunch_feature features\n",
      "Reading media_cost_prelaunch_feature features\n",
      "Reading metadata_feature features\n",
      "Reading prelaunch_trailer_feature features\n",
      "Reading prelaunch_trailer_feature_before28 features\n",
      "Reading sub_total_feature features\n",
      "Reading trailer_feature features\n",
      "Reading vtp_feature features\n",
      "Reading wiki_view_feature features\n",
      "Reading wiki_view_feature_before28 features\n"
     ]
    }
   ],
   "source": [
    "logger = logging.getLogger()\n",
    "logger.info(f'Loading inputs')\n",
    "data_list =[]\n",
    "\n",
    "s3 = boto3.resource('s3')\n",
    "bucket = s3.Bucket(input_bucket)\n",
    "# Iterates through all the objects, doing the pagination for you. Each obj\n",
    "# is an ObjectSummary, so it doesn't contain the body. You'll need to call\n",
    "# get to get the whole body.\n",
    "for obj in bucket.objects.filter(Prefix='input_percent_view'):\n",
    "    key = obj.key\n",
    "    logger.info('Loading csv file {}'.format(key))\n",
    "    body = obj.get()['Body']\n",
    "    var_name = key.split('.')[0].split('/')[1]\n",
    "    print('Reading {0} features'.format(var_name))\n",
    "    exec(\"{0}=pd.read_csv(body, na_values = [r'\\\\\\\\N'])\".format(var_name))\n",
    "    exec(\"{0}.columns = {0}.columns.str.lower()\".format(var_name))\n",
    "    \n",
    "    # exclude the full null columns\n",
    "    exec(\"{0} = {0}.loc[:,{0}.isnull().sum()!={0}.shape[0]]\".format(var_name))\n",
    "\n",
    "    # exclude the old Mortal Kombat movie because the trailer percent view \n",
    "    # matching matches the trailer of the new movie to the old movie\n",
    "    # exclude Tom & Jerry due to unresolvable data issue\n",
    "    exec(\"{0} = {0}.loc[{0}['match_id_platform'].\\\n",
    "        isin(['1-GYGQBcwsaCIW2XgEAAAAL', '0-GYGQBcwsaCIW2XgEAAAAL', '1-GYEb9QwLgFF9_ZwEAAAA7', '0-GYEb9QwLgFF9_ZwEAAAA7'])==False,:]\\\n",
    "        .reset_index(drop = True)\".format(var_name))\n",
    "    \n",
    "    # append the feature df\n",
    "    exec(\"data_list.append({0})\".format(var_name))"
   ]
  },
  {
   "cell_type": "code",
   "execution_count": 4,
   "id": "03dbceb0",
   "metadata": {},
   "outputs": [
    {
     "name": "stdout",
     "output_type": "stream",
     "text": [
      "Reading pct_actives features\n"
     ]
    }
   ],
   "source": [
    "bucket = s3.Bucket(input_bucket)\n",
    "for obj in bucket.objects.filter(Prefix='pct_actives_prediction/pct_actives'):\n",
    "    key = obj.key\n",
    "    logger.info('Loading csv file {}'.format(key))\n",
    "    body = obj.get()['Body']\n",
    "    var_name = key.split('.')[0].split('/')[1]\n",
    "    print('Reading {0} features'.format(var_name))\n",
    "    exec(\"{0}=pd.read_csv(body, na_values = [r'\\\\\\\\N'])\".format(var_name))\n",
    "    exec(\"{0}.columns = {0}.columns.str.lower()\".format(var_name))\n",
    "    \n",
    "    # exclude the full null columns\n",
    "    exec(\"{0} = {0}.loc[:,{0}.isnull().sum()!={0}.shape[0]]\".format(var_name))\n",
    "\n",
    "    # exclude the old Mortal Kombat movie because the trailer percent view \n",
    "    # matching matches the trailer of the new movie to the old movie\n",
    "    # exclude Tom & Jerry due to unresolvable data issue\n",
    "    exec(\"{0} = {0}.loc[{0}['match_id'].\\\n",
    "        isin(['1-GYGQBcwsaCIW2XgEAAAAL', '0-GYGQBcwsaCIW2XgEAAAAL', '1-GYEb9QwLgFF9_ZwEAAAA7', '0-GYEb9QwLgFF9_ZwEAAAA7'])==False,:]\\\n",
    "        .reset_index(drop = True)\".format(var_name))\n",
    "    \n",
    "    # append the feature df\n",
    "    exec(\"data_list.append({0})\".format(var_name))"
   ]
  },
  {
   "cell_type": "code",
   "execution_count": 68,
   "id": "fe8780d0",
   "metadata": {},
   "outputs": [],
   "source": [
    "active_data = data_list[-1][['match_id_platform', 'days_after_launch', 'pct_actives']]\n",
    "active_data['pct_actives_values'] = active_data.groupby(['match_id_platform', 'days_after_launch'])['pct_actives'].transform('mean')\n",
    "active_data = active_data[['match_id_platform', 'days_after_launch', 'pct_actives_values']]\n",
    "active_data = active_data[(active_data['match_id_platform'].notnull())\n",
    "                         &(active_data['days_after_launch'].notnull())]\n",
    "active_data.drop_duplicates(inplace = True)"
   ]
  },
  {
   "cell_type": "code",
   "execution_count": 69,
   "id": "a77ddb6c",
   "metadata": {},
   "outputs": [],
   "source": [
    "active_data = active_data.pivot(index='match_id_platform', columns='days_after_launch', values=['pct_actives_values']).reset_index()\n",
    "active_data.columns = ['match_id_platform'] + ['pct_actives_00' + str(i) for i in range(1, 29)]\n",
    "data_list.pop(-1)\n",
    "data_list.append(active_data)"
   ]
  },
  {
   "cell_type": "code",
   "execution_count": 70,
   "id": "68a2a478",
   "metadata": {},
   "outputs": [
    {
     "data": {
      "text/html": [
       "<div>\n",
       "<style scoped>\n",
       "    .dataframe tbody tr th:only-of-type {\n",
       "        vertical-align: middle;\n",
       "    }\n",
       "\n",
       "    .dataframe tbody tr th {\n",
       "        vertical-align: top;\n",
       "    }\n",
       "\n",
       "    .dataframe thead th {\n",
       "        text-align: right;\n",
       "    }\n",
       "</style>\n",
       "<table border=\"1\" class=\"dataframe\">\n",
       "  <thead>\n",
       "    <tr style=\"text-align: right;\">\n",
       "      <th></th>\n",
       "      <th>match_id_platform</th>\n",
       "      <th>pct_actives_001</th>\n",
       "      <th>pct_actives_002</th>\n",
       "      <th>pct_actives_003</th>\n",
       "      <th>pct_actives_004</th>\n",
       "      <th>pct_actives_005</th>\n",
       "      <th>pct_actives_006</th>\n",
       "      <th>pct_actives_007</th>\n",
       "      <th>pct_actives_008</th>\n",
       "      <th>pct_actives_009</th>\n",
       "      <th>...</th>\n",
       "      <th>pct_actives_0019</th>\n",
       "      <th>pct_actives_0020</th>\n",
       "      <th>pct_actives_0021</th>\n",
       "      <th>pct_actives_0022</th>\n",
       "      <th>pct_actives_0023</th>\n",
       "      <th>pct_actives_0024</th>\n",
       "      <th>pct_actives_0025</th>\n",
       "      <th>pct_actives_0026</th>\n",
       "      <th>pct_actives_0027</th>\n",
       "      <th>pct_actives_0028</th>\n",
       "    </tr>\n",
       "  </thead>\n",
       "  <tbody>\n",
       "    <tr>\n",
       "      <th>0</th>\n",
       "      <td>0-GV-BKigrJWcJMwwEAAABi</td>\n",
       "      <td>0.245508</td>\n",
       "      <td>0.339370</td>\n",
       "      <td>0.408132</td>\n",
       "      <td>0.450645</td>\n",
       "      <td>0.518481</td>\n",
       "      <td>0.584256</td>\n",
       "      <td>0.627948</td>\n",
       "      <td>0.670518</td>\n",
       "      <td>0.715420</td>\n",
       "      <td>...</td>\n",
       "      <td>1.086071</td>\n",
       "      <td>1.122282</td>\n",
       "      <td>1.150591</td>\n",
       "      <td>1.177301</td>\n",
       "      <td>1.202733</td>\n",
       "      <td>1.227059</td>\n",
       "      <td>1.251608</td>\n",
       "      <td>1.282392</td>\n",
       "      <td>1.316002</td>\n",
       "      <td>1.337381</td>\n",
       "    </tr>\n",
       "    <tr>\n",
       "      <th>1</th>\n",
       "      <td>0-GV-BKvAt0FsJMwwEAAABv</td>\n",
       "      <td>0.002158</td>\n",
       "      <td>0.002899</td>\n",
       "      <td>0.003816</td>\n",
       "      <td>0.004408</td>\n",
       "      <td>0.004867</td>\n",
       "      <td>0.005296</td>\n",
       "      <td>0.005914</td>\n",
       "      <td>0.006487</td>\n",
       "      <td>0.007081</td>\n",
       "      <td>...</td>\n",
       "      <td>0.013187</td>\n",
       "      <td>0.013553</td>\n",
       "      <td>0.013999</td>\n",
       "      <td>0.014456</td>\n",
       "      <td>0.014910</td>\n",
       "      <td>0.015489</td>\n",
       "      <td>0.015946</td>\n",
       "      <td>0.016320</td>\n",
       "      <td>0.016758</td>\n",
       "      <td>0.017292</td>\n",
       "    </tr>\n",
       "    <tr>\n",
       "      <th>2</th>\n",
       "      <td>0-GV-BPaQSKT8JMwwEAAACP</td>\n",
       "      <td>0.128517</td>\n",
       "      <td>0.195250</td>\n",
       "      <td>0.252511</td>\n",
       "      <td>0.289867</td>\n",
       "      <td>0.341674</td>\n",
       "      <td>0.401490</td>\n",
       "      <td>0.452797</td>\n",
       "      <td>0.505070</td>\n",
       "      <td>0.530118</td>\n",
       "      <td>...</td>\n",
       "      <td>0.726141</td>\n",
       "      <td>0.741945</td>\n",
       "      <td>0.757079</td>\n",
       "      <td>0.776649</td>\n",
       "      <td>0.813322</td>\n",
       "      <td>0.841869</td>\n",
       "      <td>0.873462</td>\n",
       "      <td>0.908156</td>\n",
       "      <td>0.943240</td>\n",
       "      <td>0.976150</td>\n",
       "    </tr>\n",
       "    <tr>\n",
       "      <th>3</th>\n",
       "      <td>0-GV-P5WwNChivDZAEAAAAn</td>\n",
       "      <td>0.002867</td>\n",
       "      <td>0.005021</td>\n",
       "      <td>0.005831</td>\n",
       "      <td>0.006572</td>\n",
       "      <td>0.006972</td>\n",
       "      <td>0.007594</td>\n",
       "      <td>0.008171</td>\n",
       "      <td>0.008572</td>\n",
       "      <td>0.009225</td>\n",
       "      <td>...</td>\n",
       "      <td>0.015282</td>\n",
       "      <td>0.015688</td>\n",
       "      <td>0.016086</td>\n",
       "      <td>0.016635</td>\n",
       "      <td>0.016780</td>\n",
       "      <td>0.017249</td>\n",
       "      <td>0.017417</td>\n",
       "      <td>0.017631</td>\n",
       "      <td>0.017869</td>\n",
       "      <td>0.018349</td>\n",
       "    </tr>\n",
       "    <tr>\n",
       "      <th>4</th>\n",
       "      <td>0-GV1XW7AqGccPDwwEAAAAQ</td>\n",
       "      <td>0.003490</td>\n",
       "      <td>0.004691</td>\n",
       "      <td>0.006162</td>\n",
       "      <td>0.007429</td>\n",
       "      <td>0.008459</td>\n",
       "      <td>0.009493</td>\n",
       "      <td>0.010564</td>\n",
       "      <td>0.011949</td>\n",
       "      <td>0.013023</td>\n",
       "      <td>...</td>\n",
       "      <td>0.025480</td>\n",
       "      <td>0.026921</td>\n",
       "      <td>0.028188</td>\n",
       "      <td>0.029471</td>\n",
       "      <td>0.030587</td>\n",
       "      <td>0.031314</td>\n",
       "      <td>0.033043</td>\n",
       "      <td>0.034620</td>\n",
       "      <td>0.035875</td>\n",
       "      <td>0.037023</td>\n",
       "    </tr>\n",
       "  </tbody>\n",
       "</table>\n",
       "<p>5 rows × 29 columns</p>\n",
       "</div>"
      ],
      "text/plain": [
       "         match_id_platform  pct_actives_001  pct_actives_002  pct_actives_003  \\\n",
       "0  0-GV-BKigrJWcJMwwEAAABi         0.245508         0.339370         0.408132   \n",
       "1  0-GV-BKvAt0FsJMwwEAAABv         0.002158         0.002899         0.003816   \n",
       "2  0-GV-BPaQSKT8JMwwEAAACP         0.128517         0.195250         0.252511   \n",
       "3  0-GV-P5WwNChivDZAEAAAAn         0.002867         0.005021         0.005831   \n",
       "4  0-GV1XW7AqGccPDwwEAAAAQ         0.003490         0.004691         0.006162   \n",
       "\n",
       "   pct_actives_004  pct_actives_005  pct_actives_006  pct_actives_007  \\\n",
       "0         0.450645         0.518481         0.584256         0.627948   \n",
       "1         0.004408         0.004867         0.005296         0.005914   \n",
       "2         0.289867         0.341674         0.401490         0.452797   \n",
       "3         0.006572         0.006972         0.007594         0.008171   \n",
       "4         0.007429         0.008459         0.009493         0.010564   \n",
       "\n",
       "   pct_actives_008  pct_actives_009  ...  pct_actives_0019  pct_actives_0020  \\\n",
       "0         0.670518         0.715420  ...          1.086071          1.122282   \n",
       "1         0.006487         0.007081  ...          0.013187          0.013553   \n",
       "2         0.505070         0.530118  ...          0.726141          0.741945   \n",
       "3         0.008572         0.009225  ...          0.015282          0.015688   \n",
       "4         0.011949         0.013023  ...          0.025480          0.026921   \n",
       "\n",
       "   pct_actives_0021  pct_actives_0022  pct_actives_0023  pct_actives_0024  \\\n",
       "0          1.150591          1.177301          1.202733          1.227059   \n",
       "1          0.013999          0.014456          0.014910          0.015489   \n",
       "2          0.757079          0.776649          0.813322          0.841869   \n",
       "3          0.016086          0.016635          0.016780          0.017249   \n",
       "4          0.028188          0.029471          0.030587          0.031314   \n",
       "\n",
       "   pct_actives_0025  pct_actives_0026  pct_actives_0027  pct_actives_0028  \n",
       "0          1.251608          1.282392          1.316002          1.337381  \n",
       "1          0.015946          0.016320          0.016758          0.017292  \n",
       "2          0.873462          0.908156          0.943240          0.976150  \n",
       "3          0.017417          0.017631          0.017869          0.018349  \n",
       "4          0.033043          0.034620          0.035875          0.037023  \n",
       "\n",
       "[5 rows x 29 columns]"
      ]
     },
     "execution_count": 70,
     "metadata": {},
     "output_type": "execute_result"
    }
   ],
   "source": [
    "active_data.head()"
   ]
  },
  {
   "cell_type": "code",
   "execution_count": 71,
   "id": "16a5306d",
   "metadata": {
    "scrolled": true
   },
   "outputs": [
    {
     "name": "stdout",
     "output_type": "stream",
     "text": [
      "Final title size: 6084, All title size: 6084\n"
     ]
    }
   ],
   "source": [
    "# start a object\n",
    "logger.info('Setting up the prediction model')\n",
    "percentile_used = 0.8\n",
    "back_consideration_date = 180\n",
    "nfold = np.floor(back_consideration_date/30)\n",
    "cv_func = ModelMain(data_list, metadata_process_info['label_columns'], metadata_process_info['num_columns'])"
   ]
  },
  {
   "cell_type": "markdown",
   "id": "288660de",
   "metadata": {},
   "source": [
    "# New Title Prediction, Post Launch "
   ]
  },
  {
   "cell_type": "markdown",
   "id": "e897f630",
   "metadata": {},
   "source": [
    "### Step 2: Make Prediction\n",
    "Note: Because it is a post launch prediction, only the titles with partial percent view and view through portion data will be predicted"
   ]
  },
  {
   "cell_type": "code",
   "execution_count": null,
   "id": "9326d2cd",
   "metadata": {
    "collapsed": true,
    "jupyter": {
     "outputs_hidden": true
    }
   },
   "outputs": [
    {
     "name": "stdout",
     "output_type": "stream",
     "text": [
      "only 16 titles considered after prelaunch filter\n",
      "the number of days is not large enough to use log ratio transformation\n",
      "X and y are ready based on the input params\n",
      "no title needs to be predicted at day -27\n",
      "only 17 titles considered after prelaunch filter\n",
      "the number of days is not large enough to use log ratio transformation\n",
      "X and y are ready based on the input params\n",
      "no title needs to be predicted at day -26\n",
      "only 18 titles considered after prelaunch filter\n",
      "the number of days is not large enough to use log ratio transformation\n",
      "X and y are ready based on the input params\n",
      "no title needs to be predicted at day -25\n"
     ]
    },
    {
     "name": "stderr",
     "output_type": "stream",
     "text": [
      "/home/ec2-user/SageMaker/max-datascience-content-airflow/Sagemaker_Models/actives_post_launch/lib/feature_engineering.py:264: UserWarning: Boolean Series key will be reindexed to match DataFrame index.\n",
      "  self.X_base = self.X[self.y!=-100]\n",
      "/home/ec2-user/SageMaker/max-datascience-content-airflow/Sagemaker_Models/actives_post_launch/lib/feature_engineering.py:266: UserWarning: Boolean Series key will be reindexed to match DataFrame index.\n",
      "  self.X_pred = self.X[((self.y==-100) & (self.X['platform_name']==1))]\n",
      "/home/ec2-user/SageMaker/max-datascience-content-airflow/Sagemaker_Models/actives_post_launch/lib/feature_engineering.py:264: UserWarning: Boolean Series key will be reindexed to match DataFrame index.\n",
      "  self.X_base = self.X[self.y!=-100]\n",
      "/home/ec2-user/SageMaker/max-datascience-content-airflow/Sagemaker_Models/actives_post_launch/lib/feature_engineering.py:266: UserWarning: Boolean Series key will be reindexed to match DataFrame index.\n",
      "  self.X_pred = self.X[((self.y==-100) & (self.X['platform_name']==1))]\n",
      "/home/ec2-user/SageMaker/max-datascience-content-airflow/Sagemaker_Models/actives_post_launch/lib/feature_engineering.py:264: UserWarning: Boolean Series key will be reindexed to match DataFrame index.\n",
      "  self.X_base = self.X[self.y!=-100]\n",
      "/home/ec2-user/SageMaker/max-datascience-content-airflow/Sagemaker_Models/actives_post_launch/lib/feature_engineering.py:266: UserWarning: Boolean Series key will be reindexed to match DataFrame index.\n",
      "  self.X_pred = self.X[((self.y==-100) & (self.X['platform_name']==1))]\n"
     ]
    },
    {
     "name": "stdout",
     "output_type": "stream",
     "text": [
      "only 19 titles considered after prelaunch filter\n",
      "the number of days is not large enough to use log ratio transformation\n",
      "X and y are ready based on the input params\n",
      "no title needs to be predicted at day -24\n",
      "only 20 titles considered after prelaunch filter\n",
      "the number of days is not large enough to use log ratio transformation\n",
      "X and y are ready based on the input params\n",
      "no title needs to be predicted at day -23\n",
      "only 21 titles considered after prelaunch filter\n",
      "the number of days is not large enough to use log ratio transformation\n",
      "X and y are ready based on the input params\n",
      "no title needs to be predicted at day -22\n"
     ]
    },
    {
     "name": "stderr",
     "output_type": "stream",
     "text": [
      "/home/ec2-user/SageMaker/max-datascience-content-airflow/Sagemaker_Models/actives_post_launch/lib/feature_engineering.py:264: UserWarning: Boolean Series key will be reindexed to match DataFrame index.\n",
      "  self.X_base = self.X[self.y!=-100]\n",
      "/home/ec2-user/SageMaker/max-datascience-content-airflow/Sagemaker_Models/actives_post_launch/lib/feature_engineering.py:266: UserWarning: Boolean Series key will be reindexed to match DataFrame index.\n",
      "  self.X_pred = self.X[((self.y==-100) & (self.X['platform_name']==1))]\n",
      "/home/ec2-user/SageMaker/max-datascience-content-airflow/Sagemaker_Models/actives_post_launch/lib/feature_engineering.py:264: UserWarning: Boolean Series key will be reindexed to match DataFrame index.\n",
      "  self.X_base = self.X[self.y!=-100]\n",
      "/home/ec2-user/SageMaker/max-datascience-content-airflow/Sagemaker_Models/actives_post_launch/lib/feature_engineering.py:266: UserWarning: Boolean Series key will be reindexed to match DataFrame index.\n",
      "  self.X_pred = self.X[((self.y==-100) & (self.X['platform_name']==1))]\n",
      "/home/ec2-user/SageMaker/max-datascience-content-airflow/Sagemaker_Models/actives_post_launch/lib/feature_engineering.py:264: UserWarning: Boolean Series key will be reindexed to match DataFrame index.\n",
      "  self.X_base = self.X[self.y!=-100]\n",
      "/home/ec2-user/SageMaker/max-datascience-content-airflow/Sagemaker_Models/actives_post_launch/lib/feature_engineering.py:266: UserWarning: Boolean Series key will be reindexed to match DataFrame index.\n",
      "  self.X_pred = self.X[((self.y==-100) & (self.X['platform_name']==1))]\n"
     ]
    },
    {
     "name": "stdout",
     "output_type": "stream",
     "text": [
      "only 22 titles considered after prelaunch filter\n",
      "the number of days is not large enough to use log ratio transformation\n",
      "X and y are ready based on the input params\n",
      "no title needs to be predicted at day -21\n",
      "only 23 titles considered after prelaunch filter\n",
      "the number of days is not large enough to use log ratio transformation\n",
      "X and y are ready based on the input params\n",
      "no title needs to be predicted at day -20\n",
      "only 24 titles considered after prelaunch filter\n",
      "the number of days is not large enough to use log ratio transformation\n",
      "X and y are ready based on the input params\n",
      "no title needs to be predicted at day -19\n"
     ]
    },
    {
     "name": "stderr",
     "output_type": "stream",
     "text": [
      "/home/ec2-user/SageMaker/max-datascience-content-airflow/Sagemaker_Models/actives_post_launch/lib/feature_engineering.py:264: UserWarning: Boolean Series key will be reindexed to match DataFrame index.\n",
      "  self.X_base = self.X[self.y!=-100]\n",
      "/home/ec2-user/SageMaker/max-datascience-content-airflow/Sagemaker_Models/actives_post_launch/lib/feature_engineering.py:266: UserWarning: Boolean Series key will be reindexed to match DataFrame index.\n",
      "  self.X_pred = self.X[((self.y==-100) & (self.X['platform_name']==1))]\n",
      "/home/ec2-user/SageMaker/max-datascience-content-airflow/Sagemaker_Models/actives_post_launch/lib/feature_engineering.py:264: UserWarning: Boolean Series key will be reindexed to match DataFrame index.\n",
      "  self.X_base = self.X[self.y!=-100]\n",
      "/home/ec2-user/SageMaker/max-datascience-content-airflow/Sagemaker_Models/actives_post_launch/lib/feature_engineering.py:266: UserWarning: Boolean Series key will be reindexed to match DataFrame index.\n",
      "  self.X_pred = self.X[((self.y==-100) & (self.X['platform_name']==1))]\n",
      "/home/ec2-user/SageMaker/max-datascience-content-airflow/Sagemaker_Models/actives_post_launch/lib/feature_engineering.py:264: UserWarning: Boolean Series key will be reindexed to match DataFrame index.\n",
      "  self.X_base = self.X[self.y!=-100]\n",
      "/home/ec2-user/SageMaker/max-datascience-content-airflow/Sagemaker_Models/actives_post_launch/lib/feature_engineering.py:266: UserWarning: Boolean Series key will be reindexed to match DataFrame index.\n",
      "  self.X_pred = self.X[((self.y==-100) & (self.X['platform_name']==1))]\n"
     ]
    },
    {
     "name": "stdout",
     "output_type": "stream",
     "text": [
      "only 24 titles considered after prelaunch filter\n",
      "the number of days is not large enough to use log ratio transformation\n",
      "X and y are ready based on the input params\n",
      "no title needs to be predicted at day -18\n",
      "only 25 titles considered after prelaunch filter\n",
      "the number of days is not large enough to use log ratio transformation\n",
      "X and y are ready based on the input params\n",
      "no title needs to be predicted at day -17\n",
      "only 25 titles considered after prelaunch filter\n",
      "the number of days is not large enough to use log ratio transformation\n",
      "X and y are ready based on the input params\n",
      "no title needs to be predicted at day -16\n"
     ]
    },
    {
     "name": "stderr",
     "output_type": "stream",
     "text": [
      "/home/ec2-user/SageMaker/max-datascience-content-airflow/Sagemaker_Models/actives_post_launch/lib/feature_engineering.py:264: UserWarning: Boolean Series key will be reindexed to match DataFrame index.\n",
      "  self.X_base = self.X[self.y!=-100]\n",
      "/home/ec2-user/SageMaker/max-datascience-content-airflow/Sagemaker_Models/actives_post_launch/lib/feature_engineering.py:266: UserWarning: Boolean Series key will be reindexed to match DataFrame index.\n",
      "  self.X_pred = self.X[((self.y==-100) & (self.X['platform_name']==1))]\n",
      "/home/ec2-user/SageMaker/max-datascience-content-airflow/Sagemaker_Models/actives_post_launch/lib/feature_engineering.py:264: UserWarning: Boolean Series key will be reindexed to match DataFrame index.\n",
      "  self.X_base = self.X[self.y!=-100]\n",
      "/home/ec2-user/SageMaker/max-datascience-content-airflow/Sagemaker_Models/actives_post_launch/lib/feature_engineering.py:266: UserWarning: Boolean Series key will be reindexed to match DataFrame index.\n",
      "  self.X_pred = self.X[((self.y==-100) & (self.X['platform_name']==1))]\n",
      "/home/ec2-user/SageMaker/max-datascience-content-airflow/Sagemaker_Models/actives_post_launch/lib/feature_engineering.py:264: UserWarning: Boolean Series key will be reindexed to match DataFrame index.\n",
      "  self.X_base = self.X[self.y!=-100]\n",
      "/home/ec2-user/SageMaker/max-datascience-content-airflow/Sagemaker_Models/actives_post_launch/lib/feature_engineering.py:266: UserWarning: Boolean Series key will be reindexed to match DataFrame index.\n",
      "  self.X_pred = self.X[((self.y==-100) & (self.X['platform_name']==1))]\n"
     ]
    },
    {
     "name": "stdout",
     "output_type": "stream",
     "text": [
      "only 26 titles considered after prelaunch filter\n",
      "the number of days is not large enough to use log ratio transformation\n",
      "X and y are ready based on the input params\n",
      "no title needs to be predicted at day -15\n",
      "only 27 titles considered after prelaunch filter\n",
      "the number of days is not large enough to use log ratio transformation\n",
      "X and y are ready based on the input params\n",
      "no title needs to be predicted at day -14\n",
      "only 29 titles considered after prelaunch filter\n",
      "the number of days is not large enough to use log ratio transformation\n",
      "X and y are ready based on the input params\n",
      "no title needs to be predicted at day -13\n"
     ]
    },
    {
     "name": "stderr",
     "output_type": "stream",
     "text": [
      "/home/ec2-user/SageMaker/max-datascience-content-airflow/Sagemaker_Models/actives_post_launch/lib/feature_engineering.py:264: UserWarning: Boolean Series key will be reindexed to match DataFrame index.\n",
      "  self.X_base = self.X[self.y!=-100]\n",
      "/home/ec2-user/SageMaker/max-datascience-content-airflow/Sagemaker_Models/actives_post_launch/lib/feature_engineering.py:266: UserWarning: Boolean Series key will be reindexed to match DataFrame index.\n",
      "  self.X_pred = self.X[((self.y==-100) & (self.X['platform_name']==1))]\n",
      "/home/ec2-user/SageMaker/max-datascience-content-airflow/Sagemaker_Models/actives_post_launch/lib/feature_engineering.py:264: UserWarning: Boolean Series key will be reindexed to match DataFrame index.\n",
      "  self.X_base = self.X[self.y!=-100]\n",
      "/home/ec2-user/SageMaker/max-datascience-content-airflow/Sagemaker_Models/actives_post_launch/lib/feature_engineering.py:266: UserWarning: Boolean Series key will be reindexed to match DataFrame index.\n",
      "  self.X_pred = self.X[((self.y==-100) & (self.X['platform_name']==1))]\n",
      "/home/ec2-user/SageMaker/max-datascience-content-airflow/Sagemaker_Models/actives_post_launch/lib/feature_engineering.py:264: UserWarning: Boolean Series key will be reindexed to match DataFrame index.\n",
      "  self.X_base = self.X[self.y!=-100]\n",
      "/home/ec2-user/SageMaker/max-datascience-content-airflow/Sagemaker_Models/actives_post_launch/lib/feature_engineering.py:266: UserWarning: Boolean Series key will be reindexed to match DataFrame index.\n",
      "  self.X_pred = self.X[((self.y==-100) & (self.X['platform_name']==1))]\n"
     ]
    },
    {
     "name": "stdout",
     "output_type": "stream",
     "text": [
      "only 29 titles considered after prelaunch filter\n",
      "the number of days is not large enough to use log ratio transformation\n",
      "X and y are ready based on the input params\n",
      "no title needs to be predicted at day -12\n",
      "only 29 titles considered after prelaunch filter\n",
      "the number of days is not large enough to use log ratio transformation\n",
      "X and y are ready based on the input params\n",
      "no title needs to be predicted at day -11\n",
      "only 29 titles considered after prelaunch filter\n",
      "the number of days is not large enough to use log ratio transformation\n",
      "X and y are ready based on the input params\n",
      "no title needs to be predicted at day -10\n"
     ]
    },
    {
     "name": "stderr",
     "output_type": "stream",
     "text": [
      "/home/ec2-user/SageMaker/max-datascience-content-airflow/Sagemaker_Models/actives_post_launch/lib/feature_engineering.py:264: UserWarning: Boolean Series key will be reindexed to match DataFrame index.\n",
      "  self.X_base = self.X[self.y!=-100]\n",
      "/home/ec2-user/SageMaker/max-datascience-content-airflow/Sagemaker_Models/actives_post_launch/lib/feature_engineering.py:266: UserWarning: Boolean Series key will be reindexed to match DataFrame index.\n",
      "  self.X_pred = self.X[((self.y==-100) & (self.X['platform_name']==1))]\n",
      "/home/ec2-user/SageMaker/max-datascience-content-airflow/Sagemaker_Models/actives_post_launch/lib/feature_engineering.py:264: UserWarning: Boolean Series key will be reindexed to match DataFrame index.\n",
      "  self.X_base = self.X[self.y!=-100]\n",
      "/home/ec2-user/SageMaker/max-datascience-content-airflow/Sagemaker_Models/actives_post_launch/lib/feature_engineering.py:266: UserWarning: Boolean Series key will be reindexed to match DataFrame index.\n",
      "  self.X_pred = self.X[((self.y==-100) & (self.X['platform_name']==1))]\n",
      "/home/ec2-user/SageMaker/max-datascience-content-airflow/Sagemaker_Models/actives_post_launch/lib/feature_engineering.py:264: UserWarning: Boolean Series key will be reindexed to match DataFrame index.\n",
      "  self.X_base = self.X[self.y!=-100]\n",
      "/home/ec2-user/SageMaker/max-datascience-content-airflow/Sagemaker_Models/actives_post_launch/lib/feature_engineering.py:266: UserWarning: Boolean Series key will be reindexed to match DataFrame index.\n",
      "  self.X_pred = self.X[((self.y==-100) & (self.X['platform_name']==1))]\n"
     ]
    },
    {
     "name": "stdout",
     "output_type": "stream",
     "text": [
      "only 29 titles considered after prelaunch filter\n",
      "the number of days is not large enough to use log ratio transformation\n",
      "X and y are ready based on the input params\n",
      "no title needs to be predicted at day -9\n",
      "only 30 titles considered after prelaunch filter\n",
      "the number of days is not large enough to use log ratio transformation\n",
      "X and y are ready based on the input params\n",
      "no title needs to be predicted at day -8\n",
      "only 31 titles considered after prelaunch filter\n",
      "the number of days is not large enough to use log ratio transformation\n",
      "X and y are ready based on the input params\n",
      "no title needs to be predicted at day -7\n"
     ]
    },
    {
     "name": "stderr",
     "output_type": "stream",
     "text": [
      "/home/ec2-user/SageMaker/max-datascience-content-airflow/Sagemaker_Models/actives_post_launch/lib/feature_engineering.py:264: UserWarning: Boolean Series key will be reindexed to match DataFrame index.\n",
      "  self.X_base = self.X[self.y!=-100]\n",
      "/home/ec2-user/SageMaker/max-datascience-content-airflow/Sagemaker_Models/actives_post_launch/lib/feature_engineering.py:266: UserWarning: Boolean Series key will be reindexed to match DataFrame index.\n",
      "  self.X_pred = self.X[((self.y==-100) & (self.X['platform_name']==1))]\n",
      "/home/ec2-user/SageMaker/max-datascience-content-airflow/Sagemaker_Models/actives_post_launch/lib/feature_engineering.py:264: UserWarning: Boolean Series key will be reindexed to match DataFrame index.\n",
      "  self.X_base = self.X[self.y!=-100]\n",
      "/home/ec2-user/SageMaker/max-datascience-content-airflow/Sagemaker_Models/actives_post_launch/lib/feature_engineering.py:266: UserWarning: Boolean Series key will be reindexed to match DataFrame index.\n",
      "  self.X_pred = self.X[((self.y==-100) & (self.X['platform_name']==1))]\n",
      "/home/ec2-user/SageMaker/max-datascience-content-airflow/Sagemaker_Models/actives_post_launch/lib/feature_engineering.py:264: UserWarning: Boolean Series key will be reindexed to match DataFrame index.\n",
      "  self.X_base = self.X[self.y!=-100]\n",
      "/home/ec2-user/SageMaker/max-datascience-content-airflow/Sagemaker_Models/actives_post_launch/lib/feature_engineering.py:266: UserWarning: Boolean Series key will be reindexed to match DataFrame index.\n",
      "  self.X_pred = self.X[((self.y==-100) & (self.X['platform_name']==1))]\n"
     ]
    },
    {
     "name": "stdout",
     "output_type": "stream",
     "text": [
      "only 32 titles considered after prelaunch filter\n",
      "the number of days is not large enough to use log ratio transformation\n",
      "X and y are ready based on the input params\n",
      "no title needs to be predicted at day -6\n",
      "only 32 titles considered after prelaunch filter\n",
      "the number of days is not large enough to use log ratio transformation\n",
      "X and y are ready based on the input params\n",
      "no title needs to be predicted at day -5\n",
      "only 32 titles considered after prelaunch filter\n",
      "the number of days is not large enough to use log ratio transformation\n",
      "X and y are ready based on the input params\n",
      "no title needs to be predicted at day -4\n"
     ]
    },
    {
     "name": "stderr",
     "output_type": "stream",
     "text": [
      "/home/ec2-user/SageMaker/max-datascience-content-airflow/Sagemaker_Models/actives_post_launch/lib/feature_engineering.py:264: UserWarning: Boolean Series key will be reindexed to match DataFrame index.\n",
      "  self.X_base = self.X[self.y!=-100]\n",
      "/home/ec2-user/SageMaker/max-datascience-content-airflow/Sagemaker_Models/actives_post_launch/lib/feature_engineering.py:266: UserWarning: Boolean Series key will be reindexed to match DataFrame index.\n",
      "  self.X_pred = self.X[((self.y==-100) & (self.X['platform_name']==1))]\n",
      "/home/ec2-user/SageMaker/max-datascience-content-airflow/Sagemaker_Models/actives_post_launch/lib/feature_engineering.py:264: UserWarning: Boolean Series key will be reindexed to match DataFrame index.\n",
      "  self.X_base = self.X[self.y!=-100]\n",
      "/home/ec2-user/SageMaker/max-datascience-content-airflow/Sagemaker_Models/actives_post_launch/lib/feature_engineering.py:266: UserWarning: Boolean Series key will be reindexed to match DataFrame index.\n",
      "  self.X_pred = self.X[((self.y==-100) & (self.X['platform_name']==1))]\n",
      "/home/ec2-user/SageMaker/max-datascience-content-airflow/Sagemaker_Models/actives_post_launch/lib/feature_engineering.py:264: UserWarning: Boolean Series key will be reindexed to match DataFrame index.\n",
      "  self.X_base = self.X[self.y!=-100]\n",
      "/home/ec2-user/SageMaker/max-datascience-content-airflow/Sagemaker_Models/actives_post_launch/lib/feature_engineering.py:266: UserWarning: Boolean Series key will be reindexed to match DataFrame index.\n",
      "  self.X_pred = self.X[((self.y==-100) & (self.X['platform_name']==1))]\n"
     ]
    },
    {
     "name": "stdout",
     "output_type": "stream",
     "text": [
      "only 33 titles considered after prelaunch filter\n",
      "the number of days is not large enough to use log ratio transformation\n",
      "X and y are ready based on the input params\n",
      "no title needs to be predicted at day -3\n",
      "only 33 titles considered after prelaunch filter\n",
      "the number of days is not large enough to use log ratio transformation\n",
      "X and y are ready based on the input params\n",
      "no title needs to be predicted at day -2\n",
      "only 33 titles considered after prelaunch filter\n",
      "the number of days is not large enough to use log ratio transformation\n",
      "X and y are ready based on the input params\n",
      "no title needs to be predicted at day -1\n"
     ]
    },
    {
     "name": "stderr",
     "output_type": "stream",
     "text": [
      "/home/ec2-user/SageMaker/max-datascience-content-airflow/Sagemaker_Models/actives_post_launch/lib/feature_engineering.py:264: UserWarning: Boolean Series key will be reindexed to match DataFrame index.\n",
      "  self.X_base = self.X[self.y!=-100]\n",
      "/home/ec2-user/SageMaker/max-datascience-content-airflow/Sagemaker_Models/actives_post_launch/lib/feature_engineering.py:266: UserWarning: Boolean Series key will be reindexed to match DataFrame index.\n",
      "  self.X_pred = self.X[((self.y==-100) & (self.X['platform_name']==1))]\n",
      "/home/ec2-user/SageMaker/max-datascience-content-airflow/Sagemaker_Models/actives_post_launch/lib/feature_engineering.py:264: UserWarning: Boolean Series key will be reindexed to match DataFrame index.\n",
      "  self.X_base = self.X[self.y!=-100]\n",
      "/home/ec2-user/SageMaker/max-datascience-content-airflow/Sagemaker_Models/actives_post_launch/lib/feature_engineering.py:266: UserWarning: Boolean Series key will be reindexed to match DataFrame index.\n",
      "  self.X_pred = self.X[((self.y==-100) & (self.X['platform_name']==1))]\n",
      "/home/ec2-user/SageMaker/max-datascience-content-airflow/Sagemaker_Models/actives_post_launch/lib/feature_engineering.py:264: UserWarning: Boolean Series key will be reindexed to match DataFrame index.\n",
      "  self.X_base = self.X[self.y!=-100]\n",
      "/home/ec2-user/SageMaker/max-datascience-content-airflow/Sagemaker_Models/actives_post_launch/lib/feature_engineering.py:266: UserWarning: Boolean Series key will be reindexed to match DataFrame index.\n",
      "  self.X_pred = self.X[((self.y==-100) & (self.X['platform_name']==1))]\n"
     ]
    },
    {
     "name": "stdout",
     "output_type": "stream",
     "text": [
      "only 33 titles considered after prelaunch filter\n",
      "the number of days is not large enough to use log ratio transformation\n",
      "X and y are ready based on the input params\n",
      "no title needs to be predicted at day 0\n",
      "keeps the titles above 80.0 percentile day1 viewed over all titles only\n",
      "only 1186 titles considered\n",
      "X and y are ready based on the input params\n",
      "Tune parameter for day 1\n",
      "parameter combination 1\n"
     ]
    },
    {
     "name": "stderr",
     "output_type": "stream",
     "text": [
      "/home/ec2-user/SageMaker/max-datascience-content-airflow/Sagemaker_Models/actives_post_launch/lib/feature_engineering.py:264: UserWarning: Boolean Series key will be reindexed to match DataFrame index.\n",
      "  self.X_base = self.X[self.y!=-100]\n",
      "/home/ec2-user/SageMaker/max-datascience-content-airflow/Sagemaker_Models/actives_post_launch/lib/feature_engineering.py:266: UserWarning: Boolean Series key will be reindexed to match DataFrame index.\n",
      "  self.X_pred = self.X[((self.y==-100) & (self.X['platform_name']==1))]\n",
      "/home/ec2-user/anaconda3/envs/python3/lib/python3.6/site-packages/lightgbm/engine.py:148: UserWarning: Found `num_boost_round` in params. Will use it instead of argument\n",
      "  _log_warning(\"Found `{}` in params. Will use it instead of argument\".format(alias))\n"
     ]
    },
    {
     "name": "stdout",
     "output_type": "stream",
     "text": [
      "parameter combination 2\n"
     ]
    },
    {
     "name": "stderr",
     "output_type": "stream",
     "text": [
      "/home/ec2-user/anaconda3/envs/python3/lib/python3.6/site-packages/lightgbm/engine.py:148: UserWarning: Found `num_boost_round` in params. Will use it instead of argument\n",
      "  _log_warning(\"Found `{}` in params. Will use it instead of argument\".format(alias))\n"
     ]
    },
    {
     "name": "stdout",
     "output_type": "stream",
     "text": [
      "parameter combination 3\n"
     ]
    },
    {
     "name": "stderr",
     "output_type": "stream",
     "text": [
      "/home/ec2-user/anaconda3/envs/python3/lib/python3.6/site-packages/lightgbm/engine.py:148: UserWarning: Found `num_boost_round` in params. Will use it instead of argument\n",
      "  _log_warning(\"Found `{}` in params. Will use it instead of argument\".format(alias))\n"
     ]
    },
    {
     "name": "stdout",
     "output_type": "stream",
     "text": [
      "parameter combination 4\n"
     ]
    },
    {
     "name": "stderr",
     "output_type": "stream",
     "text": [
      "/home/ec2-user/anaconda3/envs/python3/lib/python3.6/site-packages/lightgbm/engine.py:148: UserWarning: Found `num_boost_round` in params. Will use it instead of argument\n",
      "  _log_warning(\"Found `{}` in params. Will use it instead of argument\".format(alias))\n"
     ]
    },
    {
     "name": "stdout",
     "output_type": "stream",
     "text": [
      "parameter combination 5\n"
     ]
    },
    {
     "name": "stderr",
     "output_type": "stream",
     "text": [
      "/home/ec2-user/anaconda3/envs/python3/lib/python3.6/site-packages/lightgbm/engine.py:148: UserWarning: Found `num_boost_round` in params. Will use it instead of argument\n",
      "  _log_warning(\"Found `{}` in params. Will use it instead of argument\".format(alias))\n"
     ]
    },
    {
     "name": "stdout",
     "output_type": "stream",
     "text": [
      "parameter combination 6\n"
     ]
    },
    {
     "name": "stderr",
     "output_type": "stream",
     "text": [
      "/home/ec2-user/anaconda3/envs/python3/lib/python3.6/site-packages/lightgbm/engine.py:148: UserWarning: Found `num_boost_round` in params. Will use it instead of argument\n",
      "  _log_warning(\"Found `{}` in params. Will use it instead of argument\".format(alias))\n"
     ]
    },
    {
     "name": "stdout",
     "output_type": "stream",
     "text": [
      "parameter combination 7\n"
     ]
    },
    {
     "name": "stderr",
     "output_type": "stream",
     "text": [
      "/home/ec2-user/anaconda3/envs/python3/lib/python3.6/site-packages/lightgbm/engine.py:148: UserWarning: Found `num_boost_round` in params. Will use it instead of argument\n",
      "  _log_warning(\"Found `{}` in params. Will use it instead of argument\".format(alias))\n"
     ]
    },
    {
     "name": "stdout",
     "output_type": "stream",
     "text": [
      "parameter combination 8\n"
     ]
    },
    {
     "name": "stderr",
     "output_type": "stream",
     "text": [
      "/home/ec2-user/anaconda3/envs/python3/lib/python3.6/site-packages/lightgbm/engine.py:148: UserWarning: Found `num_boost_round` in params. Will use it instead of argument\n",
      "  _log_warning(\"Found `{}` in params. Will use it instead of argument\".format(alias))\n"
     ]
    },
    {
     "name": "stdout",
     "output_type": "stream",
     "text": [
      "SMAPE for all titles 0.2854812624477232\n",
      "SMAPE for the originals 0.2606525008105219\n",
      "Making prediction for day 1\n"
     ]
    },
    {
     "name": "stderr",
     "output_type": "stream",
     "text": [
      "/home/ec2-user/anaconda3/envs/python3/lib/python3.6/site-packages/lightgbm/engine.py:148: UserWarning: Found `num_boost_round` in params. Will use it instead of argument\n",
      "  _log_warning(\"Found `{}` in params. Will use it instead of argument\".format(alias))\n"
     ]
    },
    {
     "name": "stdout",
     "output_type": "stream",
     "text": [
      "keeps the titles above 80.0 percentile day1 viewed over all titles only\n",
      "only 1186 titles considered\n",
      "X and y are ready based on the input params\n",
      "Tune parameter for day 2\n",
      "parameter combination 1\n"
     ]
    },
    {
     "name": "stderr",
     "output_type": "stream",
     "text": [
      "/home/ec2-user/anaconda3/envs/python3/lib/python3.6/site-packages/lightgbm/engine.py:148: UserWarning: Found `num_boost_round` in params. Will use it instead of argument\n",
      "  _log_warning(\"Found `{}` in params. Will use it instead of argument\".format(alias))\n"
     ]
    },
    {
     "name": "stdout",
     "output_type": "stream",
     "text": [
      "parameter combination 2\n"
     ]
    },
    {
     "name": "stderr",
     "output_type": "stream",
     "text": [
      "/home/ec2-user/anaconda3/envs/python3/lib/python3.6/site-packages/lightgbm/engine.py:148: UserWarning: Found `num_boost_round` in params. Will use it instead of argument\n",
      "  _log_warning(\"Found `{}` in params. Will use it instead of argument\".format(alias))\n"
     ]
    },
    {
     "name": "stdout",
     "output_type": "stream",
     "text": [
      "parameter combination 3\n"
     ]
    },
    {
     "name": "stderr",
     "output_type": "stream",
     "text": [
      "/home/ec2-user/anaconda3/envs/python3/lib/python3.6/site-packages/lightgbm/engine.py:148: UserWarning: Found `num_boost_round` in params. Will use it instead of argument\n",
      "  _log_warning(\"Found `{}` in params. Will use it instead of argument\".format(alias))\n"
     ]
    },
    {
     "name": "stdout",
     "output_type": "stream",
     "text": [
      "parameter combination 4\n"
     ]
    },
    {
     "name": "stderr",
     "output_type": "stream",
     "text": [
      "/home/ec2-user/anaconda3/envs/python3/lib/python3.6/site-packages/lightgbm/engine.py:148: UserWarning: Found `num_boost_round` in params. Will use it instead of argument\n",
      "  _log_warning(\"Found `{}` in params. Will use it instead of argument\".format(alias))\n"
     ]
    },
    {
     "name": "stdout",
     "output_type": "stream",
     "text": [
      "parameter combination 5\n"
     ]
    },
    {
     "name": "stderr",
     "output_type": "stream",
     "text": [
      "/home/ec2-user/anaconda3/envs/python3/lib/python3.6/site-packages/lightgbm/engine.py:148: UserWarning: Found `num_boost_round` in params. Will use it instead of argument\n",
      "  _log_warning(\"Found `{}` in params. Will use it instead of argument\".format(alias))\n"
     ]
    },
    {
     "name": "stdout",
     "output_type": "stream",
     "text": [
      "parameter combination 6\n"
     ]
    },
    {
     "name": "stderr",
     "output_type": "stream",
     "text": [
      "/home/ec2-user/anaconda3/envs/python3/lib/python3.6/site-packages/lightgbm/engine.py:148: UserWarning: Found `num_boost_round` in params. Will use it instead of argument\n",
      "  _log_warning(\"Found `{}` in params. Will use it instead of argument\".format(alias))\n"
     ]
    },
    {
     "name": "stdout",
     "output_type": "stream",
     "text": [
      "parameter combination 7\n"
     ]
    },
    {
     "name": "stderr",
     "output_type": "stream",
     "text": [
      "/home/ec2-user/anaconda3/envs/python3/lib/python3.6/site-packages/lightgbm/engine.py:148: UserWarning: Found `num_boost_round` in params. Will use it instead of argument\n",
      "  _log_warning(\"Found `{}` in params. Will use it instead of argument\".format(alias))\n"
     ]
    },
    {
     "name": "stdout",
     "output_type": "stream",
     "text": [
      "parameter combination 8\n"
     ]
    },
    {
     "name": "stderr",
     "output_type": "stream",
     "text": [
      "/home/ec2-user/anaconda3/envs/python3/lib/python3.6/site-packages/lightgbm/engine.py:148: UserWarning: Found `num_boost_round` in params. Will use it instead of argument\n",
      "  _log_warning(\"Found `{}` in params. Will use it instead of argument\".format(alias))\n"
     ]
    },
    {
     "name": "stdout",
     "output_type": "stream",
     "text": [
      "SMAPE for all titles 0.3052652985176481\n",
      "SMAPE for the originals 0.2600346932625543\n",
      "Making prediction for day 2\n"
     ]
    },
    {
     "name": "stderr",
     "output_type": "stream",
     "text": [
      "/home/ec2-user/anaconda3/envs/python3/lib/python3.6/site-packages/lightgbm/engine.py:148: UserWarning: Found `num_boost_round` in params. Will use it instead of argument\n",
      "  _log_warning(\"Found `{}` in params. Will use it instead of argument\".format(alias))\n"
     ]
    },
    {
     "name": "stdout",
     "output_type": "stream",
     "text": [
      "keeps the titles above 80.0 percentile day1 viewed over all titles only\n",
      "only 1186 titles considered\n",
      "X and y are ready based on the input params\n",
      "Tune parameter for day 3\n",
      "parameter combination 1\n"
     ]
    },
    {
     "name": "stderr",
     "output_type": "stream",
     "text": [
      "/home/ec2-user/anaconda3/envs/python3/lib/python3.6/site-packages/lightgbm/engine.py:148: UserWarning: Found `num_boost_round` in params. Will use it instead of argument\n",
      "  _log_warning(\"Found `{}` in params. Will use it instead of argument\".format(alias))\n"
     ]
    },
    {
     "name": "stdout",
     "output_type": "stream",
     "text": [
      "parameter combination 2\n"
     ]
    },
    {
     "name": "stderr",
     "output_type": "stream",
     "text": [
      "/home/ec2-user/anaconda3/envs/python3/lib/python3.6/site-packages/lightgbm/engine.py:148: UserWarning: Found `num_boost_round` in params. Will use it instead of argument\n",
      "  _log_warning(\"Found `{}` in params. Will use it instead of argument\".format(alias))\n"
     ]
    },
    {
     "name": "stdout",
     "output_type": "stream",
     "text": [
      "parameter combination 3\n"
     ]
    },
    {
     "name": "stderr",
     "output_type": "stream",
     "text": [
      "/home/ec2-user/anaconda3/envs/python3/lib/python3.6/site-packages/lightgbm/engine.py:148: UserWarning: Found `num_boost_round` in params. Will use it instead of argument\n",
      "  _log_warning(\"Found `{}` in params. Will use it instead of argument\".format(alias))\n"
     ]
    },
    {
     "name": "stdout",
     "output_type": "stream",
     "text": [
      "parameter combination 4\n"
     ]
    },
    {
     "name": "stderr",
     "output_type": "stream",
     "text": [
      "/home/ec2-user/anaconda3/envs/python3/lib/python3.6/site-packages/lightgbm/engine.py:148: UserWarning: Found `num_boost_round` in params. Will use it instead of argument\n",
      "  _log_warning(\"Found `{}` in params. Will use it instead of argument\".format(alias))\n"
     ]
    },
    {
     "name": "stdout",
     "output_type": "stream",
     "text": [
      "parameter combination 5\n"
     ]
    },
    {
     "name": "stderr",
     "output_type": "stream",
     "text": [
      "/home/ec2-user/anaconda3/envs/python3/lib/python3.6/site-packages/lightgbm/engine.py:148: UserWarning: Found `num_boost_round` in params. Will use it instead of argument\n",
      "  _log_warning(\"Found `{}` in params. Will use it instead of argument\".format(alias))\n"
     ]
    },
    {
     "name": "stdout",
     "output_type": "stream",
     "text": [
      "parameter combination 6\n"
     ]
    },
    {
     "name": "stderr",
     "output_type": "stream",
     "text": [
      "/home/ec2-user/anaconda3/envs/python3/lib/python3.6/site-packages/lightgbm/engine.py:148: UserWarning: Found `num_boost_round` in params. Will use it instead of argument\n",
      "  _log_warning(\"Found `{}` in params. Will use it instead of argument\".format(alias))\n"
     ]
    },
    {
     "name": "stdout",
     "output_type": "stream",
     "text": [
      "parameter combination 7\n"
     ]
    },
    {
     "name": "stderr",
     "output_type": "stream",
     "text": [
      "/home/ec2-user/anaconda3/envs/python3/lib/python3.6/site-packages/lightgbm/engine.py:148: UserWarning: Found `num_boost_round` in params. Will use it instead of argument\n",
      "  _log_warning(\"Found `{}` in params. Will use it instead of argument\".format(alias))\n"
     ]
    },
    {
     "name": "stdout",
     "output_type": "stream",
     "text": [
      "parameter combination 8\n"
     ]
    },
    {
     "name": "stderr",
     "output_type": "stream",
     "text": [
      "/home/ec2-user/anaconda3/envs/python3/lib/python3.6/site-packages/lightgbm/engine.py:148: UserWarning: Found `num_boost_round` in params. Will use it instead of argument\n",
      "  _log_warning(\"Found `{}` in params. Will use it instead of argument\".format(alias))\n"
     ]
    },
    {
     "name": "stdout",
     "output_type": "stream",
     "text": [
      "SMAPE for all titles 0.2813786766704221\n",
      "SMAPE for the originals 0.22375721447627384\n",
      "Making prediction for day 3\n"
     ]
    },
    {
     "name": "stderr",
     "output_type": "stream",
     "text": [
      "/home/ec2-user/anaconda3/envs/python3/lib/python3.6/site-packages/lightgbm/engine.py:148: UserWarning: Found `num_boost_round` in params. Will use it instead of argument\n",
      "  _log_warning(\"Found `{}` in params. Will use it instead of argument\".format(alias))\n"
     ]
    },
    {
     "name": "stdout",
     "output_type": "stream",
     "text": [
      "keeps the titles above 80.0 percentile day1 viewed over all titles only\n",
      "only 1186 titles considered\n",
      "X and y are ready based on the input params\n",
      "Tune parameter for day 4\n",
      "parameter combination 1\n"
     ]
    },
    {
     "name": "stderr",
     "output_type": "stream",
     "text": [
      "/home/ec2-user/anaconda3/envs/python3/lib/python3.6/site-packages/lightgbm/engine.py:148: UserWarning: Found `num_boost_round` in params. Will use it instead of argument\n",
      "  _log_warning(\"Found `{}` in params. Will use it instead of argument\".format(alias))\n"
     ]
    },
    {
     "name": "stdout",
     "output_type": "stream",
     "text": [
      "parameter combination 2\n"
     ]
    },
    {
     "name": "stderr",
     "output_type": "stream",
     "text": [
      "/home/ec2-user/anaconda3/envs/python3/lib/python3.6/site-packages/lightgbm/engine.py:148: UserWarning: Found `num_boost_round` in params. Will use it instead of argument\n",
      "  _log_warning(\"Found `{}` in params. Will use it instead of argument\".format(alias))\n"
     ]
    },
    {
     "name": "stdout",
     "output_type": "stream",
     "text": [
      "parameter combination 3\n"
     ]
    },
    {
     "name": "stderr",
     "output_type": "stream",
     "text": [
      "/home/ec2-user/anaconda3/envs/python3/lib/python3.6/site-packages/lightgbm/engine.py:148: UserWarning: Found `num_boost_round` in params. Will use it instead of argument\n",
      "  _log_warning(\"Found `{}` in params. Will use it instead of argument\".format(alias))\n"
     ]
    },
    {
     "name": "stdout",
     "output_type": "stream",
     "text": [
      "parameter combination 4\n"
     ]
    },
    {
     "name": "stderr",
     "output_type": "stream",
     "text": [
      "/home/ec2-user/anaconda3/envs/python3/lib/python3.6/site-packages/lightgbm/engine.py:148: UserWarning: Found `num_boost_round` in params. Will use it instead of argument\n",
      "  _log_warning(\"Found `{}` in params. Will use it instead of argument\".format(alias))\n"
     ]
    },
    {
     "name": "stdout",
     "output_type": "stream",
     "text": [
      "parameter combination 5\n"
     ]
    },
    {
     "name": "stderr",
     "output_type": "stream",
     "text": [
      "/home/ec2-user/anaconda3/envs/python3/lib/python3.6/site-packages/lightgbm/engine.py:148: UserWarning: Found `num_boost_round` in params. Will use it instead of argument\n",
      "  _log_warning(\"Found `{}` in params. Will use it instead of argument\".format(alias))\n"
     ]
    },
    {
     "name": "stdout",
     "output_type": "stream",
     "text": [
      "parameter combination 6\n"
     ]
    },
    {
     "name": "stderr",
     "output_type": "stream",
     "text": [
      "/home/ec2-user/anaconda3/envs/python3/lib/python3.6/site-packages/lightgbm/engine.py:148: UserWarning: Found `num_boost_round` in params. Will use it instead of argument\n",
      "  _log_warning(\"Found `{}` in params. Will use it instead of argument\".format(alias))\n"
     ]
    },
    {
     "name": "stdout",
     "output_type": "stream",
     "text": [
      "parameter combination 7\n"
     ]
    },
    {
     "name": "stderr",
     "output_type": "stream",
     "text": [
      "/home/ec2-user/anaconda3/envs/python3/lib/python3.6/site-packages/lightgbm/engine.py:148: UserWarning: Found `num_boost_round` in params. Will use it instead of argument\n",
      "  _log_warning(\"Found `{}` in params. Will use it instead of argument\".format(alias))\n"
     ]
    },
    {
     "name": "stdout",
     "output_type": "stream",
     "text": [
      "parameter combination 8\n"
     ]
    },
    {
     "name": "stderr",
     "output_type": "stream",
     "text": [
      "/home/ec2-user/anaconda3/envs/python3/lib/python3.6/site-packages/lightgbm/engine.py:148: UserWarning: Found `num_boost_round` in params. Will use it instead of argument\n",
      "  _log_warning(\"Found `{}` in params. Will use it instead of argument\".format(alias))\n"
     ]
    },
    {
     "name": "stdout",
     "output_type": "stream",
     "text": [
      "SMAPE for all titles 0.2675171724238055\n",
      "SMAPE for the originals 0.25003584413465796\n",
      "Making prediction for day 4\n"
     ]
    },
    {
     "name": "stderr",
     "output_type": "stream",
     "text": [
      "/home/ec2-user/anaconda3/envs/python3/lib/python3.6/site-packages/lightgbm/engine.py:148: UserWarning: Found `num_boost_round` in params. Will use it instead of argument\n",
      "  _log_warning(\"Found `{}` in params. Will use it instead of argument\".format(alias))\n"
     ]
    },
    {
     "name": "stdout",
     "output_type": "stream",
     "text": [
      "keeps the titles above 80.0 percentile day1 viewed over all titles only\n",
      "only 1186 titles considered\n",
      "X and y are ready based on the input params\n",
      "Tune parameter for day 5\n",
      "parameter combination 1\n"
     ]
    },
    {
     "name": "stderr",
     "output_type": "stream",
     "text": [
      "/home/ec2-user/anaconda3/envs/python3/lib/python3.6/site-packages/lightgbm/engine.py:148: UserWarning: Found `num_boost_round` in params. Will use it instead of argument\n",
      "  _log_warning(\"Found `{}` in params. Will use it instead of argument\".format(alias))\n"
     ]
    },
    {
     "name": "stdout",
     "output_type": "stream",
     "text": [
      "parameter combination 2\n"
     ]
    },
    {
     "name": "stderr",
     "output_type": "stream",
     "text": [
      "/home/ec2-user/anaconda3/envs/python3/lib/python3.6/site-packages/lightgbm/engine.py:148: UserWarning: Found `num_boost_round` in params. Will use it instead of argument\n",
      "  _log_warning(\"Found `{}` in params. Will use it instead of argument\".format(alias))\n"
     ]
    },
    {
     "name": "stdout",
     "output_type": "stream",
     "text": [
      "parameter combination 3\n"
     ]
    },
    {
     "name": "stderr",
     "output_type": "stream",
     "text": [
      "/home/ec2-user/anaconda3/envs/python3/lib/python3.6/site-packages/lightgbm/engine.py:148: UserWarning: Found `num_boost_round` in params. Will use it instead of argument\n",
      "  _log_warning(\"Found `{}` in params. Will use it instead of argument\".format(alias))\n"
     ]
    },
    {
     "name": "stdout",
     "output_type": "stream",
     "text": [
      "parameter combination 4\n"
     ]
    },
    {
     "name": "stderr",
     "output_type": "stream",
     "text": [
      "/home/ec2-user/anaconda3/envs/python3/lib/python3.6/site-packages/lightgbm/engine.py:148: UserWarning: Found `num_boost_round` in params. Will use it instead of argument\n",
      "  _log_warning(\"Found `{}` in params. Will use it instead of argument\".format(alias))\n"
     ]
    },
    {
     "name": "stdout",
     "output_type": "stream",
     "text": [
      "parameter combination 5\n"
     ]
    },
    {
     "name": "stderr",
     "output_type": "stream",
     "text": [
      "/home/ec2-user/anaconda3/envs/python3/lib/python3.6/site-packages/lightgbm/engine.py:148: UserWarning: Found `num_boost_round` in params. Will use it instead of argument\n",
      "  _log_warning(\"Found `{}` in params. Will use it instead of argument\".format(alias))\n"
     ]
    },
    {
     "name": "stdout",
     "output_type": "stream",
     "text": [
      "parameter combination 6\n"
     ]
    },
    {
     "name": "stderr",
     "output_type": "stream",
     "text": [
      "/home/ec2-user/anaconda3/envs/python3/lib/python3.6/site-packages/lightgbm/engine.py:148: UserWarning: Found `num_boost_round` in params. Will use it instead of argument\n",
      "  _log_warning(\"Found `{}` in params. Will use it instead of argument\".format(alias))\n"
     ]
    },
    {
     "name": "stdout",
     "output_type": "stream",
     "text": [
      "parameter combination 7\n"
     ]
    },
    {
     "name": "stderr",
     "output_type": "stream",
     "text": [
      "/home/ec2-user/anaconda3/envs/python3/lib/python3.6/site-packages/lightgbm/engine.py:148: UserWarning: Found `num_boost_round` in params. Will use it instead of argument\n",
      "  _log_warning(\"Found `{}` in params. Will use it instead of argument\".format(alias))\n"
     ]
    },
    {
     "name": "stdout",
     "output_type": "stream",
     "text": [
      "parameter combination 8\n"
     ]
    },
    {
     "name": "stderr",
     "output_type": "stream",
     "text": [
      "/home/ec2-user/anaconda3/envs/python3/lib/python3.6/site-packages/lightgbm/engine.py:148: UserWarning: Found `num_boost_round` in params. Will use it instead of argument\n",
      "  _log_warning(\"Found `{}` in params. Will use it instead of argument\".format(alias))\n"
     ]
    },
    {
     "name": "stdout",
     "output_type": "stream",
     "text": [
      "SMAPE for all titles 0.2451519536724177\n",
      "SMAPE for the originals 0.24698105332101813\n",
      "Making prediction for day 5\n"
     ]
    },
    {
     "name": "stderr",
     "output_type": "stream",
     "text": [
      "/home/ec2-user/anaconda3/envs/python3/lib/python3.6/site-packages/lightgbm/engine.py:148: UserWarning: Found `num_boost_round` in params. Will use it instead of argument\n",
      "  _log_warning(\"Found `{}` in params. Will use it instead of argument\".format(alias))\n"
     ]
    },
    {
     "name": "stdout",
     "output_type": "stream",
     "text": [
      "keeps the titles above 80.0 percentile day1 viewed over all titles only\n",
      "only 1186 titles considered\n",
      "X and y are ready based on the input params\n",
      "Tune parameter for day 6\n",
      "parameter combination 1\n"
     ]
    },
    {
     "name": "stderr",
     "output_type": "stream",
     "text": [
      "/home/ec2-user/anaconda3/envs/python3/lib/python3.6/site-packages/lightgbm/engine.py:148: UserWarning: Found `num_boost_round` in params. Will use it instead of argument\n",
      "  _log_warning(\"Found `{}` in params. Will use it instead of argument\".format(alias))\n"
     ]
    },
    {
     "name": "stdout",
     "output_type": "stream",
     "text": [
      "parameter combination 2\n"
     ]
    },
    {
     "name": "stderr",
     "output_type": "stream",
     "text": [
      "/home/ec2-user/anaconda3/envs/python3/lib/python3.6/site-packages/lightgbm/engine.py:148: UserWarning: Found `num_boost_round` in params. Will use it instead of argument\n",
      "  _log_warning(\"Found `{}` in params. Will use it instead of argument\".format(alias))\n"
     ]
    },
    {
     "name": "stdout",
     "output_type": "stream",
     "text": [
      "parameter combination 3\n"
     ]
    },
    {
     "name": "stderr",
     "output_type": "stream",
     "text": [
      "/home/ec2-user/anaconda3/envs/python3/lib/python3.6/site-packages/lightgbm/engine.py:148: UserWarning: Found `num_boost_round` in params. Will use it instead of argument\n",
      "  _log_warning(\"Found `{}` in params. Will use it instead of argument\".format(alias))\n"
     ]
    },
    {
     "name": "stdout",
     "output_type": "stream",
     "text": [
      "parameter combination 4\n"
     ]
    },
    {
     "name": "stderr",
     "output_type": "stream",
     "text": [
      "/home/ec2-user/anaconda3/envs/python3/lib/python3.6/site-packages/lightgbm/engine.py:148: UserWarning: Found `num_boost_round` in params. Will use it instead of argument\n",
      "  _log_warning(\"Found `{}` in params. Will use it instead of argument\".format(alias))\n"
     ]
    },
    {
     "name": "stdout",
     "output_type": "stream",
     "text": [
      "parameter combination 5\n"
     ]
    },
    {
     "name": "stderr",
     "output_type": "stream",
     "text": [
      "/home/ec2-user/anaconda3/envs/python3/lib/python3.6/site-packages/lightgbm/engine.py:148: UserWarning: Found `num_boost_round` in params. Will use it instead of argument\n",
      "  _log_warning(\"Found `{}` in params. Will use it instead of argument\".format(alias))\n"
     ]
    },
    {
     "name": "stdout",
     "output_type": "stream",
     "text": [
      "parameter combination 6\n"
     ]
    },
    {
     "name": "stderr",
     "output_type": "stream",
     "text": [
      "/home/ec2-user/anaconda3/envs/python3/lib/python3.6/site-packages/lightgbm/engine.py:148: UserWarning: Found `num_boost_round` in params. Will use it instead of argument\n",
      "  _log_warning(\"Found `{}` in params. Will use it instead of argument\".format(alias))\n"
     ]
    },
    {
     "name": "stdout",
     "output_type": "stream",
     "text": [
      "parameter combination 7\n"
     ]
    },
    {
     "name": "stderr",
     "output_type": "stream",
     "text": [
      "/home/ec2-user/anaconda3/envs/python3/lib/python3.6/site-packages/lightgbm/engine.py:148: UserWarning: Found `num_boost_round` in params. Will use it instead of argument\n",
      "  _log_warning(\"Found `{}` in params. Will use it instead of argument\".format(alias))\n"
     ]
    },
    {
     "name": "stdout",
     "output_type": "stream",
     "text": [
      "parameter combination 8\n"
     ]
    },
    {
     "name": "stderr",
     "output_type": "stream",
     "text": [
      "/home/ec2-user/anaconda3/envs/python3/lib/python3.6/site-packages/lightgbm/engine.py:148: UserWarning: Found `num_boost_round` in params. Will use it instead of argument\n",
      "  _log_warning(\"Found `{}` in params. Will use it instead of argument\".format(alias))\n"
     ]
    },
    {
     "name": "stdout",
     "output_type": "stream",
     "text": [
      "SMAPE for all titles 0.20822649798829498\n",
      "SMAPE for the originals 0.210287361817556\n",
      "Making prediction for day 6\n"
     ]
    },
    {
     "name": "stderr",
     "output_type": "stream",
     "text": [
      "/home/ec2-user/anaconda3/envs/python3/lib/python3.6/site-packages/lightgbm/engine.py:148: UserWarning: Found `num_boost_round` in params. Will use it instead of argument\n",
      "  _log_warning(\"Found `{}` in params. Will use it instead of argument\".format(alias))\n"
     ]
    },
    {
     "name": "stdout",
     "output_type": "stream",
     "text": [
      "keeps the titles above 80.0 percentile day1 viewed over all titles only\n",
      "only 1186 titles considered\n",
      "X and y are ready based on the input params\n",
      "Tune parameter for day 7\n",
      "parameter combination 1\n"
     ]
    },
    {
     "name": "stderr",
     "output_type": "stream",
     "text": [
      "/home/ec2-user/anaconda3/envs/python3/lib/python3.6/site-packages/lightgbm/engine.py:148: UserWarning: Found `num_boost_round` in params. Will use it instead of argument\n",
      "  _log_warning(\"Found `{}` in params. Will use it instead of argument\".format(alias))\n"
     ]
    },
    {
     "name": "stdout",
     "output_type": "stream",
     "text": [
      "parameter combination 2\n"
     ]
    },
    {
     "name": "stderr",
     "output_type": "stream",
     "text": [
      "/home/ec2-user/anaconda3/envs/python3/lib/python3.6/site-packages/lightgbm/engine.py:148: UserWarning: Found `num_boost_round` in params. Will use it instead of argument\n",
      "  _log_warning(\"Found `{}` in params. Will use it instead of argument\".format(alias))\n"
     ]
    },
    {
     "name": "stdout",
     "output_type": "stream",
     "text": [
      "parameter combination 3\n"
     ]
    },
    {
     "name": "stderr",
     "output_type": "stream",
     "text": [
      "/home/ec2-user/anaconda3/envs/python3/lib/python3.6/site-packages/lightgbm/engine.py:148: UserWarning: Found `num_boost_round` in params. Will use it instead of argument\n",
      "  _log_warning(\"Found `{}` in params. Will use it instead of argument\".format(alias))\n"
     ]
    },
    {
     "name": "stdout",
     "output_type": "stream",
     "text": [
      "parameter combination 4\n"
     ]
    },
    {
     "name": "stderr",
     "output_type": "stream",
     "text": [
      "/home/ec2-user/anaconda3/envs/python3/lib/python3.6/site-packages/lightgbm/engine.py:148: UserWarning: Found `num_boost_round` in params. Will use it instead of argument\n",
      "  _log_warning(\"Found `{}` in params. Will use it instead of argument\".format(alias))\n"
     ]
    },
    {
     "name": "stdout",
     "output_type": "stream",
     "text": [
      "parameter combination 5\n"
     ]
    },
    {
     "name": "stderr",
     "output_type": "stream",
     "text": [
      "/home/ec2-user/anaconda3/envs/python3/lib/python3.6/site-packages/lightgbm/engine.py:148: UserWarning: Found `num_boost_round` in params. Will use it instead of argument\n",
      "  _log_warning(\"Found `{}` in params. Will use it instead of argument\".format(alias))\n"
     ]
    },
    {
     "name": "stdout",
     "output_type": "stream",
     "text": [
      "parameter combination 6\n"
     ]
    },
    {
     "name": "stderr",
     "output_type": "stream",
     "text": [
      "/home/ec2-user/anaconda3/envs/python3/lib/python3.6/site-packages/lightgbm/engine.py:148: UserWarning: Found `num_boost_round` in params. Will use it instead of argument\n",
      "  _log_warning(\"Found `{}` in params. Will use it instead of argument\".format(alias))\n"
     ]
    },
    {
     "name": "stdout",
     "output_type": "stream",
     "text": [
      "parameter combination 7\n"
     ]
    },
    {
     "name": "stderr",
     "output_type": "stream",
     "text": [
      "/home/ec2-user/anaconda3/envs/python3/lib/python3.6/site-packages/lightgbm/engine.py:148: UserWarning: Found `num_boost_round` in params. Will use it instead of argument\n",
      "  _log_warning(\"Found `{}` in params. Will use it instead of argument\".format(alias))\n"
     ]
    },
    {
     "name": "stdout",
     "output_type": "stream",
     "text": [
      "parameter combination 8\n"
     ]
    },
    {
     "name": "stderr",
     "output_type": "stream",
     "text": [
      "/home/ec2-user/anaconda3/envs/python3/lib/python3.6/site-packages/lightgbm/engine.py:148: UserWarning: Found `num_boost_round` in params. Will use it instead of argument\n",
      "  _log_warning(\"Found `{}` in params. Will use it instead of argument\".format(alias))\n"
     ]
    },
    {
     "name": "stdout",
     "output_type": "stream",
     "text": [
      "SMAPE for all titles 0.22357672843825815\n",
      "SMAPE for the originals 0.23924033442472475\n",
      "Making prediction for day 7\n"
     ]
    },
    {
     "name": "stderr",
     "output_type": "stream",
     "text": [
      "/home/ec2-user/anaconda3/envs/python3/lib/python3.6/site-packages/lightgbm/engine.py:148: UserWarning: Found `num_boost_round` in params. Will use it instead of argument\n",
      "  _log_warning(\"Found `{}` in params. Will use it instead of argument\".format(alias))\n"
     ]
    },
    {
     "name": "stdout",
     "output_type": "stream",
     "text": [
      "keeps the titles above 80.0 percentile day1 viewed over all titles only\n",
      "only 1186 titles considered\n",
      "X and y are ready based on the input params\n",
      "Tune parameter for day 8\n",
      "parameter combination 1\n"
     ]
    },
    {
     "name": "stderr",
     "output_type": "stream",
     "text": [
      "/home/ec2-user/anaconda3/envs/python3/lib/python3.6/site-packages/lightgbm/engine.py:148: UserWarning: Found `num_boost_round` in params. Will use it instead of argument\n",
      "  _log_warning(\"Found `{}` in params. Will use it instead of argument\".format(alias))\n"
     ]
    },
    {
     "name": "stdout",
     "output_type": "stream",
     "text": [
      "parameter combination 2\n"
     ]
    },
    {
     "name": "stderr",
     "output_type": "stream",
     "text": [
      "/home/ec2-user/anaconda3/envs/python3/lib/python3.6/site-packages/lightgbm/engine.py:148: UserWarning: Found `num_boost_round` in params. Will use it instead of argument\n",
      "  _log_warning(\"Found `{}` in params. Will use it instead of argument\".format(alias))\n"
     ]
    },
    {
     "name": "stdout",
     "output_type": "stream",
     "text": [
      "parameter combination 3\n"
     ]
    },
    {
     "name": "stderr",
     "output_type": "stream",
     "text": [
      "/home/ec2-user/anaconda3/envs/python3/lib/python3.6/site-packages/lightgbm/engine.py:148: UserWarning: Found `num_boost_round` in params. Will use it instead of argument\n",
      "  _log_warning(\"Found `{}` in params. Will use it instead of argument\".format(alias))\n"
     ]
    },
    {
     "name": "stdout",
     "output_type": "stream",
     "text": [
      "parameter combination 4\n"
     ]
    },
    {
     "name": "stderr",
     "output_type": "stream",
     "text": [
      "/home/ec2-user/anaconda3/envs/python3/lib/python3.6/site-packages/lightgbm/engine.py:148: UserWarning: Found `num_boost_round` in params. Will use it instead of argument\n",
      "  _log_warning(\"Found `{}` in params. Will use it instead of argument\".format(alias))\n"
     ]
    },
    {
     "name": "stdout",
     "output_type": "stream",
     "text": [
      "parameter combination 5\n"
     ]
    },
    {
     "name": "stderr",
     "output_type": "stream",
     "text": [
      "/home/ec2-user/anaconda3/envs/python3/lib/python3.6/site-packages/lightgbm/engine.py:148: UserWarning: Found `num_boost_round` in params. Will use it instead of argument\n",
      "  _log_warning(\"Found `{}` in params. Will use it instead of argument\".format(alias))\n"
     ]
    },
    {
     "name": "stdout",
     "output_type": "stream",
     "text": [
      "parameter combination 6\n"
     ]
    },
    {
     "name": "stderr",
     "output_type": "stream",
     "text": [
      "/home/ec2-user/anaconda3/envs/python3/lib/python3.6/site-packages/lightgbm/engine.py:148: UserWarning: Found `num_boost_round` in params. Will use it instead of argument\n",
      "  _log_warning(\"Found `{}` in params. Will use it instead of argument\".format(alias))\n"
     ]
    },
    {
     "name": "stdout",
     "output_type": "stream",
     "text": [
      "parameter combination 7\n"
     ]
    },
    {
     "name": "stderr",
     "output_type": "stream",
     "text": [
      "/home/ec2-user/anaconda3/envs/python3/lib/python3.6/site-packages/lightgbm/engine.py:148: UserWarning: Found `num_boost_round` in params. Will use it instead of argument\n",
      "  _log_warning(\"Found `{}` in params. Will use it instead of argument\".format(alias))\n"
     ]
    },
    {
     "name": "stdout",
     "output_type": "stream",
     "text": [
      "parameter combination 8\n"
     ]
    },
    {
     "name": "stderr",
     "output_type": "stream",
     "text": [
      "/home/ec2-user/anaconda3/envs/python3/lib/python3.6/site-packages/lightgbm/engine.py:148: UserWarning: Found `num_boost_round` in params. Will use it instead of argument\n",
      "  _log_warning(\"Found `{}` in params. Will use it instead of argument\".format(alias))\n"
     ]
    },
    {
     "name": "stdout",
     "output_type": "stream",
     "text": [
      "SMAPE for all titles 0.22277130542391918\n",
      "SMAPE for the originals 0.22342822899527104\n",
      "Making prediction for day 8\n"
     ]
    },
    {
     "name": "stderr",
     "output_type": "stream",
     "text": [
      "/home/ec2-user/anaconda3/envs/python3/lib/python3.6/site-packages/lightgbm/engine.py:148: UserWarning: Found `num_boost_round` in params. Will use it instead of argument\n",
      "  _log_warning(\"Found `{}` in params. Will use it instead of argument\".format(alias))\n"
     ]
    },
    {
     "name": "stdout",
     "output_type": "stream",
     "text": [
      "keeps the titles above 80.0 percentile day1 viewed over all titles only\n",
      "only 1186 titles considered\n",
      "X and y are ready based on the input params\n",
      "Tune parameter for day 9\n",
      "parameter combination 1\n"
     ]
    },
    {
     "name": "stderr",
     "output_type": "stream",
     "text": [
      "/home/ec2-user/anaconda3/envs/python3/lib/python3.6/site-packages/lightgbm/engine.py:148: UserWarning: Found `num_boost_round` in params. Will use it instead of argument\n",
      "  _log_warning(\"Found `{}` in params. Will use it instead of argument\".format(alias))\n"
     ]
    },
    {
     "name": "stdout",
     "output_type": "stream",
     "text": [
      "parameter combination 2\n"
     ]
    },
    {
     "name": "stderr",
     "output_type": "stream",
     "text": [
      "/home/ec2-user/anaconda3/envs/python3/lib/python3.6/site-packages/lightgbm/engine.py:148: UserWarning: Found `num_boost_round` in params. Will use it instead of argument\n",
      "  _log_warning(\"Found `{}` in params. Will use it instead of argument\".format(alias))\n"
     ]
    },
    {
     "name": "stdout",
     "output_type": "stream",
     "text": [
      "parameter combination 3\n"
     ]
    },
    {
     "name": "stderr",
     "output_type": "stream",
     "text": [
      "/home/ec2-user/anaconda3/envs/python3/lib/python3.6/site-packages/lightgbm/engine.py:148: UserWarning: Found `num_boost_round` in params. Will use it instead of argument\n",
      "  _log_warning(\"Found `{}` in params. Will use it instead of argument\".format(alias))\n"
     ]
    },
    {
     "name": "stdout",
     "output_type": "stream",
     "text": [
      "parameter combination 4\n"
     ]
    },
    {
     "name": "stderr",
     "output_type": "stream",
     "text": [
      "/home/ec2-user/anaconda3/envs/python3/lib/python3.6/site-packages/lightgbm/engine.py:148: UserWarning: Found `num_boost_round` in params. Will use it instead of argument\n",
      "  _log_warning(\"Found `{}` in params. Will use it instead of argument\".format(alias))\n"
     ]
    },
    {
     "name": "stdout",
     "output_type": "stream",
     "text": [
      "parameter combination 5\n"
     ]
    },
    {
     "name": "stderr",
     "output_type": "stream",
     "text": [
      "/home/ec2-user/anaconda3/envs/python3/lib/python3.6/site-packages/lightgbm/engine.py:148: UserWarning: Found `num_boost_round` in params. Will use it instead of argument\n",
      "  _log_warning(\"Found `{}` in params. Will use it instead of argument\".format(alias))\n"
     ]
    },
    {
     "name": "stdout",
     "output_type": "stream",
     "text": [
      "parameter combination 6\n"
     ]
    },
    {
     "name": "stderr",
     "output_type": "stream",
     "text": [
      "/home/ec2-user/anaconda3/envs/python3/lib/python3.6/site-packages/lightgbm/engine.py:148: UserWarning: Found `num_boost_round` in params. Will use it instead of argument\n",
      "  _log_warning(\"Found `{}` in params. Will use it instead of argument\".format(alias))\n"
     ]
    }
   ],
   "source": [
    "'''\n",
    "Get the prediction tarjectory over length of data\n",
    "'''\n",
    "\n",
    "percent_data_process_info['exact_X_pred'] = False\n",
    "output_flag = False\n",
    "new_title_output = pd.DataFrame()\n",
    "existing_title_output = pd.DataFrame()\n",
    "back_consideration_date = 180\n",
    "\n",
    "for day in range(-27,27):\n",
    "    # renew the percent_data_process_info data very time\n",
    "    from lib.config import percent_data_process_info\n",
    "    from lib.config import prelaunch_process_info\n",
    "    from lib.config import metadata_process_info\n",
    "\n",
    "    # determine prelaunch or postlaunch\n",
    "    if day < 1:\n",
    "        input_process_info = dict(prelaunch_process_info)\n",
    "        percent_data_process_info['target_log_transformation'] = False\n",
    "        percent_data_process_info['log_ratio_transformation'] = False\n",
    "        input_percentile_used = percentile_used\n",
    "        model_name = 'lr'\n",
    "        model_name_list = [model_name]\n",
    "    elif day<14:\n",
    "        input_process_info = dict(metadata_process_info)\n",
    "        percent_data_process_info['target_log_transformation'] = True\n",
    "        percent_data_process_info['log_ratio_transformation'] = True\n",
    "        input_percentile_used = percentile_used\n",
    "        model_name = 'lgb'\n",
    "        model_name_list = [model_name]\n",
    "    else:\n",
    "        input_process_info = dict(metadata_process_info)\n",
    "        percent_data_process_info['target_log_transformation'] = False\n",
    "        percent_data_process_info['log_ratio_transformation'] = False\n",
    "        input_percentile_used = percentile_used\n",
    "        model_name = 'lr'\n",
    "        model_name_list = [model_name]\n",
    "\n",
    "    # just to make the values in the dict back to the initial values\n",
    "    percent_data_process_info = dict(percent_data_process_info)\n",
    "    percent_data_process_info['max_num_day'] = day\n",
    "    \n",
    "    # get x and y\n",
    "    logger.info('Get X and y for day {}'.format(day))\n",
    "    cv_func.get_X_y(percent_data_process_info, \n",
    "                     input_process_info, \n",
    "                     day001_popularity_threshold = input_percentile_used)\n",
    "                     \n",
    "    if cv_func.pred_empty_flag == True:\n",
    "        print('no title needs to be predicted at day {}'.format(day))\n",
    "        continue\n",
    "\n",
    "    # tune parameter\n",
    "    if model_name not in  ['lr', 'enet']:\n",
    "        logger.info('Tune parameter for day {}'.format(day))\n",
    "        print('Tune parameter for day {}'.format(day))\n",
    "        cv_func.parameter_tuning(model_name, \n",
    "                            params_tuning_dict, \n",
    "                            percent_data_process_info,\n",
    "                            nfold = nfold,\n",
    "                            back_consideration_date = back_consideration_date)\n",
    "        \n",
    "        params_dict = cv_func.min_smape_param['min_smape_original']\n",
    "        param_stats = cv_func.parameter_tuning_stats\n",
    "        logger.info('SMAPE for all titles {}'.format(param_stats['min_smape_all']))\n",
    "        logger.info('SMAPE for the originals {}'.format(param_stats['min_smape_original']))\n",
    "        print('SMAPE for all titles {}'.format(param_stats['min_smape_all']))\n",
    "        print('SMAPE for the originals {}'.format(param_stats['min_smape_original']))\n",
    "    \n",
    "    else:\n",
    "        logger.info('Do cross prediction for day {}'.format(day))\n",
    "        print('Do cross prediction for day {}'.format(day))\n",
    "        cv_func.cross_prediction(\n",
    "                         model_name_list, \n",
    "                         params_dict, \n",
    "                         percent_data_process_info, \n",
    "                         nfold = nfold, \n",
    "                         back_consideration_date = back_consideration_date)\n",
    "        \n",
    "        logger.info('SMAPE for all titles {}'.format(cv_func.output['smape_' + model_name].mean()))\n",
    "        logger.info('SMAPE for the originals {}'.format(cv_func.output.loc[cv_func.output['program_type']==1,'smape_' + model_name].mean()))\n",
    "        print('SMAPE for all titles {}'.format(cv_func.output['smape_' + model_name].mean()))\n",
    "        print('SMAPE for the originals {}'.format(cv_func.output.loc[cv_func.output['program_type']==1,'smape_' + model_name].mean()))\n",
    "    \n",
    "    # make prediction\n",
    "    logger.info('Making prediction for day {}'.format(day))\n",
    "    print('Making prediction for day {}'.format(day))\n",
    "    cv_func.predict_new_titles(model_name_list, \n",
    "                               params_dict, \n",
    "                               percent_data_process_info)\n",
    "    \n",
    "    # process the output\n",
    "    cur_new_title_output = cv_func.new_title_output\n",
    "    pred_column = cur_new_title_output.columns[cur_new_title_output.columns.str.contains(model_name)][0]\n",
    "    cur_new_title_output['pred_day'] = day\n",
    "    cur_new_title_output = cur_new_title_output.rename(columns = {pred_column:'prediction'})\n",
    "    \n",
    "    # process the existing titles\n",
    "    cur_existing_title_output = cv_func.output\n",
    "    pred_column = cur_existing_title_output.columns[cur_existing_title_output.columns.str.contains(model_name)][0]\n",
    "    cur_existing_title_output['pred_day'] = day\n",
    "    cur_existing_title_output = cur_existing_title_output.rename(columns = {pred_column:'prediction'})\n",
    "    cur_existing_title_output = cur_existing_title_output.rename(columns = {'smape_lgb':'smape'\n",
    "                                                                    ,'smape_lr':'smape'\n",
    "                                                                    ,'smape_enet':'smape'\n",
    "                                                                    ,'mae_lgb':'mae'\n",
    "                                                                    ,'mae_lr':'mae'\n",
    "                                                                    ,'mae_enet':'mae'\n",
    "                                                                    })\n",
    "    \n",
    "    if output_flag:\n",
    "        new_title_output = pd.concat([new_title_output,cur_new_title_output], axis = 0)\n",
    "        existing_title_output = pd.concat([existing_title_output, cur_existing_title_output], axis = 0)\n",
    "    else:\n",
    "        new_title_output = cur_new_title_output\n",
    "        existing_title_output = cur_existing_title_output\n",
    "        output_flag = True\n",
    "          \n",
    "# final formatting\n",
    "\n",
    "if new_title_output.shape[0]>0:    \n",
    "    new_title_output = new_title_output.drop(columns = ['target']).sort_values(['title_name','pred_day'])\n",
    "    new_title_output = new_title_output[['title_name'\n",
    "                                        ,'match_id'\n",
    "                                        ,'match_id_platform'\n",
    "                                        ,'platform_name'\n",
    "                                        ,'program_type'\n",
    "                                        ,'pred_day'\n",
    "                                        ,'prediction']]\n",
    "\n",
    "if existing_title_output.shape[0]>0:           \n",
    "    existing_title_output = existing_title_output.sort_values(['match_id_platform','pred_day'])\n",
    "    existing_title_output['platform_name'] = existing_title_output['match_id_platform'].apply(lambda x: x[0])\n",
    "    existing_title_output = existing_title_output[['title_name'\n",
    "                                                ,'match_id'\n",
    "                                                ,'match_id_platform'\n",
    "                                                ,'platform_name'\n",
    "                                                ,'program_type'\n",
    "                                                ,'target'\n",
    "                                                ,'pred_day'\n",
    "                                                ,'prediction'\n",
    "                                                ,'smape'\n",
    "                                                ,'mae'\n",
    "                                                ,'fold']]"
   ]
  },
  {
   "cell_type": "markdown",
   "id": "9a290b11",
   "metadata": {},
   "source": [
    "# Write csvs to S3"
   ]
  },
  {
   "cell_type": "markdown",
   "id": "45ba5b27",
   "metadata": {},
   "source": [
    "### Step 3: Write the prediction result to S3"
   ]
  },
  {
   "cell_type": "code",
   "execution_count": null,
   "id": "11a49fba",
   "metadata": {},
   "outputs": [],
   "source": [
    "def to_s3(filename, output_bucket, content):\n",
    "    client = boto3.client('s3')\n",
    "    client.put_object(Bucket=output_bucket, Key=filename, Body=content)"
   ]
  },
  {
   "cell_type": "code",
   "execution_count": null,
   "id": "03cf86a1",
   "metadata": {},
   "outputs": [],
   "source": [
    "logger.info('Writing new title predictions over time to S3 as an csv file')\n",
    "print('Writing new title predictions over time to S3 as an csv file')\n",
    "csv_buffer = io.StringIO()\n",
    "new_title_output.to_csv(csv_buffer, index = False)\n",
    "content = csv_buffer.getvalue()\n",
    "\n",
    "filename = 'pct_actives_prediction/new_title_prediction.csv'\n",
    "\n",
    "to_s3(filename, output_bucket, content)"
   ]
  },
  {
   "cell_type": "code",
   "execution_count": null,
   "id": "2ca1582d",
   "metadata": {},
   "outputs": [],
   "source": [
    "logger.info('Writing existing title predictions over time to S3 as an csv file')\n",
    "print('Writing existing title predictions over time to S3 as an csv file')\n",
    "csv_buffer = io.StringIO()\n",
    "existing_title_output.to_csv(csv_buffer, index = False)\n",
    "content = csv_buffer.getvalue()\n",
    "\n",
    "filename = 'pct_actives_prediction/existing_title_prediction.csv'\n",
    "\n",
    "to_s3(filename, output_bucket, content)"
   ]
  },
  {
   "cell_type": "markdown",
   "id": "8a06fe85",
   "metadata": {},
   "source": [
    "# Results"
   ]
  },
  {
   "cell_type": "code",
   "execution_count": null,
   "id": "c9f0a125",
   "metadata": {},
   "outputs": [],
   "source": [
    "existing_title_output.to_csv('existing_title_output.csv')"
   ]
  },
  {
   "cell_type": "code",
   "execution_count": null,
   "id": "a8644f81",
   "metadata": {},
   "outputs": [],
   "source": [
    "existing_title_output[existing_title_output['title_name'] == 'Titans S3']"
   ]
  },
  {
   "cell_type": "code",
   "execution_count": 12,
   "id": "ef33288e",
   "metadata": {},
   "outputs": [
    {
     "data": {
      "text/plain": [
       "array([ 1,  2,  3,  4,  5,  6,  7,  8,  9, 10, 11, 12, 13])"
      ]
     },
     "execution_count": 12,
     "metadata": {},
     "output_type": "execute_result"
    }
   ],
   "source": [
    "new_title_output[new_title_output['title_name'] == 'Cry Macho'].pred_day.unique()"
   ]
  },
  {
   "cell_type": "code",
   "execution_count": null,
   "id": "70276dc0",
   "metadata": {},
   "outputs": [],
   "source": []
  },
  {
   "cell_type": "code",
   "execution_count": null,
   "id": "e31ff19e",
   "metadata": {},
   "outputs": [],
   "source": []
  },
  {
   "cell_type": "code",
   "execution_count": null,
   "id": "627f302b",
   "metadata": {},
   "outputs": [],
   "source": []
  },
  {
   "cell_type": "code",
   "execution_count": null,
   "id": "d79c9046",
   "metadata": {},
   "outputs": [],
   "source": []
  },
  {
   "cell_type": "code",
   "execution_count": null,
   "id": "7c2e857c",
   "metadata": {},
   "outputs": [],
   "source": []
  },
  {
   "cell_type": "code",
   "execution_count": null,
   "id": "208ff8bd",
   "metadata": {},
   "outputs": [],
   "source": []
  },
  {
   "cell_type": "code",
   "execution_count": null,
   "id": "89ee98a7",
   "metadata": {},
   "outputs": [],
   "source": []
  },
  {
   "cell_type": "code",
   "execution_count": null,
   "id": "9cdaf9c6",
   "metadata": {},
   "outputs": [],
   "source": []
  },
  {
   "cell_type": "code",
   "execution_count": null,
   "id": "ff1aec75",
   "metadata": {},
   "outputs": [],
   "source": []
  }
 ],
 "metadata": {
  "kernelspec": {
   "display_name": "conda_python3",
   "language": "python",
   "name": "conda_python3"
  },
  "language_info": {
   "codemirror_mode": {
    "name": "ipython",
    "version": 3
   },
   "file_extension": ".py",
   "mimetype": "text/x-python",
   "name": "python",
   "nbconvert_exporter": "python",
   "pygments_lexer": "ipython3",
   "version": "3.6.13"
  }
 },
 "nbformat": 4,
 "nbformat_minor": 5
}
