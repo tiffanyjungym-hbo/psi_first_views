{
 "cells": [
  {
   "cell_type": "code",
   "execution_count": 1,
   "id": "72466cb8",
   "metadata": {},
   "outputs": [],
   "source": [
    "import pandas as pd\n",
    "import numpy as np\n",
    "import itertools as it\n",
    "import os\n",
    "import io\n",
    "import logging\n",
    "\n",
    "import boto3\n",
    "import sys\n",
    "import json\n",
    "\n",
    "from lib.model import ModelMain\n",
    "\n",
    "# configs\n",
    "from lib.config import percent_data_process_info\n",
    "from lib.config import prelaunch_process_info\n",
    "from lib.config import metadata_process_info\n",
    "from lib.config import default_params_dict as params_dict\n",
    "from lib.config import model_name_list\n",
    "from lib.config import params_tunning_dict"
   ]
  },
  {
   "cell_type": "markdown",
   "id": "99eb7199",
   "metadata": {},
   "source": [
    "# Reading Data "
   ]
  },
  {
   "cell_type": "markdown",
   "id": "39125678",
   "metadata": {},
   "source": [
    "Reading data from multiple sources, with the corresponding query"
   ]
  },
  {
   "cell_type": "markdown",
   "id": "1bc813b3",
   "metadata": {},
   "source": [
    "### Step 1 of the Prediction Process: Getting Data\n",
    "Step 1.1: update the funnel metrics by Sagemaker ipynb file 'query_pipeline' under the '/query' folder\n",
    "\n",
    "Step 1.2: run each of the query in the '/day28_prediction/query/' to extract each input csv below"
   ]
  },
  {
   "cell_type": "code",
   "execution_count": 2,
   "id": "4b8df6b5",
   "metadata": {},
   "outputs": [],
   "source": [
    "input_bucket = 'hbo-ingest-datascience-content-dev'"
   ]
  },
  {
   "cell_type": "code",
   "execution_count": 3,
   "id": "64f2b1e9",
   "metadata": {},
   "outputs": [
    {
     "name": "stdout",
     "output_type": "stream",
     "text": [
      "Reading funnel_metric_feature features\n",
      "Reading media_cost_postlaunch_feature features\n",
      "Reading media_cost_prelaunch_feature features\n",
      "Reading metadata_feature features\n",
      "Reading prelaunch_trailer_feature features\n",
      "Reading prelaunch_trailer_feature_before28 features\n",
      "Reading sub_total_feature features\n",
      "Reading trailer_feature features\n",
      "Reading vtp_feature features\n",
      "Reading wiki_view_feature_before28 features\n",
      "Reading wiki_view_post_feature features\n",
      "Reading wiki_view_pre_feature features\n"
     ]
    }
   ],
   "source": [
    "logger = logging.getLogger()\n",
    "logger.info(f'Loading inputs')\n",
    "data_list =[]\n",
    "\n",
    "s3 = boto3.resource('s3')\n",
    "bucket = s3.Bucket(input_bucket)\n",
    "# Iterates through all the objects, doing the pagination for you. Each obj\n",
    "# is an ObjectSummary, so it doesn't contain the body. You'll need to call\n",
    "# get to get the whole body.\n",
    "for obj in bucket.objects.filter(Prefix='input_percent_view'):\n",
    "    key = obj.key\n",
    "    logger.info('Loading csv file {}'.format(key))\n",
    "    body = obj.get()['Body']\n",
    "    var_name = key.split('.')[0].split('/')[1]\n",
    "    print('Reading {0} features'.format(var_name))\n",
    "    exec(\"{0}=pd.read_csv(body, na_values = [r'\\\\\\\\N'])\".format(var_name))\n",
    "    exec(\"{0}.columns = {0}.columns.str.lower()\".format(var_name))\n",
    "    \n",
    "    # exclude the full null columns\n",
    "    exec(\"{0} = {0}.loc[:,{0}.isnull().sum()!={0}.shape[0]]\".format(var_name))\n",
    "\n",
    "    # exclude the old Mortal Kombat movie because the trailer percent view \n",
    "    # matching matches the trailer of the new movie to the old movie\n",
    "    # exclude Tom & Jerry due to unresolvable data issue\n",
    "    exec(\"{0} = {0}.loc[{0}['match_id_platform'].\\\n",
    "        isin(['1-GYGQBcwsaCIW2XgEAAAAL', '0-GYGQBcwsaCIW2XgEAAAAL', '1-GYEb9QwLgFF9_ZwEAAAA7', '0-GYEb9QwLgFF9_ZwEAAAA7'])==False,:]\\\n",
    "        .reset_index(drop = True)\".format(var_name))\n",
    "    \n",
    "    # append the feature df\n",
    "    exec(\"data_list.append({0})\".format(var_name))"
   ]
  },
  {
   "cell_type": "code",
   "execution_count": 4,
   "id": "322f3168",
   "metadata": {},
   "outputs": [
    {
     "name": "stdout",
     "output_type": "stream",
     "text": [
      "Reading pct_actives_metric_values features\n"
     ]
    }
   ],
   "source": [
    "bucket = s3.Bucket(input_bucket)\n",
    "for obj in bucket.objects.filter(Prefix='pct_actives_prediction/pct_actives'):\n",
    "    key = obj.key\n",
    "    logger.info('Loading csv file {}'.format(key))\n",
    "    body = obj.get()['Body']\n",
    "    var_name = key.split('.')[0].split('/')[1]\n",
    "    print('Reading {0} features'.format(var_name))\n",
    "    exec(\"{0}=pd.read_csv(body, na_values = [r'\\\\\\\\N'])\".format(var_name))\n",
    "    exec(\"{0}.columns = {0}.columns.str.lower()\".format(var_name))\n",
    "    \n",
    "    # exclude the full null columns\n",
    "    exec(\"{0} = {0}.loc[:,{0}.isnull().sum()!={0}.shape[0]]\".format(var_name))\n",
    "\n",
    "    # exclude the old Mortal Kombat movie because the trailer percent view \n",
    "    # matching matches the trailer of the new movie to the old movie\n",
    "    # exclude Tom & Jerry due to unresolvable data issue\n",
    "    exec(\"{0} = {0}.loc[{0}['match_id'].\\\n",
    "        isin(['1-GYGQBcwsaCIW2XgEAAAAL', '0-GYGQBcwsaCIW2XgEAAAAL', '1-GYEb9QwLgFF9_ZwEAAAA7', '0-GYEb9QwLgFF9_ZwEAAAA7'])==False,:]\\\n",
    "        .reset_index(drop = True)\".format(var_name))\n",
    "    \n",
    "    # append the feature df\n",
    "    exec(\"data_list.append({0})\".format(var_name))"
   ]
  },
  {
   "cell_type": "code",
   "execution_count": 6,
   "id": "b3b5142e",
   "metadata": {},
   "outputs": [],
   "source": [
    "metadata_feature = data_list[3]"
   ]
  },
  {
   "cell_type": "code",
   "execution_count": 7,
   "id": "a3e5b79c",
   "metadata": {},
   "outputs": [],
   "source": [
    "active_data = data_list[-1][['match_id', 'days_on_hbo_max', 'pct_actives']]\n",
    "active_data = active_data.merge(metadata_feature[['match_id', 'match_id_platform']], on = 'match_id')\n",
    "active_data.drop(['match_id'], axis = 1, inplace = True)"
   ]
  },
  {
   "cell_type": "code",
   "execution_count": 8,
   "id": "a2918055",
   "metadata": {},
   "outputs": [],
   "source": [
    "active_data['pct_actives_values'] = active_data.groupby(['match_id_platform', 'days_on_hbo_max'])['pct_actives'].transform('mean')\n",
    "active_data = active_data[['match_id_platform', 'days_on_hbo_max', 'pct_actives_values']]\n",
    "active_data = active_data[(active_data['match_id_platform'].notnull())\n",
    "                         &(active_data['days_on_hbo_max'].notnull())]\n",
    "active_data.drop_duplicates(inplace = True)"
   ]
  },
  {
   "cell_type": "code",
   "execution_count": 9,
   "id": "ba2d6004",
   "metadata": {},
   "outputs": [],
   "source": [
    "active_data = active_data.pivot(index='match_id_platform', columns='days_on_hbo_max', values=['pct_actives_values']).reset_index()\n",
    "columns = ['day00' + str(i) + '_percent_actives' for i in range(1, 10) ]\n",
    "columns = columns + ['day0' + str(i) + '_percent_actives' for i in range(10, 29)]\n",
    "active_data.columns = ['match_id_platform'] + columns"
   ]
  },
  {
   "cell_type": "code",
   "execution_count": 17,
   "id": "58c15fd5",
   "metadata": {},
   "outputs": [],
   "source": [
    "data_list.pop(-1)\n",
    "data_list.append(active_data)"
   ]
  },
  {
   "cell_type": "code",
   "execution_count": 18,
   "id": "04c0347a",
   "metadata": {
    "scrolled": true
   },
   "outputs": [
    {
     "name": "stdout",
     "output_type": "stream",
     "text": [
      "Final title size: 7949, All title size: 7949\n"
     ]
    }
   ],
   "source": [
    "# start a object\n",
    "logger.info('Setting up the prediction model')\n",
    "percentile_used = 0.8\n",
    "back_consideration_date = 180\n",
    "nfold = np.floor(back_consideration_date/30)\n",
    "cv_func = ModelMain(data_list, metadata_process_info['label_columns'], metadata_process_info['num_columns'])"
   ]
  },
  {
   "cell_type": "markdown",
   "id": "18530a12",
   "metadata": {},
   "source": [
    "# New Title Prediction, Post Launch "
   ]
  },
  {
   "cell_type": "markdown",
   "id": "26cc03d3",
   "metadata": {},
   "source": [
    "### Cross Validations"
   ]
  },
  {
   "cell_type": "code",
   "execution_count": 21,
   "id": "550998ca",
   "metadata": {
    "collapsed": true,
    "jupyter": {
     "outputs_hidden": true
    }
   },
   "outputs": [
    {
     "name": "stdout",
     "output_type": "stream",
     "text": [
      "keeps the titles above 80.0 percentile day1 viewed over all titles only\n",
      "only 1792 titles considered after popularity filter\n",
      "only 1311 titles considered after prelaunch filter\n",
      "the number of days is not large enough to use log ratio transformation\n"
     ]
    },
    {
     "name": "stderr",
     "output_type": "stream",
     "text": [
      "/home/ec2-user/SageMaker/max-datascience-content-airflow/Sagemaker_Models/actives_post_launch/lib/feature_engineering.py:283: UserWarning: Boolean Series key will be reindexed to match DataFrame index.\n",
      "  self.X_base = self.X[self.y!=-100]\n",
      "/home/ec2-user/SageMaker/max-datascience-content-airflow/Sagemaker_Models/actives_post_launch/lib/feature_engineering.py:285: UserWarning: Boolean Series key will be reindexed to match DataFrame index.\n",
      "  self.X_pred = self.X[((self.y==-100) & (self.X['platform_name']==1))]\n"
     ]
    },
    {
     "name": "stdout",
     "output_type": "stream",
     "text": [
      "X and y are ready based on the input params\n",
      "Do cross prediction for day -27\n",
      "SMAPE for all titles 0.6195464580383627\n",
      "SMAPE for the originals 0.6848984392739736\n",
      "running cvs at day -27\n",
      "Making prediction for day -27\n",
      "keeps the titles above 80.0 percentile day1 viewed over all titles only\n",
      "only 1792 titles considered after popularity filter\n",
      "only 1311 titles considered after prelaunch filter\n",
      "the number of days is not large enough to use log ratio transformation\n"
     ]
    },
    {
     "name": "stderr",
     "output_type": "stream",
     "text": [
      "/home/ec2-user/SageMaker/max-datascience-content-airflow/Sagemaker_Models/actives_post_launch/lib/feature_engineering.py:283: UserWarning: Boolean Series key will be reindexed to match DataFrame index.\n",
      "  self.X_base = self.X[self.y!=-100]\n",
      "/home/ec2-user/SageMaker/max-datascience-content-airflow/Sagemaker_Models/actives_post_launch/lib/feature_engineering.py:285: UserWarning: Boolean Series key will be reindexed to match DataFrame index.\n",
      "  self.X_pred = self.X[((self.y==-100) & (self.X['platform_name']==1))]\n"
     ]
    },
    {
     "name": "stdout",
     "output_type": "stream",
     "text": [
      "X and y are ready based on the input params\n",
      "Do cross prediction for day -26\n",
      "SMAPE for all titles 0.6404522934684929\n",
      "SMAPE for the originals 0.6842883042153557\n",
      "running cvs at day -26\n",
      "Making prediction for day -26\n",
      "keeps the titles above 80.0 percentile day1 viewed over all titles only\n",
      "only 1792 titles considered after popularity filter\n",
      "only 1313 titles considered after prelaunch filter\n",
      "the number of days is not large enough to use log ratio transformation\n",
      "X and y are ready based on the input params\n",
      "Do cross prediction for day -25\n"
     ]
    },
    {
     "name": "stderr",
     "output_type": "stream",
     "text": [
      "/home/ec2-user/SageMaker/max-datascience-content-airflow/Sagemaker_Models/actives_post_launch/lib/feature_engineering.py:283: UserWarning: Boolean Series key will be reindexed to match DataFrame index.\n",
      "  self.X_base = self.X[self.y!=-100]\n",
      "/home/ec2-user/SageMaker/max-datascience-content-airflow/Sagemaker_Models/actives_post_launch/lib/feature_engineering.py:285: UserWarning: Boolean Series key will be reindexed to match DataFrame index.\n",
      "  self.X_pred = self.X[((self.y==-100) & (self.X['platform_name']==1))]\n"
     ]
    },
    {
     "name": "stdout",
     "output_type": "stream",
     "text": [
      "SMAPE for all titles 0.6383295096173827\n",
      "SMAPE for the originals 0.685490601531073\n",
      "running cvs at day -25\n",
      "Making prediction for day -25\n",
      "keeps the titles above 80.0 percentile day1 viewed over all titles only\n",
      "only 1792 titles considered after popularity filter\n",
      "only 1313 titles considered after prelaunch filter\n",
      "the number of days is not large enough to use log ratio transformation\n"
     ]
    },
    {
     "name": "stderr",
     "output_type": "stream",
     "text": [
      "/home/ec2-user/SageMaker/max-datascience-content-airflow/Sagemaker_Models/actives_post_launch/lib/feature_engineering.py:283: UserWarning: Boolean Series key will be reindexed to match DataFrame index.\n",
      "  self.X_base = self.X[self.y!=-100]\n",
      "/home/ec2-user/SageMaker/max-datascience-content-airflow/Sagemaker_Models/actives_post_launch/lib/feature_engineering.py:285: UserWarning: Boolean Series key will be reindexed to match DataFrame index.\n",
      "  self.X_pred = self.X[((self.y==-100) & (self.X['platform_name']==1))]\n"
     ]
    },
    {
     "name": "stdout",
     "output_type": "stream",
     "text": [
      "X and y are ready based on the input params\n",
      "Do cross prediction for day -24\n",
      "SMAPE for all titles 0.6385052613191893\n",
      "SMAPE for the originals 0.6931803621459819\n",
      "running cvs at day -24\n",
      "Making prediction for day -24\n",
      "keeps the titles above 80.0 percentile day1 viewed over all titles only\n",
      "only 1792 titles considered after popularity filter\n",
      "only 1313 titles considered after prelaunch filter\n",
      "the number of days is not large enough to use log ratio transformation\n"
     ]
    },
    {
     "name": "stderr",
     "output_type": "stream",
     "text": [
      "/home/ec2-user/SageMaker/max-datascience-content-airflow/Sagemaker_Models/actives_post_launch/lib/feature_engineering.py:283: UserWarning: Boolean Series key will be reindexed to match DataFrame index.\n",
      "  self.X_base = self.X[self.y!=-100]\n",
      "/home/ec2-user/SageMaker/max-datascience-content-airflow/Sagemaker_Models/actives_post_launch/lib/feature_engineering.py:285: UserWarning: Boolean Series key will be reindexed to match DataFrame index.\n",
      "  self.X_pred = self.X[((self.y==-100) & (self.X['platform_name']==1))]\n"
     ]
    },
    {
     "name": "stdout",
     "output_type": "stream",
     "text": [
      "X and y are ready based on the input params\n",
      "Do cross prediction for day -23\n",
      "SMAPE for all titles 0.6305984924936533\n",
      "SMAPE for the originals 0.6965267083687472\n",
      "running cvs at day -23\n",
      "Making prediction for day -23\n",
      "keeps the titles above 80.0 percentile day1 viewed over all titles only\n",
      "only 1792 titles considered after popularity filter\n",
      "only 1314 titles considered after prelaunch filter\n",
      "the number of days is not large enough to use log ratio transformation\n"
     ]
    },
    {
     "name": "stderr",
     "output_type": "stream",
     "text": [
      "/home/ec2-user/SageMaker/max-datascience-content-airflow/Sagemaker_Models/actives_post_launch/lib/feature_engineering.py:283: UserWarning: Boolean Series key will be reindexed to match DataFrame index.\n",
      "  self.X_base = self.X[self.y!=-100]\n",
      "/home/ec2-user/SageMaker/max-datascience-content-airflow/Sagemaker_Models/actives_post_launch/lib/feature_engineering.py:285: UserWarning: Boolean Series key will be reindexed to match DataFrame index.\n",
      "  self.X_pred = self.X[((self.y==-100) & (self.X['platform_name']==1))]\n"
     ]
    },
    {
     "name": "stdout",
     "output_type": "stream",
     "text": [
      "X and y are ready based on the input params\n",
      "Do cross prediction for day -22\n",
      "SMAPE for all titles 0.6279579484978759\n",
      "SMAPE for the originals 0.6826543411209937\n",
      "running cvs at day -22\n",
      "Making prediction for day -22\n",
      "keeps the titles above 80.0 percentile day1 viewed over all titles only\n",
      "only 1792 titles considered after popularity filter\n",
      "only 1318 titles considered after prelaunch filter\n",
      "the number of days is not large enough to use log ratio transformation\n"
     ]
    },
    {
     "name": "stderr",
     "output_type": "stream",
     "text": [
      "/home/ec2-user/SageMaker/max-datascience-content-airflow/Sagemaker_Models/actives_post_launch/lib/feature_engineering.py:283: UserWarning: Boolean Series key will be reindexed to match DataFrame index.\n",
      "  self.X_base = self.X[self.y!=-100]\n",
      "/home/ec2-user/SageMaker/max-datascience-content-airflow/Sagemaker_Models/actives_post_launch/lib/feature_engineering.py:285: UserWarning: Boolean Series key will be reindexed to match DataFrame index.\n",
      "  self.X_pred = self.X[((self.y==-100) & (self.X['platform_name']==1))]\n"
     ]
    },
    {
     "name": "stdout",
     "output_type": "stream",
     "text": [
      "X and y are ready based on the input params\n",
      "Do cross prediction for day -21\n",
      "SMAPE for all titles 0.627962872675703\n",
      "SMAPE for the originals 0.6817074209834258\n",
      "running cvs at day -21\n",
      "Making prediction for day -21\n",
      "keeps the titles above 80.0 percentile day1 viewed over all titles only\n",
      "only 1792 titles considered after popularity filter\n",
      "only 1319 titles considered after prelaunch filter\n",
      "the number of days is not large enough to use log ratio transformation\n",
      "X and y are ready based on the input params\n",
      "Do cross prediction for day -20\n"
     ]
    },
    {
     "name": "stderr",
     "output_type": "stream",
     "text": [
      "/home/ec2-user/SageMaker/max-datascience-content-airflow/Sagemaker_Models/actives_post_launch/lib/feature_engineering.py:283: UserWarning: Boolean Series key will be reindexed to match DataFrame index.\n",
      "  self.X_base = self.X[self.y!=-100]\n",
      "/home/ec2-user/SageMaker/max-datascience-content-airflow/Sagemaker_Models/actives_post_launch/lib/feature_engineering.py:285: UserWarning: Boolean Series key will be reindexed to match DataFrame index.\n",
      "  self.X_pred = self.X[((self.y==-100) & (self.X['platform_name']==1))]\n"
     ]
    },
    {
     "name": "stdout",
     "output_type": "stream",
     "text": [
      "SMAPE for all titles 0.6242008217169366\n",
      "SMAPE for the originals 0.6812277411036062\n",
      "running cvs at day -20\n",
      "Making prediction for day -20\n",
      "keeps the titles above 80.0 percentile day1 viewed over all titles only\n",
      "only 1792 titles considered after popularity filter\n",
      "only 1319 titles considered after prelaunch filter\n",
      "the number of days is not large enough to use log ratio transformation\n"
     ]
    },
    {
     "name": "stderr",
     "output_type": "stream",
     "text": [
      "/home/ec2-user/SageMaker/max-datascience-content-airflow/Sagemaker_Models/actives_post_launch/lib/feature_engineering.py:283: UserWarning: Boolean Series key will be reindexed to match DataFrame index.\n",
      "  self.X_base = self.X[self.y!=-100]\n",
      "/home/ec2-user/SageMaker/max-datascience-content-airflow/Sagemaker_Models/actives_post_launch/lib/feature_engineering.py:285: UserWarning: Boolean Series key will be reindexed to match DataFrame index.\n",
      "  self.X_pred = self.X[((self.y==-100) & (self.X['platform_name']==1))]\n"
     ]
    },
    {
     "name": "stdout",
     "output_type": "stream",
     "text": [
      "X and y are ready based on the input params\n",
      "Do cross prediction for day -19\n",
      "SMAPE for all titles 0.6352067429535347\n",
      "SMAPE for the originals 0.7332310357801961\n",
      "running cvs at day -19\n",
      "Making prediction for day -19\n",
      "keeps the titles above 80.0 percentile day1 viewed over all titles only\n",
      "only 1792 titles considered after popularity filter\n",
      "only 1318 titles considered after prelaunch filter\n",
      "the number of days is not large enough to use log ratio transformation\n",
      "X and y are ready based on the input params\n",
      "Do cross prediction for day -18\n"
     ]
    },
    {
     "name": "stderr",
     "output_type": "stream",
     "text": [
      "/home/ec2-user/SageMaker/max-datascience-content-airflow/Sagemaker_Models/actives_post_launch/lib/feature_engineering.py:283: UserWarning: Boolean Series key will be reindexed to match DataFrame index.\n",
      "  self.X_base = self.X[self.y!=-100]\n",
      "/home/ec2-user/SageMaker/max-datascience-content-airflow/Sagemaker_Models/actives_post_launch/lib/feature_engineering.py:285: UserWarning: Boolean Series key will be reindexed to match DataFrame index.\n",
      "  self.X_pred = self.X[((self.y==-100) & (self.X['platform_name']==1))]\n"
     ]
    },
    {
     "name": "stdout",
     "output_type": "stream",
     "text": [
      "SMAPE for all titles 0.6355839919033692\n",
      "SMAPE for the originals 0.7291562344895008\n",
      "running cvs at day -18\n",
      "Making prediction for day -18\n",
      "keeps the titles above 80.0 percentile day1 viewed over all titles only\n",
      "only 1792 titles considered after popularity filter\n",
      "only 1318 titles considered after prelaunch filter\n",
      "the number of days is not large enough to use log ratio transformation\n"
     ]
    },
    {
     "name": "stderr",
     "output_type": "stream",
     "text": [
      "/home/ec2-user/SageMaker/max-datascience-content-airflow/Sagemaker_Models/actives_post_launch/lib/feature_engineering.py:283: UserWarning: Boolean Series key will be reindexed to match DataFrame index.\n",
      "  self.X_base = self.X[self.y!=-100]\n",
      "/home/ec2-user/SageMaker/max-datascience-content-airflow/Sagemaker_Models/actives_post_launch/lib/feature_engineering.py:285: UserWarning: Boolean Series key will be reindexed to match DataFrame index.\n",
      "  self.X_pred = self.X[((self.y==-100) & (self.X['platform_name']==1))]\n"
     ]
    },
    {
     "name": "stdout",
     "output_type": "stream",
     "text": [
      "X and y are ready based on the input params\n",
      "Do cross prediction for day -17\n",
      "SMAPE for all titles 0.6357068789941187\n",
      "SMAPE for the originals 0.7146598301681111\n",
      "running cvs at day -17\n",
      "Making prediction for day -17\n",
      "keeps the titles above 80.0 percentile day1 viewed over all titles only\n",
      "only 1792 titles considered after popularity filter\n",
      "only 1321 titles considered after prelaunch filter\n",
      "the number of days is not large enough to use log ratio transformation\n",
      "X and y are ready based on the input params\n",
      "Do cross prediction for day -16\n"
     ]
    },
    {
     "name": "stderr",
     "output_type": "stream",
     "text": [
      "/home/ec2-user/SageMaker/max-datascience-content-airflow/Sagemaker_Models/actives_post_launch/lib/feature_engineering.py:283: UserWarning: Boolean Series key will be reindexed to match DataFrame index.\n",
      "  self.X_base = self.X[self.y!=-100]\n",
      "/home/ec2-user/SageMaker/max-datascience-content-airflow/Sagemaker_Models/actives_post_launch/lib/feature_engineering.py:285: UserWarning: Boolean Series key will be reindexed to match DataFrame index.\n",
      "  self.X_pred = self.X[((self.y==-100) & (self.X['platform_name']==1))]\n"
     ]
    },
    {
     "name": "stdout",
     "output_type": "stream",
     "text": [
      "SMAPE for all titles 0.6351849466011631\n",
      "SMAPE for the originals 0.7126132107602885\n",
      "running cvs at day -16\n",
      "Making prediction for day -16\n",
      "keeps the titles above 80.0 percentile day1 viewed over all titles only\n",
      "only 1792 titles considered after popularity filter\n",
      "only 1319 titles considered after prelaunch filter\n",
      "the number of days is not large enough to use log ratio transformation\n"
     ]
    },
    {
     "name": "stderr",
     "output_type": "stream",
     "text": [
      "/home/ec2-user/SageMaker/max-datascience-content-airflow/Sagemaker_Models/actives_post_launch/lib/feature_engineering.py:283: UserWarning: Boolean Series key will be reindexed to match DataFrame index.\n",
      "  self.X_base = self.X[self.y!=-100]\n",
      "/home/ec2-user/SageMaker/max-datascience-content-airflow/Sagemaker_Models/actives_post_launch/lib/feature_engineering.py:285: UserWarning: Boolean Series key will be reindexed to match DataFrame index.\n",
      "  self.X_pred = self.X[((self.y==-100) & (self.X['platform_name']==1))]\n"
     ]
    },
    {
     "name": "stdout",
     "output_type": "stream",
     "text": [
      "X and y are ready based on the input params\n",
      "Do cross prediction for day -15\n",
      "SMAPE for all titles 0.6360727393083171\n",
      "SMAPE for the originals 0.7138071861060068\n",
      "running cvs at day -15\n",
      "Making prediction for day -15\n",
      "keeps the titles above 80.0 percentile day1 viewed over all titles only\n",
      "only 1792 titles considered after popularity filter\n",
      "only 1322 titles considered after prelaunch filter\n",
      "the number of days is not large enough to use log ratio transformation\n",
      "X and y are ready based on the input params\n",
      "Do cross prediction for day -14\n"
     ]
    },
    {
     "name": "stderr",
     "output_type": "stream",
     "text": [
      "/home/ec2-user/SageMaker/max-datascience-content-airflow/Sagemaker_Models/actives_post_launch/lib/feature_engineering.py:283: UserWarning: Boolean Series key will be reindexed to match DataFrame index.\n",
      "  self.X_base = self.X[self.y!=-100]\n",
      "/home/ec2-user/SageMaker/max-datascience-content-airflow/Sagemaker_Models/actives_post_launch/lib/feature_engineering.py:285: UserWarning: Boolean Series key will be reindexed to match DataFrame index.\n",
      "  self.X_pred = self.X[((self.y==-100) & (self.X['platform_name']==1))]\n"
     ]
    },
    {
     "name": "stdout",
     "output_type": "stream",
     "text": [
      "SMAPE for all titles 0.6376150027018509\n",
      "SMAPE for the originals 0.7172599967849107\n",
      "running cvs at day -14\n",
      "Making prediction for day -14\n",
      "keeps the titles above 80.0 percentile day1 viewed over all titles only\n",
      "only 1792 titles considered after popularity filter\n",
      "only 1324 titles considered after prelaunch filter\n",
      "the number of days is not large enough to use log ratio transformation\n"
     ]
    },
    {
     "name": "stderr",
     "output_type": "stream",
     "text": [
      "/home/ec2-user/SageMaker/max-datascience-content-airflow/Sagemaker_Models/actives_post_launch/lib/feature_engineering.py:283: UserWarning: Boolean Series key will be reindexed to match DataFrame index.\n",
      "  self.X_base = self.X[self.y!=-100]\n",
      "/home/ec2-user/SageMaker/max-datascience-content-airflow/Sagemaker_Models/actives_post_launch/lib/feature_engineering.py:285: UserWarning: Boolean Series key will be reindexed to match DataFrame index.\n",
      "  self.X_pred = self.X[((self.y==-100) & (self.X['platform_name']==1))]\n"
     ]
    },
    {
     "name": "stdout",
     "output_type": "stream",
     "text": [
      "X and y are ready based on the input params\n",
      "Do cross prediction for day -13\n",
      "SMAPE for all titles 0.6299810434249772\n",
      "SMAPE for the originals 0.6921139498552837\n",
      "running cvs at day -13\n",
      "Making prediction for day -13\n",
      "keeps the titles above 80.0 percentile day1 viewed over all titles only\n",
      "only 1792 titles considered after popularity filter\n",
      "only 1325 titles considered after prelaunch filter\n",
      "the number of days is not large enough to use log ratio transformation\n",
      "X and y are ready based on the input params\n",
      "Do cross prediction for day -12\n"
     ]
    },
    {
     "name": "stderr",
     "output_type": "stream",
     "text": [
      "/home/ec2-user/SageMaker/max-datascience-content-airflow/Sagemaker_Models/actives_post_launch/lib/feature_engineering.py:283: UserWarning: Boolean Series key will be reindexed to match DataFrame index.\n",
      "  self.X_base = self.X[self.y!=-100]\n",
      "/home/ec2-user/SageMaker/max-datascience-content-airflow/Sagemaker_Models/actives_post_launch/lib/feature_engineering.py:285: UserWarning: Boolean Series key will be reindexed to match DataFrame index.\n",
      "  self.X_pred = self.X[((self.y==-100) & (self.X['platform_name']==1))]\n"
     ]
    },
    {
     "name": "stdout",
     "output_type": "stream",
     "text": [
      "SMAPE for all titles 0.6414559494321895\n",
      "SMAPE for the originals 0.7614927046898989\n",
      "running cvs at day -12\n",
      "Making prediction for day -12\n",
      "keeps the titles above 80.0 percentile day1 viewed over all titles only\n",
      "only 1792 titles considered after popularity filter\n",
      "only 1327 titles considered after prelaunch filter\n",
      "the number of days is not large enough to use log ratio transformation\n"
     ]
    },
    {
     "name": "stderr",
     "output_type": "stream",
     "text": [
      "/home/ec2-user/SageMaker/max-datascience-content-airflow/Sagemaker_Models/actives_post_launch/lib/feature_engineering.py:283: UserWarning: Boolean Series key will be reindexed to match DataFrame index.\n",
      "  self.X_base = self.X[self.y!=-100]\n",
      "/home/ec2-user/SageMaker/max-datascience-content-airflow/Sagemaker_Models/actives_post_launch/lib/feature_engineering.py:285: UserWarning: Boolean Series key will be reindexed to match DataFrame index.\n",
      "  self.X_pred = self.X[((self.y==-100) & (self.X['platform_name']==1))]\n"
     ]
    },
    {
     "name": "stdout",
     "output_type": "stream",
     "text": [
      "X and y are ready based on the input params\n",
      "Do cross prediction for day -11\n",
      "SMAPE for all titles 0.6435200477148819\n",
      "SMAPE for the originals 0.7653097407033207\n",
      "running cvs at day -11\n",
      "Making prediction for day -11\n",
      "keeps the titles above 80.0 percentile day1 viewed over all titles only\n",
      "only 1792 titles considered after popularity filter\n",
      "only 1326 titles considered after prelaunch filter\n",
      "the number of days is not large enough to use log ratio transformation\n",
      "X and y are ready based on the input params\n",
      "Do cross prediction for day -10\n"
     ]
    },
    {
     "name": "stderr",
     "output_type": "stream",
     "text": [
      "/home/ec2-user/SageMaker/max-datascience-content-airflow/Sagemaker_Models/actives_post_launch/lib/feature_engineering.py:283: UserWarning: Boolean Series key will be reindexed to match DataFrame index.\n",
      "  self.X_base = self.X[self.y!=-100]\n",
      "/home/ec2-user/SageMaker/max-datascience-content-airflow/Sagemaker_Models/actives_post_launch/lib/feature_engineering.py:285: UserWarning: Boolean Series key will be reindexed to match DataFrame index.\n",
      "  self.X_pred = self.X[((self.y==-100) & (self.X['platform_name']==1))]\n"
     ]
    },
    {
     "name": "stdout",
     "output_type": "stream",
     "text": [
      "SMAPE for all titles 0.646529060964758\n",
      "SMAPE for the originals 0.7716167790076076\n",
      "running cvs at day -10\n",
      "Making prediction for day -10\n",
      "keeps the titles above 80.0 percentile day1 viewed over all titles only\n",
      "only 1792 titles considered after popularity filter\n",
      "only 1326 titles considered after prelaunch filter\n",
      "the number of days is not large enough to use log ratio transformation\n"
     ]
    },
    {
     "name": "stderr",
     "output_type": "stream",
     "text": [
      "/home/ec2-user/SageMaker/max-datascience-content-airflow/Sagemaker_Models/actives_post_launch/lib/feature_engineering.py:283: UserWarning: Boolean Series key will be reindexed to match DataFrame index.\n",
      "  self.X_base = self.X[self.y!=-100]\n",
      "/home/ec2-user/SageMaker/max-datascience-content-airflow/Sagemaker_Models/actives_post_launch/lib/feature_engineering.py:285: UserWarning: Boolean Series key will be reindexed to match DataFrame index.\n",
      "  self.X_pred = self.X[((self.y==-100) & (self.X['platform_name']==1))]\n"
     ]
    },
    {
     "name": "stdout",
     "output_type": "stream",
     "text": [
      "X and y are ready based on the input params\n",
      "Do cross prediction for day -9\n",
      "SMAPE for all titles 0.6582746358119588\n",
      "SMAPE for the originals 0.8509013304937283\n",
      "running cvs at day -9\n",
      "Making prediction for day -9\n",
      "keeps the titles above 80.0 percentile day1 viewed over all titles only\n",
      "only 1792 titles considered after popularity filter\n",
      "only 1329 titles considered after prelaunch filter\n",
      "the number of days is not large enough to use log ratio transformation\n",
      "X and y are ready based on the input params\n",
      "Do cross prediction for day -8\n"
     ]
    },
    {
     "name": "stderr",
     "output_type": "stream",
     "text": [
      "/home/ec2-user/SageMaker/max-datascience-content-airflow/Sagemaker_Models/actives_post_launch/lib/feature_engineering.py:283: UserWarning: Boolean Series key will be reindexed to match DataFrame index.\n",
      "  self.X_base = self.X[self.y!=-100]\n",
      "/home/ec2-user/SageMaker/max-datascience-content-airflow/Sagemaker_Models/actives_post_launch/lib/feature_engineering.py:285: UserWarning: Boolean Series key will be reindexed to match DataFrame index.\n",
      "  self.X_pred = self.X[((self.y==-100) & (self.X['platform_name']==1))]\n"
     ]
    },
    {
     "name": "stdout",
     "output_type": "stream",
     "text": [
      "SMAPE for all titles 0.6595926775754342\n",
      "SMAPE for the originals 0.8550809460320127\n",
      "running cvs at day -8\n",
      "Making prediction for day -8\n",
      "keeps the titles above 80.0 percentile day1 viewed over all titles only\n",
      "only 1792 titles considered after popularity filter\n",
      "only 1331 titles considered after prelaunch filter\n",
      "the number of days is not large enough to use log ratio transformation\n"
     ]
    },
    {
     "name": "stderr",
     "output_type": "stream",
     "text": [
      "/home/ec2-user/SageMaker/max-datascience-content-airflow/Sagemaker_Models/actives_post_launch/lib/feature_engineering.py:283: UserWarning: Boolean Series key will be reindexed to match DataFrame index.\n",
      "  self.X_base = self.X[self.y!=-100]\n",
      "/home/ec2-user/SageMaker/max-datascience-content-airflow/Sagemaker_Models/actives_post_launch/lib/feature_engineering.py:285: UserWarning: Boolean Series key will be reindexed to match DataFrame index.\n",
      "  self.X_pred = self.X[((self.y==-100) & (self.X['platform_name']==1))]\n"
     ]
    },
    {
     "name": "stdout",
     "output_type": "stream",
     "text": [
      "X and y are ready based on the input params\n",
      "Do cross prediction for day -7\n",
      "SMAPE for all titles 0.6426593830780796\n",
      "SMAPE for the originals 0.8406156479360826\n",
      "running cvs at day -7\n",
      "Making prediction for day -7\n",
      "keeps the titles above 80.0 percentile day1 viewed over all titles only\n",
      "only 1792 titles considered after popularity filter\n",
      "only 1330 titles considered after prelaunch filter\n",
      "the number of days is not large enough to use log ratio transformation\n",
      "X and y are ready based on the input params\n",
      "Do cross prediction for day -6\n"
     ]
    },
    {
     "name": "stderr",
     "output_type": "stream",
     "text": [
      "/home/ec2-user/SageMaker/max-datascience-content-airflow/Sagemaker_Models/actives_post_launch/lib/feature_engineering.py:283: UserWarning: Boolean Series key will be reindexed to match DataFrame index.\n",
      "  self.X_base = self.X[self.y!=-100]\n",
      "/home/ec2-user/SageMaker/max-datascience-content-airflow/Sagemaker_Models/actives_post_launch/lib/feature_engineering.py:285: UserWarning: Boolean Series key will be reindexed to match DataFrame index.\n",
      "  self.X_pred = self.X[((self.y==-100) & (self.X['platform_name']==1))]\n"
     ]
    },
    {
     "name": "stdout",
     "output_type": "stream",
     "text": [
      "SMAPE for all titles 0.6454278763707154\n",
      "SMAPE for the originals 0.8946868255088327\n",
      "running cvs at day -6\n",
      "Making prediction for day -6\n",
      "keeps the titles above 80.0 percentile day1 viewed over all titles only\n",
      "only 1792 titles considered after popularity filter\n",
      "only 1331 titles considered after prelaunch filter\n",
      "the number of days is not large enough to use log ratio transformation\n"
     ]
    },
    {
     "name": "stderr",
     "output_type": "stream",
     "text": [
      "/home/ec2-user/SageMaker/max-datascience-content-airflow/Sagemaker_Models/actives_post_launch/lib/feature_engineering.py:283: UserWarning: Boolean Series key will be reindexed to match DataFrame index.\n",
      "  self.X_base = self.X[self.y!=-100]\n",
      "/home/ec2-user/SageMaker/max-datascience-content-airflow/Sagemaker_Models/actives_post_launch/lib/feature_engineering.py:285: UserWarning: Boolean Series key will be reindexed to match DataFrame index.\n",
      "  self.X_pred = self.X[((self.y==-100) & (self.X['platform_name']==1))]\n"
     ]
    },
    {
     "name": "stdout",
     "output_type": "stream",
     "text": [
      "X and y are ready based on the input params\n",
      "Do cross prediction for day -5\n",
      "SMAPE for all titles 0.6425676235871737\n",
      "SMAPE for the originals 0.8851797850443542\n",
      "running cvs at day -5\n",
      "Making prediction for day -5\n",
      "keeps the titles above 80.0 percentile day1 viewed over all titles only\n",
      "only 1792 titles considered after popularity filter\n",
      "only 1331 titles considered after prelaunch filter\n",
      "the number of days is not large enough to use log ratio transformation\n",
      "X and y are ready based on the input params\n",
      "Do cross prediction for day -4\n"
     ]
    },
    {
     "name": "stderr",
     "output_type": "stream",
     "text": [
      "/home/ec2-user/SageMaker/max-datascience-content-airflow/Sagemaker_Models/actives_post_launch/lib/feature_engineering.py:283: UserWarning: Boolean Series key will be reindexed to match DataFrame index.\n",
      "  self.X_base = self.X[self.y!=-100]\n",
      "/home/ec2-user/SageMaker/max-datascience-content-airflow/Sagemaker_Models/actives_post_launch/lib/feature_engineering.py:285: UserWarning: Boolean Series key will be reindexed to match DataFrame index.\n",
      "  self.X_pred = self.X[((self.y==-100) & (self.X['platform_name']==1))]\n"
     ]
    },
    {
     "name": "stdout",
     "output_type": "stream",
     "text": [
      "SMAPE for all titles 0.6463868711632309\n",
      "SMAPE for the originals 0.9068476878076663\n",
      "running cvs at day -4\n",
      "Making prediction for day -4\n",
      "keeps the titles above 80.0 percentile day1 viewed over all titles only\n",
      "only 1792 titles considered after popularity filter\n",
      "only 1333 titles considered after prelaunch filter\n",
      "the number of days is not large enough to use log ratio transformation\n"
     ]
    },
    {
     "name": "stderr",
     "output_type": "stream",
     "text": [
      "/home/ec2-user/SageMaker/max-datascience-content-airflow/Sagemaker_Models/actives_post_launch/lib/feature_engineering.py:283: UserWarning: Boolean Series key will be reindexed to match DataFrame index.\n",
      "  self.X_base = self.X[self.y!=-100]\n",
      "/home/ec2-user/SageMaker/max-datascience-content-airflow/Sagemaker_Models/actives_post_launch/lib/feature_engineering.py:285: UserWarning: Boolean Series key will be reindexed to match DataFrame index.\n",
      "  self.X_pred = self.X[((self.y==-100) & (self.X['platform_name']==1))]\n"
     ]
    },
    {
     "name": "stdout",
     "output_type": "stream",
     "text": [
      "X and y are ready based on the input params\n",
      "Do cross prediction for day -3\n",
      "SMAPE for all titles 0.6465581612262683\n",
      "SMAPE for the originals 0.8947731922231469\n",
      "running cvs at day -3\n",
      "Making prediction for day -3\n",
      "keeps the titles above 80.0 percentile day1 viewed over all titles only\n",
      "only 1792 titles considered after popularity filter\n",
      "only 1332 titles considered after prelaunch filter\n",
      "the number of days is not large enough to use log ratio transformation\n"
     ]
    },
    {
     "name": "stderr",
     "output_type": "stream",
     "text": [
      "/home/ec2-user/SageMaker/max-datascience-content-airflow/Sagemaker_Models/actives_post_launch/lib/feature_engineering.py:283: UserWarning: Boolean Series key will be reindexed to match DataFrame index.\n",
      "  self.X_base = self.X[self.y!=-100]\n",
      "/home/ec2-user/SageMaker/max-datascience-content-airflow/Sagemaker_Models/actives_post_launch/lib/feature_engineering.py:285: UserWarning: Boolean Series key will be reindexed to match DataFrame index.\n",
      "  self.X_pred = self.X[((self.y==-100) & (self.X['platform_name']==1))]\n"
     ]
    },
    {
     "name": "stdout",
     "output_type": "stream",
     "text": [
      "X and y are ready based on the input params\n",
      "Do cross prediction for day -2\n",
      "SMAPE for all titles 0.6470712602455038\n",
      "SMAPE for the originals 0.8989292698858332\n",
      "running cvs at day -2\n",
      "Making prediction for day -2\n",
      "keeps the titles above 80.0 percentile day1 viewed over all titles only\n",
      "only 1792 titles considered after popularity filter\n",
      "only 1333 titles considered after prelaunch filter\n",
      "the number of days is not large enough to use log ratio transformation\n",
      "X and y are ready based on the input params\n",
      "Do cross prediction for day -1\n"
     ]
    },
    {
     "name": "stderr",
     "output_type": "stream",
     "text": [
      "/home/ec2-user/SageMaker/max-datascience-content-airflow/Sagemaker_Models/actives_post_launch/lib/feature_engineering.py:283: UserWarning: Boolean Series key will be reindexed to match DataFrame index.\n",
      "  self.X_base = self.X[self.y!=-100]\n",
      "/home/ec2-user/SageMaker/max-datascience-content-airflow/Sagemaker_Models/actives_post_launch/lib/feature_engineering.py:285: UserWarning: Boolean Series key will be reindexed to match DataFrame index.\n",
      "  self.X_pred = self.X[((self.y==-100) & (self.X['platform_name']==1))]\n"
     ]
    },
    {
     "name": "stdout",
     "output_type": "stream",
     "text": [
      "SMAPE for all titles 0.6459877053746015\n",
      "SMAPE for the originals 0.9018941227731948\n",
      "running cvs at day -1\n",
      "Making prediction for day -1\n",
      "keeps the titles above 80.0 percentile day1 viewed over all titles only\n",
      "only 1792 titles considered after popularity filter\n",
      "only 1337 titles considered after prelaunch filter\n",
      "the number of days is not large enough to use log ratio transformation\n"
     ]
    },
    {
     "name": "stderr",
     "output_type": "stream",
     "text": [
      "/home/ec2-user/SageMaker/max-datascience-content-airflow/Sagemaker_Models/actives_post_launch/lib/feature_engineering.py:283: UserWarning: Boolean Series key will be reindexed to match DataFrame index.\n",
      "  self.X_base = self.X[self.y!=-100]\n",
      "/home/ec2-user/SageMaker/max-datascience-content-airflow/Sagemaker_Models/actives_post_launch/lib/feature_engineering.py:285: UserWarning: Boolean Series key will be reindexed to match DataFrame index.\n",
      "  self.X_pred = self.X[((self.y==-100) & (self.X['platform_name']==1))]\n"
     ]
    },
    {
     "name": "stdout",
     "output_type": "stream",
     "text": [
      "X and y are ready based on the input params\n",
      "Do cross prediction for day 0\n",
      "SMAPE for all titles 0.6387712833652719\n",
      "SMAPE for the originals 0.8908552318089704\n",
      "running cvs at day 0\n",
      "Making prediction for day 0\n",
      "keeps the titles above 80.0 percentile day1 viewed over all titles only\n",
      "only 1792 titles considered after popularity filter\n",
      "X and y are ready based on the input params\n",
      "Tune parameter for day 1\n",
      "parameter combination 1\n"
     ]
    },
    {
     "name": "stderr",
     "output_type": "stream",
     "text": [
      "/home/ec2-user/anaconda3/envs/python3/lib/python3.6/site-packages/lightgbm/engine.py:148: UserWarning: Found `num_boost_round` in params. Will use it instead of argument\n",
      "  _log_warning(\"Found `{}` in params. Will use it instead of argument\".format(alias))\n"
     ]
    },
    {
     "name": "stdout",
     "output_type": "stream",
     "text": [
      "parameter combination 2\n"
     ]
    },
    {
     "name": "stderr",
     "output_type": "stream",
     "text": [
      "/home/ec2-user/anaconda3/envs/python3/lib/python3.6/site-packages/lightgbm/engine.py:148: UserWarning: Found `num_boost_round` in params. Will use it instead of argument\n",
      "  _log_warning(\"Found `{}` in params. Will use it instead of argument\".format(alias))\n"
     ]
    },
    {
     "name": "stdout",
     "output_type": "stream",
     "text": [
      "parameter combination 3\n"
     ]
    },
    {
     "name": "stderr",
     "output_type": "stream",
     "text": [
      "/home/ec2-user/anaconda3/envs/python3/lib/python3.6/site-packages/lightgbm/engine.py:148: UserWarning: Found `num_boost_round` in params. Will use it instead of argument\n",
      "  _log_warning(\"Found `{}` in params. Will use it instead of argument\".format(alias))\n"
     ]
    },
    {
     "name": "stdout",
     "output_type": "stream",
     "text": [
      "parameter combination 4\n"
     ]
    },
    {
     "name": "stderr",
     "output_type": "stream",
     "text": [
      "/home/ec2-user/anaconda3/envs/python3/lib/python3.6/site-packages/lightgbm/engine.py:148: UserWarning: Found `num_boost_round` in params. Will use it instead of argument\n",
      "  _log_warning(\"Found `{}` in params. Will use it instead of argument\".format(alias))\n"
     ]
    },
    {
     "name": "stdout",
     "output_type": "stream",
     "text": [
      "parameter combination 5\n"
     ]
    },
    {
     "name": "stderr",
     "output_type": "stream",
     "text": [
      "/home/ec2-user/anaconda3/envs/python3/lib/python3.6/site-packages/lightgbm/engine.py:148: UserWarning: Found `num_boost_round` in params. Will use it instead of argument\n",
      "  _log_warning(\"Found `{}` in params. Will use it instead of argument\".format(alias))\n"
     ]
    },
    {
     "name": "stdout",
     "output_type": "stream",
     "text": [
      "parameter combination 6\n"
     ]
    },
    {
     "name": "stderr",
     "output_type": "stream",
     "text": [
      "/home/ec2-user/anaconda3/envs/python3/lib/python3.6/site-packages/lightgbm/engine.py:148: UserWarning: Found `num_boost_round` in params. Will use it instead of argument\n",
      "  _log_warning(\"Found `{}` in params. Will use it instead of argument\".format(alias))\n"
     ]
    },
    {
     "name": "stdout",
     "output_type": "stream",
     "text": [
      "parameter combination 7\n"
     ]
    },
    {
     "name": "stderr",
     "output_type": "stream",
     "text": [
      "/home/ec2-user/anaconda3/envs/python3/lib/python3.6/site-packages/lightgbm/engine.py:148: UserWarning: Found `num_boost_round` in params. Will use it instead of argument\n",
      "  _log_warning(\"Found `{}` in params. Will use it instead of argument\".format(alias))\n"
     ]
    },
    {
     "name": "stdout",
     "output_type": "stream",
     "text": [
      "parameter combination 8\n"
     ]
    },
    {
     "name": "stderr",
     "output_type": "stream",
     "text": [
      "/home/ec2-user/anaconda3/envs/python3/lib/python3.6/site-packages/lightgbm/engine.py:148: UserWarning: Found `num_boost_round` in params. Will use it instead of argument\n",
      "  _log_warning(\"Found `{}` in params. Will use it instead of argument\".format(alias))\n"
     ]
    },
    {
     "name": "stdout",
     "output_type": "stream",
     "text": [
      "SMAPE for all titles 0.2747177311461913\n",
      "SMAPE for the originals 0.3085243605776344\n",
      "running cvs at day 1\n",
      "Making prediction for day 1\n"
     ]
    },
    {
     "name": "stderr",
     "output_type": "stream",
     "text": [
      "/home/ec2-user/anaconda3/envs/python3/lib/python3.6/site-packages/lightgbm/engine.py:148: UserWarning: Found `num_boost_round` in params. Will use it instead of argument\n",
      "  _log_warning(\"Found `{}` in params. Will use it instead of argument\".format(alias))\n"
     ]
    },
    {
     "name": "stdout",
     "output_type": "stream",
     "text": [
      "keeps the titles above 80.0 percentile day1 viewed over all titles only\n",
      "only 1792 titles considered after popularity filter\n",
      "X and y are ready based on the input params\n",
      "Tune parameter for day 2\n",
      "parameter combination 1\n"
     ]
    },
    {
     "name": "stderr",
     "output_type": "stream",
     "text": [
      "/home/ec2-user/anaconda3/envs/python3/lib/python3.6/site-packages/lightgbm/engine.py:148: UserWarning: Found `num_boost_round` in params. Will use it instead of argument\n",
      "  _log_warning(\"Found `{}` in params. Will use it instead of argument\".format(alias))\n"
     ]
    },
    {
     "name": "stdout",
     "output_type": "stream",
     "text": [
      "parameter combination 2\n"
     ]
    },
    {
     "name": "stderr",
     "output_type": "stream",
     "text": [
      "/home/ec2-user/anaconda3/envs/python3/lib/python3.6/site-packages/lightgbm/engine.py:148: UserWarning: Found `num_boost_round` in params. Will use it instead of argument\n",
      "  _log_warning(\"Found `{}` in params. Will use it instead of argument\".format(alias))\n"
     ]
    },
    {
     "name": "stdout",
     "output_type": "stream",
     "text": [
      "parameter combination 3\n"
     ]
    },
    {
     "name": "stderr",
     "output_type": "stream",
     "text": [
      "/home/ec2-user/anaconda3/envs/python3/lib/python3.6/site-packages/lightgbm/engine.py:148: UserWarning: Found `num_boost_round` in params. Will use it instead of argument\n",
      "  _log_warning(\"Found `{}` in params. Will use it instead of argument\".format(alias))\n"
     ]
    },
    {
     "name": "stdout",
     "output_type": "stream",
     "text": [
      "parameter combination 4\n"
     ]
    },
    {
     "name": "stderr",
     "output_type": "stream",
     "text": [
      "/home/ec2-user/anaconda3/envs/python3/lib/python3.6/site-packages/lightgbm/engine.py:148: UserWarning: Found `num_boost_round` in params. Will use it instead of argument\n",
      "  _log_warning(\"Found `{}` in params. Will use it instead of argument\".format(alias))\n"
     ]
    },
    {
     "name": "stdout",
     "output_type": "stream",
     "text": [
      "parameter combination 5\n"
     ]
    },
    {
     "name": "stderr",
     "output_type": "stream",
     "text": [
      "/home/ec2-user/anaconda3/envs/python3/lib/python3.6/site-packages/lightgbm/engine.py:148: UserWarning: Found `num_boost_round` in params. Will use it instead of argument\n",
      "  _log_warning(\"Found `{}` in params. Will use it instead of argument\".format(alias))\n"
     ]
    },
    {
     "name": "stdout",
     "output_type": "stream",
     "text": [
      "parameter combination 6\n"
     ]
    },
    {
     "name": "stderr",
     "output_type": "stream",
     "text": [
      "/home/ec2-user/anaconda3/envs/python3/lib/python3.6/site-packages/lightgbm/engine.py:148: UserWarning: Found `num_boost_round` in params. Will use it instead of argument\n",
      "  _log_warning(\"Found `{}` in params. Will use it instead of argument\".format(alias))\n"
     ]
    },
    {
     "name": "stdout",
     "output_type": "stream",
     "text": [
      "parameter combination 7\n"
     ]
    },
    {
     "name": "stderr",
     "output_type": "stream",
     "text": [
      "/home/ec2-user/anaconda3/envs/python3/lib/python3.6/site-packages/lightgbm/engine.py:148: UserWarning: Found `num_boost_round` in params. Will use it instead of argument\n",
      "  _log_warning(\"Found `{}` in params. Will use it instead of argument\".format(alias))\n"
     ]
    },
    {
     "name": "stdout",
     "output_type": "stream",
     "text": [
      "parameter combination 8\n"
     ]
    },
    {
     "name": "stderr",
     "output_type": "stream",
     "text": [
      "/home/ec2-user/anaconda3/envs/python3/lib/python3.6/site-packages/lightgbm/engine.py:148: UserWarning: Found `num_boost_round` in params. Will use it instead of argument\n",
      "  _log_warning(\"Found `{}` in params. Will use it instead of argument\".format(alias))\n"
     ]
    },
    {
     "name": "stdout",
     "output_type": "stream",
     "text": [
      "SMAPE for all titles 0.2625488339283454\n",
      "SMAPE for the originals 0.25630638448403376\n",
      "running cvs at day 2\n",
      "Making prediction for day 2\n"
     ]
    },
    {
     "name": "stderr",
     "output_type": "stream",
     "text": [
      "/home/ec2-user/anaconda3/envs/python3/lib/python3.6/site-packages/lightgbm/engine.py:148: UserWarning: Found `num_boost_round` in params. Will use it instead of argument\n",
      "  _log_warning(\"Found `{}` in params. Will use it instead of argument\".format(alias))\n"
     ]
    },
    {
     "name": "stdout",
     "output_type": "stream",
     "text": [
      "keeps the titles above 80.0 percentile day1 viewed over all titles only\n",
      "only 1792 titles considered after popularity filter\n",
      "X and y are ready based on the input params\n",
      "Tune parameter for day 3\n",
      "parameter combination 1\n"
     ]
    },
    {
     "name": "stderr",
     "output_type": "stream",
     "text": [
      "/home/ec2-user/anaconda3/envs/python3/lib/python3.6/site-packages/lightgbm/engine.py:148: UserWarning: Found `num_boost_round` in params. Will use it instead of argument\n",
      "  _log_warning(\"Found `{}` in params. Will use it instead of argument\".format(alias))\n"
     ]
    },
    {
     "name": "stdout",
     "output_type": "stream",
     "text": [
      "parameter combination 2\n"
     ]
    },
    {
     "name": "stderr",
     "output_type": "stream",
     "text": [
      "/home/ec2-user/anaconda3/envs/python3/lib/python3.6/site-packages/lightgbm/engine.py:148: UserWarning: Found `num_boost_round` in params. Will use it instead of argument\n",
      "  _log_warning(\"Found `{}` in params. Will use it instead of argument\".format(alias))\n"
     ]
    },
    {
     "name": "stdout",
     "output_type": "stream",
     "text": [
      "parameter combination 3\n"
     ]
    },
    {
     "name": "stderr",
     "output_type": "stream",
     "text": [
      "/home/ec2-user/anaconda3/envs/python3/lib/python3.6/site-packages/lightgbm/engine.py:148: UserWarning: Found `num_boost_round` in params. Will use it instead of argument\n",
      "  _log_warning(\"Found `{}` in params. Will use it instead of argument\".format(alias))\n"
     ]
    },
    {
     "name": "stdout",
     "output_type": "stream",
     "text": [
      "parameter combination 4\n"
     ]
    },
    {
     "name": "stderr",
     "output_type": "stream",
     "text": [
      "/home/ec2-user/anaconda3/envs/python3/lib/python3.6/site-packages/lightgbm/engine.py:148: UserWarning: Found `num_boost_round` in params. Will use it instead of argument\n",
      "  _log_warning(\"Found `{}` in params. Will use it instead of argument\".format(alias))\n"
     ]
    },
    {
     "name": "stdout",
     "output_type": "stream",
     "text": [
      "parameter combination 5\n"
     ]
    },
    {
     "name": "stderr",
     "output_type": "stream",
     "text": [
      "/home/ec2-user/anaconda3/envs/python3/lib/python3.6/site-packages/lightgbm/engine.py:148: UserWarning: Found `num_boost_round` in params. Will use it instead of argument\n",
      "  _log_warning(\"Found `{}` in params. Will use it instead of argument\".format(alias))\n"
     ]
    },
    {
     "name": "stdout",
     "output_type": "stream",
     "text": [
      "parameter combination 6\n"
     ]
    },
    {
     "name": "stderr",
     "output_type": "stream",
     "text": [
      "/home/ec2-user/anaconda3/envs/python3/lib/python3.6/site-packages/lightgbm/engine.py:148: UserWarning: Found `num_boost_round` in params. Will use it instead of argument\n",
      "  _log_warning(\"Found `{}` in params. Will use it instead of argument\".format(alias))\n"
     ]
    },
    {
     "name": "stdout",
     "output_type": "stream",
     "text": [
      "parameter combination 7\n"
     ]
    },
    {
     "name": "stderr",
     "output_type": "stream",
     "text": [
      "/home/ec2-user/anaconda3/envs/python3/lib/python3.6/site-packages/lightgbm/engine.py:148: UserWarning: Found `num_boost_round` in params. Will use it instead of argument\n",
      "  _log_warning(\"Found `{}` in params. Will use it instead of argument\".format(alias))\n"
     ]
    },
    {
     "name": "stdout",
     "output_type": "stream",
     "text": [
      "parameter combination 8\n"
     ]
    },
    {
     "name": "stderr",
     "output_type": "stream",
     "text": [
      "/home/ec2-user/anaconda3/envs/python3/lib/python3.6/site-packages/lightgbm/engine.py:148: UserWarning: Found `num_boost_round` in params. Will use it instead of argument\n",
      "  _log_warning(\"Found `{}` in params. Will use it instead of argument\".format(alias))\n"
     ]
    },
    {
     "name": "stdout",
     "output_type": "stream",
     "text": [
      "SMAPE for all titles 0.2669462037141617\n",
      "SMAPE for the originals 0.24188911401007424\n",
      "running cvs at day 3\n",
      "Making prediction for day 3\n"
     ]
    },
    {
     "name": "stderr",
     "output_type": "stream",
     "text": [
      "/home/ec2-user/anaconda3/envs/python3/lib/python3.6/site-packages/lightgbm/engine.py:148: UserWarning: Found `num_boost_round` in params. Will use it instead of argument\n",
      "  _log_warning(\"Found `{}` in params. Will use it instead of argument\".format(alias))\n"
     ]
    },
    {
     "name": "stdout",
     "output_type": "stream",
     "text": [
      "keeps the titles above 80.0 percentile day1 viewed over all titles only\n",
      "only 1792 titles considered after popularity filter\n",
      "X and y are ready based on the input params\n",
      "Tune parameter for day 4\n",
      "parameter combination 1\n"
     ]
    },
    {
     "name": "stderr",
     "output_type": "stream",
     "text": [
      "/home/ec2-user/anaconda3/envs/python3/lib/python3.6/site-packages/lightgbm/engine.py:148: UserWarning: Found `num_boost_round` in params. Will use it instead of argument\n",
      "  _log_warning(\"Found `{}` in params. Will use it instead of argument\".format(alias))\n"
     ]
    },
    {
     "name": "stdout",
     "output_type": "stream",
     "text": [
      "parameter combination 2\n"
     ]
    },
    {
     "name": "stderr",
     "output_type": "stream",
     "text": [
      "/home/ec2-user/anaconda3/envs/python3/lib/python3.6/site-packages/lightgbm/engine.py:148: UserWarning: Found `num_boost_round` in params. Will use it instead of argument\n",
      "  _log_warning(\"Found `{}` in params. Will use it instead of argument\".format(alias))\n"
     ]
    },
    {
     "name": "stdout",
     "output_type": "stream",
     "text": [
      "parameter combination 3\n"
     ]
    },
    {
     "name": "stderr",
     "output_type": "stream",
     "text": [
      "/home/ec2-user/anaconda3/envs/python3/lib/python3.6/site-packages/lightgbm/engine.py:148: UserWarning: Found `num_boost_round` in params. Will use it instead of argument\n",
      "  _log_warning(\"Found `{}` in params. Will use it instead of argument\".format(alias))\n"
     ]
    },
    {
     "name": "stdout",
     "output_type": "stream",
     "text": [
      "parameter combination 4\n"
     ]
    },
    {
     "name": "stderr",
     "output_type": "stream",
     "text": [
      "/home/ec2-user/anaconda3/envs/python3/lib/python3.6/site-packages/lightgbm/engine.py:148: UserWarning: Found `num_boost_round` in params. Will use it instead of argument\n",
      "  _log_warning(\"Found `{}` in params. Will use it instead of argument\".format(alias))\n"
     ]
    },
    {
     "name": "stdout",
     "output_type": "stream",
     "text": [
      "parameter combination 5\n"
     ]
    },
    {
     "name": "stderr",
     "output_type": "stream",
     "text": [
      "/home/ec2-user/anaconda3/envs/python3/lib/python3.6/site-packages/lightgbm/engine.py:148: UserWarning: Found `num_boost_round` in params. Will use it instead of argument\n",
      "  _log_warning(\"Found `{}` in params. Will use it instead of argument\".format(alias))\n"
     ]
    },
    {
     "name": "stdout",
     "output_type": "stream",
     "text": [
      "parameter combination 6\n"
     ]
    },
    {
     "name": "stderr",
     "output_type": "stream",
     "text": [
      "/home/ec2-user/anaconda3/envs/python3/lib/python3.6/site-packages/lightgbm/engine.py:148: UserWarning: Found `num_boost_round` in params. Will use it instead of argument\n",
      "  _log_warning(\"Found `{}` in params. Will use it instead of argument\".format(alias))\n"
     ]
    },
    {
     "name": "stdout",
     "output_type": "stream",
     "text": [
      "parameter combination 7\n"
     ]
    },
    {
     "name": "stderr",
     "output_type": "stream",
     "text": [
      "/home/ec2-user/anaconda3/envs/python3/lib/python3.6/site-packages/lightgbm/engine.py:148: UserWarning: Found `num_boost_round` in params. Will use it instead of argument\n",
      "  _log_warning(\"Found `{}` in params. Will use it instead of argument\".format(alias))\n"
     ]
    },
    {
     "name": "stdout",
     "output_type": "stream",
     "text": [
      "parameter combination 8\n"
     ]
    },
    {
     "name": "stderr",
     "output_type": "stream",
     "text": [
      "/home/ec2-user/anaconda3/envs/python3/lib/python3.6/site-packages/lightgbm/engine.py:148: UserWarning: Found `num_boost_round` in params. Will use it instead of argument\n",
      "  _log_warning(\"Found `{}` in params. Will use it instead of argument\".format(alias))\n"
     ]
    },
    {
     "name": "stdout",
     "output_type": "stream",
     "text": [
      "SMAPE for all titles 0.2281871445351784\n",
      "SMAPE for the originals 0.23560290557547015\n",
      "running cvs at day 4\n",
      "Making prediction for day 4\n"
     ]
    },
    {
     "name": "stderr",
     "output_type": "stream",
     "text": [
      "/home/ec2-user/anaconda3/envs/python3/lib/python3.6/site-packages/lightgbm/engine.py:148: UserWarning: Found `num_boost_round` in params. Will use it instead of argument\n",
      "  _log_warning(\"Found `{}` in params. Will use it instead of argument\".format(alias))\n"
     ]
    },
    {
     "name": "stdout",
     "output_type": "stream",
     "text": [
      "keeps the titles above 80.0 percentile day1 viewed over all titles only\n",
      "only 1792 titles considered after popularity filter\n",
      "X and y are ready based on the input params\n",
      "Tune parameter for day 5\n",
      "parameter combination 1\n"
     ]
    },
    {
     "name": "stderr",
     "output_type": "stream",
     "text": [
      "/home/ec2-user/anaconda3/envs/python3/lib/python3.6/site-packages/lightgbm/engine.py:148: UserWarning: Found `num_boost_round` in params. Will use it instead of argument\n",
      "  _log_warning(\"Found `{}` in params. Will use it instead of argument\".format(alias))\n"
     ]
    },
    {
     "name": "stdout",
     "output_type": "stream",
     "text": [
      "parameter combination 2\n"
     ]
    },
    {
     "name": "stderr",
     "output_type": "stream",
     "text": [
      "/home/ec2-user/anaconda3/envs/python3/lib/python3.6/site-packages/lightgbm/engine.py:148: UserWarning: Found `num_boost_round` in params. Will use it instead of argument\n",
      "  _log_warning(\"Found `{}` in params. Will use it instead of argument\".format(alias))\n"
     ]
    },
    {
     "name": "stdout",
     "output_type": "stream",
     "text": [
      "parameter combination 3\n"
     ]
    },
    {
     "name": "stderr",
     "output_type": "stream",
     "text": [
      "/home/ec2-user/anaconda3/envs/python3/lib/python3.6/site-packages/lightgbm/engine.py:148: UserWarning: Found `num_boost_round` in params. Will use it instead of argument\n",
      "  _log_warning(\"Found `{}` in params. Will use it instead of argument\".format(alias))\n"
     ]
    },
    {
     "name": "stdout",
     "output_type": "stream",
     "text": [
      "parameter combination 4\n"
     ]
    },
    {
     "name": "stderr",
     "output_type": "stream",
     "text": [
      "/home/ec2-user/anaconda3/envs/python3/lib/python3.6/site-packages/lightgbm/engine.py:148: UserWarning: Found `num_boost_round` in params. Will use it instead of argument\n",
      "  _log_warning(\"Found `{}` in params. Will use it instead of argument\".format(alias))\n"
     ]
    },
    {
     "name": "stdout",
     "output_type": "stream",
     "text": [
      "parameter combination 5\n"
     ]
    },
    {
     "name": "stderr",
     "output_type": "stream",
     "text": [
      "/home/ec2-user/anaconda3/envs/python3/lib/python3.6/site-packages/lightgbm/engine.py:148: UserWarning: Found `num_boost_round` in params. Will use it instead of argument\n",
      "  _log_warning(\"Found `{}` in params. Will use it instead of argument\".format(alias))\n"
     ]
    },
    {
     "name": "stdout",
     "output_type": "stream",
     "text": [
      "parameter combination 6\n"
     ]
    },
    {
     "name": "stderr",
     "output_type": "stream",
     "text": [
      "/home/ec2-user/anaconda3/envs/python3/lib/python3.6/site-packages/lightgbm/engine.py:148: UserWarning: Found `num_boost_round` in params. Will use it instead of argument\n",
      "  _log_warning(\"Found `{}` in params. Will use it instead of argument\".format(alias))\n"
     ]
    },
    {
     "name": "stdout",
     "output_type": "stream",
     "text": [
      "parameter combination 7\n"
     ]
    },
    {
     "name": "stderr",
     "output_type": "stream",
     "text": [
      "/home/ec2-user/anaconda3/envs/python3/lib/python3.6/site-packages/lightgbm/engine.py:148: UserWarning: Found `num_boost_round` in params. Will use it instead of argument\n",
      "  _log_warning(\"Found `{}` in params. Will use it instead of argument\".format(alias))\n"
     ]
    },
    {
     "name": "stdout",
     "output_type": "stream",
     "text": [
      "parameter combination 8\n"
     ]
    },
    {
     "name": "stderr",
     "output_type": "stream",
     "text": [
      "/home/ec2-user/anaconda3/envs/python3/lib/python3.6/site-packages/lightgbm/engine.py:148: UserWarning: Found `num_boost_round` in params. Will use it instead of argument\n",
      "  _log_warning(\"Found `{}` in params. Will use it instead of argument\".format(alias))\n"
     ]
    },
    {
     "name": "stdout",
     "output_type": "stream",
     "text": [
      "SMAPE for all titles 0.2137116997429615\n",
      "SMAPE for the originals 0.23225881559395992\n",
      "running cvs at day 5\n",
      "Making prediction for day 5\n"
     ]
    },
    {
     "name": "stderr",
     "output_type": "stream",
     "text": [
      "/home/ec2-user/anaconda3/envs/python3/lib/python3.6/site-packages/lightgbm/engine.py:148: UserWarning: Found `num_boost_round` in params. Will use it instead of argument\n",
      "  _log_warning(\"Found `{}` in params. Will use it instead of argument\".format(alias))\n"
     ]
    },
    {
     "name": "stdout",
     "output_type": "stream",
     "text": [
      "keeps the titles above 80.0 percentile day1 viewed over all titles only\n",
      "only 1792 titles considered after popularity filter\n",
      "X and y are ready based on the input params\n",
      "Tune parameter for day 6\n",
      "parameter combination 1\n"
     ]
    },
    {
     "name": "stderr",
     "output_type": "stream",
     "text": [
      "/home/ec2-user/anaconda3/envs/python3/lib/python3.6/site-packages/lightgbm/engine.py:148: UserWarning: Found `num_boost_round` in params. Will use it instead of argument\n",
      "  _log_warning(\"Found `{}` in params. Will use it instead of argument\".format(alias))\n"
     ]
    },
    {
     "name": "stdout",
     "output_type": "stream",
     "text": [
      "parameter combination 2\n"
     ]
    },
    {
     "name": "stderr",
     "output_type": "stream",
     "text": [
      "/home/ec2-user/anaconda3/envs/python3/lib/python3.6/site-packages/lightgbm/engine.py:148: UserWarning: Found `num_boost_round` in params. Will use it instead of argument\n",
      "  _log_warning(\"Found `{}` in params. Will use it instead of argument\".format(alias))\n"
     ]
    },
    {
     "name": "stdout",
     "output_type": "stream",
     "text": [
      "parameter combination 3\n"
     ]
    },
    {
     "name": "stderr",
     "output_type": "stream",
     "text": [
      "/home/ec2-user/anaconda3/envs/python3/lib/python3.6/site-packages/lightgbm/engine.py:148: UserWarning: Found `num_boost_round` in params. Will use it instead of argument\n",
      "  _log_warning(\"Found `{}` in params. Will use it instead of argument\".format(alias))\n"
     ]
    },
    {
     "name": "stdout",
     "output_type": "stream",
     "text": [
      "parameter combination 4\n"
     ]
    },
    {
     "name": "stderr",
     "output_type": "stream",
     "text": [
      "/home/ec2-user/anaconda3/envs/python3/lib/python3.6/site-packages/lightgbm/engine.py:148: UserWarning: Found `num_boost_round` in params. Will use it instead of argument\n",
      "  _log_warning(\"Found `{}` in params. Will use it instead of argument\".format(alias))\n"
     ]
    },
    {
     "name": "stdout",
     "output_type": "stream",
     "text": [
      "parameter combination 5\n"
     ]
    },
    {
     "name": "stderr",
     "output_type": "stream",
     "text": [
      "/home/ec2-user/anaconda3/envs/python3/lib/python3.6/site-packages/lightgbm/engine.py:148: UserWarning: Found `num_boost_round` in params. Will use it instead of argument\n",
      "  _log_warning(\"Found `{}` in params. Will use it instead of argument\".format(alias))\n"
     ]
    },
    {
     "name": "stdout",
     "output_type": "stream",
     "text": [
      "parameter combination 6\n"
     ]
    },
    {
     "name": "stderr",
     "output_type": "stream",
     "text": [
      "/home/ec2-user/anaconda3/envs/python3/lib/python3.6/site-packages/lightgbm/engine.py:148: UserWarning: Found `num_boost_round` in params. Will use it instead of argument\n",
      "  _log_warning(\"Found `{}` in params. Will use it instead of argument\".format(alias))\n"
     ]
    },
    {
     "name": "stdout",
     "output_type": "stream",
     "text": [
      "parameter combination 7\n"
     ]
    },
    {
     "name": "stderr",
     "output_type": "stream",
     "text": [
      "/home/ec2-user/anaconda3/envs/python3/lib/python3.6/site-packages/lightgbm/engine.py:148: UserWarning: Found `num_boost_round` in params. Will use it instead of argument\n",
      "  _log_warning(\"Found `{}` in params. Will use it instead of argument\".format(alias))\n"
     ]
    },
    {
     "name": "stdout",
     "output_type": "stream",
     "text": [
      "parameter combination 8\n"
     ]
    },
    {
     "name": "stderr",
     "output_type": "stream",
     "text": [
      "/home/ec2-user/anaconda3/envs/python3/lib/python3.6/site-packages/lightgbm/engine.py:148: UserWarning: Found `num_boost_round` in params. Will use it instead of argument\n",
      "  _log_warning(\"Found `{}` in params. Will use it instead of argument\".format(alias))\n"
     ]
    },
    {
     "name": "stdout",
     "output_type": "stream",
     "text": [
      "SMAPE for all titles 0.19978396176965407\n",
      "SMAPE for the originals 0.23930354929218386\n",
      "running cvs at day 6\n",
      "Making prediction for day 6\n"
     ]
    },
    {
     "name": "stderr",
     "output_type": "stream",
     "text": [
      "/home/ec2-user/anaconda3/envs/python3/lib/python3.6/site-packages/lightgbm/engine.py:148: UserWarning: Found `num_boost_round` in params. Will use it instead of argument\n",
      "  _log_warning(\"Found `{}` in params. Will use it instead of argument\".format(alias))\n"
     ]
    },
    {
     "name": "stdout",
     "output_type": "stream",
     "text": [
      "keeps the titles above 80.0 percentile day1 viewed over all titles only\n",
      "only 1792 titles considered after popularity filter\n",
      "X and y are ready based on the input params\n",
      "Tune parameter for day 7\n",
      "parameter combination 1\n"
     ]
    },
    {
     "name": "stderr",
     "output_type": "stream",
     "text": [
      "/home/ec2-user/anaconda3/envs/python3/lib/python3.6/site-packages/lightgbm/engine.py:148: UserWarning: Found `num_boost_round` in params. Will use it instead of argument\n",
      "  _log_warning(\"Found `{}` in params. Will use it instead of argument\".format(alias))\n"
     ]
    },
    {
     "name": "stdout",
     "output_type": "stream",
     "text": [
      "parameter combination 2\n"
     ]
    },
    {
     "name": "stderr",
     "output_type": "stream",
     "text": [
      "/home/ec2-user/anaconda3/envs/python3/lib/python3.6/site-packages/lightgbm/engine.py:148: UserWarning: Found `num_boost_round` in params. Will use it instead of argument\n",
      "  _log_warning(\"Found `{}` in params. Will use it instead of argument\".format(alias))\n"
     ]
    },
    {
     "name": "stdout",
     "output_type": "stream",
     "text": [
      "parameter combination 3\n"
     ]
    },
    {
     "name": "stderr",
     "output_type": "stream",
     "text": [
      "/home/ec2-user/anaconda3/envs/python3/lib/python3.6/site-packages/lightgbm/engine.py:148: UserWarning: Found `num_boost_round` in params. Will use it instead of argument\n",
      "  _log_warning(\"Found `{}` in params. Will use it instead of argument\".format(alias))\n"
     ]
    },
    {
     "name": "stdout",
     "output_type": "stream",
     "text": [
      "parameter combination 4\n"
     ]
    },
    {
     "name": "stderr",
     "output_type": "stream",
     "text": [
      "/home/ec2-user/anaconda3/envs/python3/lib/python3.6/site-packages/lightgbm/engine.py:148: UserWarning: Found `num_boost_round` in params. Will use it instead of argument\n",
      "  _log_warning(\"Found `{}` in params. Will use it instead of argument\".format(alias))\n"
     ]
    },
    {
     "name": "stdout",
     "output_type": "stream",
     "text": [
      "parameter combination 5\n"
     ]
    },
    {
     "name": "stderr",
     "output_type": "stream",
     "text": [
      "/home/ec2-user/anaconda3/envs/python3/lib/python3.6/site-packages/lightgbm/engine.py:148: UserWarning: Found `num_boost_round` in params. Will use it instead of argument\n",
      "  _log_warning(\"Found `{}` in params. Will use it instead of argument\".format(alias))\n"
     ]
    },
    {
     "name": "stdout",
     "output_type": "stream",
     "text": [
      "parameter combination 6\n"
     ]
    },
    {
     "name": "stderr",
     "output_type": "stream",
     "text": [
      "/home/ec2-user/anaconda3/envs/python3/lib/python3.6/site-packages/lightgbm/engine.py:148: UserWarning: Found `num_boost_round` in params. Will use it instead of argument\n",
      "  _log_warning(\"Found `{}` in params. Will use it instead of argument\".format(alias))\n"
     ]
    },
    {
     "name": "stdout",
     "output_type": "stream",
     "text": [
      "parameter combination 7\n"
     ]
    },
    {
     "name": "stderr",
     "output_type": "stream",
     "text": [
      "/home/ec2-user/anaconda3/envs/python3/lib/python3.6/site-packages/lightgbm/engine.py:148: UserWarning: Found `num_boost_round` in params. Will use it instead of argument\n",
      "  _log_warning(\"Found `{}` in params. Will use it instead of argument\".format(alias))\n"
     ]
    },
    {
     "name": "stdout",
     "output_type": "stream",
     "text": [
      "parameter combination 8\n"
     ]
    },
    {
     "name": "stderr",
     "output_type": "stream",
     "text": [
      "/home/ec2-user/anaconda3/envs/python3/lib/python3.6/site-packages/lightgbm/engine.py:148: UserWarning: Found `num_boost_round` in params. Will use it instead of argument\n",
      "  _log_warning(\"Found `{}` in params. Will use it instead of argument\".format(alias))\n"
     ]
    },
    {
     "name": "stdout",
     "output_type": "stream",
     "text": [
      "SMAPE for all titles 0.20917742590537344\n",
      "SMAPE for the originals 0.24311141851643453\n",
      "running cvs at day 7\n",
      "Making prediction for day 7\n"
     ]
    },
    {
     "name": "stderr",
     "output_type": "stream",
     "text": [
      "/home/ec2-user/anaconda3/envs/python3/lib/python3.6/site-packages/lightgbm/engine.py:148: UserWarning: Found `num_boost_round` in params. Will use it instead of argument\n",
      "  _log_warning(\"Found `{}` in params. Will use it instead of argument\".format(alias))\n"
     ]
    },
    {
     "name": "stdout",
     "output_type": "stream",
     "text": [
      "keeps the titles above 80.0 percentile day1 viewed over all titles only\n",
      "only 1792 titles considered after popularity filter\n",
      "X and y are ready based on the input params\n",
      "Tune parameter for day 8\n",
      "parameter combination 1\n"
     ]
    },
    {
     "name": "stderr",
     "output_type": "stream",
     "text": [
      "/home/ec2-user/anaconda3/envs/python3/lib/python3.6/site-packages/lightgbm/engine.py:148: UserWarning: Found `num_boost_round` in params. Will use it instead of argument\n",
      "  _log_warning(\"Found `{}` in params. Will use it instead of argument\".format(alias))\n"
     ]
    },
    {
     "name": "stdout",
     "output_type": "stream",
     "text": [
      "parameter combination 2\n"
     ]
    },
    {
     "name": "stderr",
     "output_type": "stream",
     "text": [
      "/home/ec2-user/anaconda3/envs/python3/lib/python3.6/site-packages/lightgbm/engine.py:148: UserWarning: Found `num_boost_round` in params. Will use it instead of argument\n",
      "  _log_warning(\"Found `{}` in params. Will use it instead of argument\".format(alias))\n"
     ]
    },
    {
     "name": "stdout",
     "output_type": "stream",
     "text": [
      "parameter combination 3\n"
     ]
    },
    {
     "name": "stderr",
     "output_type": "stream",
     "text": [
      "/home/ec2-user/anaconda3/envs/python3/lib/python3.6/site-packages/lightgbm/engine.py:148: UserWarning: Found `num_boost_round` in params. Will use it instead of argument\n",
      "  _log_warning(\"Found `{}` in params. Will use it instead of argument\".format(alias))\n"
     ]
    },
    {
     "name": "stdout",
     "output_type": "stream",
     "text": [
      "parameter combination 4\n"
     ]
    },
    {
     "name": "stderr",
     "output_type": "stream",
     "text": [
      "/home/ec2-user/anaconda3/envs/python3/lib/python3.6/site-packages/lightgbm/engine.py:148: UserWarning: Found `num_boost_round` in params. Will use it instead of argument\n",
      "  _log_warning(\"Found `{}` in params. Will use it instead of argument\".format(alias))\n"
     ]
    },
    {
     "name": "stdout",
     "output_type": "stream",
     "text": [
      "parameter combination 5\n"
     ]
    },
    {
     "name": "stderr",
     "output_type": "stream",
     "text": [
      "/home/ec2-user/anaconda3/envs/python3/lib/python3.6/site-packages/lightgbm/engine.py:148: UserWarning: Found `num_boost_round` in params. Will use it instead of argument\n",
      "  _log_warning(\"Found `{}` in params. Will use it instead of argument\".format(alias))\n"
     ]
    },
    {
     "name": "stdout",
     "output_type": "stream",
     "text": [
      "parameter combination 6\n"
     ]
    },
    {
     "name": "stderr",
     "output_type": "stream",
     "text": [
      "/home/ec2-user/anaconda3/envs/python3/lib/python3.6/site-packages/lightgbm/engine.py:148: UserWarning: Found `num_boost_round` in params. Will use it instead of argument\n",
      "  _log_warning(\"Found `{}` in params. Will use it instead of argument\".format(alias))\n"
     ]
    },
    {
     "name": "stdout",
     "output_type": "stream",
     "text": [
      "parameter combination 7\n"
     ]
    },
    {
     "name": "stderr",
     "output_type": "stream",
     "text": [
      "/home/ec2-user/anaconda3/envs/python3/lib/python3.6/site-packages/lightgbm/engine.py:148: UserWarning: Found `num_boost_round` in params. Will use it instead of argument\n",
      "  _log_warning(\"Found `{}` in params. Will use it instead of argument\".format(alias))\n"
     ]
    },
    {
     "name": "stdout",
     "output_type": "stream",
     "text": [
      "parameter combination 8\n"
     ]
    },
    {
     "name": "stderr",
     "output_type": "stream",
     "text": [
      "/home/ec2-user/anaconda3/envs/python3/lib/python3.6/site-packages/lightgbm/engine.py:148: UserWarning: Found `num_boost_round` in params. Will use it instead of argument\n",
      "  _log_warning(\"Found `{}` in params. Will use it instead of argument\".format(alias))\n"
     ]
    },
    {
     "name": "stdout",
     "output_type": "stream",
     "text": [
      "SMAPE for all titles 0.1942152618576667\n",
      "SMAPE for the originals 0.21315533362967742\n",
      "running cvs at day 8\n",
      "Making prediction for day 8\n"
     ]
    },
    {
     "name": "stderr",
     "output_type": "stream",
     "text": [
      "/home/ec2-user/anaconda3/envs/python3/lib/python3.6/site-packages/lightgbm/engine.py:148: UserWarning: Found `num_boost_round` in params. Will use it instead of argument\n",
      "  _log_warning(\"Found `{}` in params. Will use it instead of argument\".format(alias))\n"
     ]
    },
    {
     "name": "stdout",
     "output_type": "stream",
     "text": [
      "keeps the titles above 80.0 percentile day1 viewed over all titles only\n",
      "only 1792 titles considered after popularity filter\n",
      "X and y are ready based on the input params\n",
      "Tune parameter for day 9\n",
      "parameter combination 1\n"
     ]
    },
    {
     "name": "stderr",
     "output_type": "stream",
     "text": [
      "/home/ec2-user/anaconda3/envs/python3/lib/python3.6/site-packages/lightgbm/engine.py:148: UserWarning: Found `num_boost_round` in params. Will use it instead of argument\n",
      "  _log_warning(\"Found `{}` in params. Will use it instead of argument\".format(alias))\n"
     ]
    },
    {
     "name": "stdout",
     "output_type": "stream",
     "text": [
      "parameter combination 2\n"
     ]
    },
    {
     "name": "stderr",
     "output_type": "stream",
     "text": [
      "/home/ec2-user/anaconda3/envs/python3/lib/python3.6/site-packages/lightgbm/engine.py:148: UserWarning: Found `num_boost_round` in params. Will use it instead of argument\n",
      "  _log_warning(\"Found `{}` in params. Will use it instead of argument\".format(alias))\n"
     ]
    },
    {
     "name": "stdout",
     "output_type": "stream",
     "text": [
      "parameter combination 3\n"
     ]
    },
    {
     "name": "stderr",
     "output_type": "stream",
     "text": [
      "/home/ec2-user/anaconda3/envs/python3/lib/python3.6/site-packages/lightgbm/engine.py:148: UserWarning: Found `num_boost_round` in params. Will use it instead of argument\n",
      "  _log_warning(\"Found `{}` in params. Will use it instead of argument\".format(alias))\n"
     ]
    },
    {
     "name": "stdout",
     "output_type": "stream",
     "text": [
      "parameter combination 4\n"
     ]
    },
    {
     "name": "stderr",
     "output_type": "stream",
     "text": [
      "/home/ec2-user/anaconda3/envs/python3/lib/python3.6/site-packages/lightgbm/engine.py:148: UserWarning: Found `num_boost_round` in params. Will use it instead of argument\n",
      "  _log_warning(\"Found `{}` in params. Will use it instead of argument\".format(alias))\n"
     ]
    },
    {
     "name": "stdout",
     "output_type": "stream",
     "text": [
      "parameter combination 5\n"
     ]
    },
    {
     "name": "stderr",
     "output_type": "stream",
     "text": [
      "/home/ec2-user/anaconda3/envs/python3/lib/python3.6/site-packages/lightgbm/engine.py:148: UserWarning: Found `num_boost_round` in params. Will use it instead of argument\n",
      "  _log_warning(\"Found `{}` in params. Will use it instead of argument\".format(alias))\n"
     ]
    },
    {
     "name": "stdout",
     "output_type": "stream",
     "text": [
      "parameter combination 6\n"
     ]
    },
    {
     "name": "stderr",
     "output_type": "stream",
     "text": [
      "/home/ec2-user/anaconda3/envs/python3/lib/python3.6/site-packages/lightgbm/engine.py:148: UserWarning: Found `num_boost_round` in params. Will use it instead of argument\n",
      "  _log_warning(\"Found `{}` in params. Will use it instead of argument\".format(alias))\n"
     ]
    },
    {
     "name": "stdout",
     "output_type": "stream",
     "text": [
      "parameter combination 7\n"
     ]
    },
    {
     "name": "stderr",
     "output_type": "stream",
     "text": [
      "/home/ec2-user/anaconda3/envs/python3/lib/python3.6/site-packages/lightgbm/engine.py:148: UserWarning: Found `num_boost_round` in params. Will use it instead of argument\n",
      "  _log_warning(\"Found `{}` in params. Will use it instead of argument\".format(alias))\n"
     ]
    },
    {
     "name": "stdout",
     "output_type": "stream",
     "text": [
      "parameter combination 8\n"
     ]
    },
    {
     "name": "stderr",
     "output_type": "stream",
     "text": [
      "/home/ec2-user/anaconda3/envs/python3/lib/python3.6/site-packages/lightgbm/engine.py:148: UserWarning: Found `num_boost_round` in params. Will use it instead of argument\n",
      "  _log_warning(\"Found `{}` in params. Will use it instead of argument\".format(alias))\n"
     ]
    },
    {
     "name": "stdout",
     "output_type": "stream",
     "text": [
      "SMAPE for all titles 0.23072986071090745\n",
      "SMAPE for the originals 0.2655392198993469\n",
      "running cvs at day 9\n",
      "Making prediction for day 9\n"
     ]
    },
    {
     "name": "stderr",
     "output_type": "stream",
     "text": [
      "/home/ec2-user/anaconda3/envs/python3/lib/python3.6/site-packages/lightgbm/engine.py:148: UserWarning: Found `num_boost_round` in params. Will use it instead of argument\n",
      "  _log_warning(\"Found `{}` in params. Will use it instead of argument\".format(alias))\n"
     ]
    },
    {
     "name": "stdout",
     "output_type": "stream",
     "text": [
      "keeps the titles above 80.0 percentile day1 viewed over all titles only\n",
      "only 1792 titles considered after popularity filter\n",
      "X and y are ready based on the input params\n",
      "Tune parameter for day 10\n",
      "parameter combination 1\n"
     ]
    },
    {
     "name": "stderr",
     "output_type": "stream",
     "text": [
      "/home/ec2-user/anaconda3/envs/python3/lib/python3.6/site-packages/lightgbm/engine.py:148: UserWarning: Found `num_boost_round` in params. Will use it instead of argument\n",
      "  _log_warning(\"Found `{}` in params. Will use it instead of argument\".format(alias))\n"
     ]
    },
    {
     "name": "stdout",
     "output_type": "stream",
     "text": [
      "parameter combination 2\n"
     ]
    },
    {
     "name": "stderr",
     "output_type": "stream",
     "text": [
      "/home/ec2-user/anaconda3/envs/python3/lib/python3.6/site-packages/lightgbm/engine.py:148: UserWarning: Found `num_boost_round` in params. Will use it instead of argument\n",
      "  _log_warning(\"Found `{}` in params. Will use it instead of argument\".format(alias))\n"
     ]
    },
    {
     "name": "stdout",
     "output_type": "stream",
     "text": [
      "parameter combination 3\n"
     ]
    },
    {
     "name": "stderr",
     "output_type": "stream",
     "text": [
      "/home/ec2-user/anaconda3/envs/python3/lib/python3.6/site-packages/lightgbm/engine.py:148: UserWarning: Found `num_boost_round` in params. Will use it instead of argument\n",
      "  _log_warning(\"Found `{}` in params. Will use it instead of argument\".format(alias))\n"
     ]
    },
    {
     "name": "stdout",
     "output_type": "stream",
     "text": [
      "parameter combination 4\n"
     ]
    },
    {
     "name": "stderr",
     "output_type": "stream",
     "text": [
      "/home/ec2-user/anaconda3/envs/python3/lib/python3.6/site-packages/lightgbm/engine.py:148: UserWarning: Found `num_boost_round` in params. Will use it instead of argument\n",
      "  _log_warning(\"Found `{}` in params. Will use it instead of argument\".format(alias))\n"
     ]
    },
    {
     "name": "stdout",
     "output_type": "stream",
     "text": [
      "parameter combination 5\n"
     ]
    },
    {
     "name": "stderr",
     "output_type": "stream",
     "text": [
      "/home/ec2-user/anaconda3/envs/python3/lib/python3.6/site-packages/lightgbm/engine.py:148: UserWarning: Found `num_boost_round` in params. Will use it instead of argument\n",
      "  _log_warning(\"Found `{}` in params. Will use it instead of argument\".format(alias))\n"
     ]
    },
    {
     "name": "stdout",
     "output_type": "stream",
     "text": [
      "parameter combination 6\n"
     ]
    },
    {
     "name": "stderr",
     "output_type": "stream",
     "text": [
      "/home/ec2-user/anaconda3/envs/python3/lib/python3.6/site-packages/lightgbm/engine.py:148: UserWarning: Found `num_boost_round` in params. Will use it instead of argument\n",
      "  _log_warning(\"Found `{}` in params. Will use it instead of argument\".format(alias))\n"
     ]
    },
    {
     "name": "stdout",
     "output_type": "stream",
     "text": [
      "parameter combination 7\n"
     ]
    },
    {
     "name": "stderr",
     "output_type": "stream",
     "text": [
      "/home/ec2-user/anaconda3/envs/python3/lib/python3.6/site-packages/lightgbm/engine.py:148: UserWarning: Found `num_boost_round` in params. Will use it instead of argument\n",
      "  _log_warning(\"Found `{}` in params. Will use it instead of argument\".format(alias))\n"
     ]
    },
    {
     "name": "stdout",
     "output_type": "stream",
     "text": [
      "parameter combination 8\n"
     ]
    },
    {
     "name": "stderr",
     "output_type": "stream",
     "text": [
      "/home/ec2-user/anaconda3/envs/python3/lib/python3.6/site-packages/lightgbm/engine.py:148: UserWarning: Found `num_boost_round` in params. Will use it instead of argument\n",
      "  _log_warning(\"Found `{}` in params. Will use it instead of argument\".format(alias))\n"
     ]
    },
    {
     "name": "stdout",
     "output_type": "stream",
     "text": [
      "SMAPE for all titles 0.22484443741538793\n",
      "SMAPE for the originals 0.2735521314400508\n",
      "running cvs at day 10\n",
      "Making prediction for day 10\n"
     ]
    },
    {
     "name": "stderr",
     "output_type": "stream",
     "text": [
      "/home/ec2-user/anaconda3/envs/python3/lib/python3.6/site-packages/lightgbm/engine.py:148: UserWarning: Found `num_boost_round` in params. Will use it instead of argument\n",
      "  _log_warning(\"Found `{}` in params. Will use it instead of argument\".format(alias))\n"
     ]
    },
    {
     "name": "stdout",
     "output_type": "stream",
     "text": [
      "keeps the titles above 80.0 percentile day1 viewed over all titles only\n",
      "only 1792 titles considered after popularity filter\n",
      "X and y are ready based on the input params\n",
      "Tune parameter for day 11\n",
      "parameter combination 1\n"
     ]
    },
    {
     "name": "stderr",
     "output_type": "stream",
     "text": [
      "/home/ec2-user/anaconda3/envs/python3/lib/python3.6/site-packages/lightgbm/engine.py:148: UserWarning: Found `num_boost_round` in params. Will use it instead of argument\n",
      "  _log_warning(\"Found `{}` in params. Will use it instead of argument\".format(alias))\n"
     ]
    },
    {
     "name": "stdout",
     "output_type": "stream",
     "text": [
      "parameter combination 2\n"
     ]
    },
    {
     "name": "stderr",
     "output_type": "stream",
     "text": [
      "/home/ec2-user/anaconda3/envs/python3/lib/python3.6/site-packages/lightgbm/engine.py:148: UserWarning: Found `num_boost_round` in params. Will use it instead of argument\n",
      "  _log_warning(\"Found `{}` in params. Will use it instead of argument\".format(alias))\n"
     ]
    },
    {
     "name": "stdout",
     "output_type": "stream",
     "text": [
      "parameter combination 3\n"
     ]
    },
    {
     "name": "stderr",
     "output_type": "stream",
     "text": [
      "/home/ec2-user/anaconda3/envs/python3/lib/python3.6/site-packages/lightgbm/engine.py:148: UserWarning: Found `num_boost_round` in params. Will use it instead of argument\n",
      "  _log_warning(\"Found `{}` in params. Will use it instead of argument\".format(alias))\n"
     ]
    },
    {
     "name": "stdout",
     "output_type": "stream",
     "text": [
      "parameter combination 4\n"
     ]
    },
    {
     "name": "stderr",
     "output_type": "stream",
     "text": [
      "/home/ec2-user/anaconda3/envs/python3/lib/python3.6/site-packages/lightgbm/engine.py:148: UserWarning: Found `num_boost_round` in params. Will use it instead of argument\n",
      "  _log_warning(\"Found `{}` in params. Will use it instead of argument\".format(alias))\n"
     ]
    },
    {
     "name": "stdout",
     "output_type": "stream",
     "text": [
      "parameter combination 5\n"
     ]
    },
    {
     "name": "stderr",
     "output_type": "stream",
     "text": [
      "/home/ec2-user/anaconda3/envs/python3/lib/python3.6/site-packages/lightgbm/engine.py:148: UserWarning: Found `num_boost_round` in params. Will use it instead of argument\n",
      "  _log_warning(\"Found `{}` in params. Will use it instead of argument\".format(alias))\n"
     ]
    },
    {
     "name": "stdout",
     "output_type": "stream",
     "text": [
      "parameter combination 6\n"
     ]
    },
    {
     "name": "stderr",
     "output_type": "stream",
     "text": [
      "/home/ec2-user/anaconda3/envs/python3/lib/python3.6/site-packages/lightgbm/engine.py:148: UserWarning: Found `num_boost_round` in params. Will use it instead of argument\n",
      "  _log_warning(\"Found `{}` in params. Will use it instead of argument\".format(alias))\n"
     ]
    },
    {
     "name": "stdout",
     "output_type": "stream",
     "text": [
      "parameter combination 7\n"
     ]
    },
    {
     "name": "stderr",
     "output_type": "stream",
     "text": [
      "/home/ec2-user/anaconda3/envs/python3/lib/python3.6/site-packages/lightgbm/engine.py:148: UserWarning: Found `num_boost_round` in params. Will use it instead of argument\n",
      "  _log_warning(\"Found `{}` in params. Will use it instead of argument\".format(alias))\n"
     ]
    },
    {
     "name": "stdout",
     "output_type": "stream",
     "text": [
      "parameter combination 8\n"
     ]
    },
    {
     "name": "stderr",
     "output_type": "stream",
     "text": [
      "/home/ec2-user/anaconda3/envs/python3/lib/python3.6/site-packages/lightgbm/engine.py:148: UserWarning: Found `num_boost_round` in params. Will use it instead of argument\n",
      "  _log_warning(\"Found `{}` in params. Will use it instead of argument\".format(alias))\n"
     ]
    },
    {
     "name": "stdout",
     "output_type": "stream",
     "text": [
      "SMAPE for all titles 0.22150259335911576\n",
      "SMAPE for the originals 0.2745389676490357\n",
      "running cvs at day 11\n",
      "Making prediction for day 11\n"
     ]
    },
    {
     "name": "stderr",
     "output_type": "stream",
     "text": [
      "/home/ec2-user/anaconda3/envs/python3/lib/python3.6/site-packages/lightgbm/engine.py:148: UserWarning: Found `num_boost_round` in params. Will use it instead of argument\n",
      "  _log_warning(\"Found `{}` in params. Will use it instead of argument\".format(alias))\n"
     ]
    },
    {
     "name": "stdout",
     "output_type": "stream",
     "text": [
      "keeps the titles above 80.0 percentile day1 viewed over all titles only\n",
      "only 1792 titles considered after popularity filter\n",
      "X and y are ready based on the input params\n",
      "Tune parameter for day 12\n",
      "parameter combination 1\n"
     ]
    },
    {
     "name": "stderr",
     "output_type": "stream",
     "text": [
      "/home/ec2-user/anaconda3/envs/python3/lib/python3.6/site-packages/lightgbm/engine.py:148: UserWarning: Found `num_boost_round` in params. Will use it instead of argument\n",
      "  _log_warning(\"Found `{}` in params. Will use it instead of argument\".format(alias))\n"
     ]
    },
    {
     "name": "stdout",
     "output_type": "stream",
     "text": [
      "parameter combination 2\n"
     ]
    },
    {
     "name": "stderr",
     "output_type": "stream",
     "text": [
      "/home/ec2-user/anaconda3/envs/python3/lib/python3.6/site-packages/lightgbm/engine.py:148: UserWarning: Found `num_boost_round` in params. Will use it instead of argument\n",
      "  _log_warning(\"Found `{}` in params. Will use it instead of argument\".format(alias))\n"
     ]
    },
    {
     "name": "stdout",
     "output_type": "stream",
     "text": [
      "parameter combination 3\n"
     ]
    },
    {
     "name": "stderr",
     "output_type": "stream",
     "text": [
      "/home/ec2-user/anaconda3/envs/python3/lib/python3.6/site-packages/lightgbm/engine.py:148: UserWarning: Found `num_boost_round` in params. Will use it instead of argument\n",
      "  _log_warning(\"Found `{}` in params. Will use it instead of argument\".format(alias))\n"
     ]
    },
    {
     "name": "stdout",
     "output_type": "stream",
     "text": [
      "parameter combination 4\n"
     ]
    },
    {
     "name": "stderr",
     "output_type": "stream",
     "text": [
      "/home/ec2-user/anaconda3/envs/python3/lib/python3.6/site-packages/lightgbm/engine.py:148: UserWarning: Found `num_boost_round` in params. Will use it instead of argument\n",
      "  _log_warning(\"Found `{}` in params. Will use it instead of argument\".format(alias))\n"
     ]
    },
    {
     "name": "stdout",
     "output_type": "stream",
     "text": [
      "parameter combination 5\n"
     ]
    },
    {
     "name": "stderr",
     "output_type": "stream",
     "text": [
      "/home/ec2-user/anaconda3/envs/python3/lib/python3.6/site-packages/lightgbm/engine.py:148: UserWarning: Found `num_boost_round` in params. Will use it instead of argument\n",
      "  _log_warning(\"Found `{}` in params. Will use it instead of argument\".format(alias))\n"
     ]
    },
    {
     "name": "stdout",
     "output_type": "stream",
     "text": [
      "parameter combination 6\n"
     ]
    },
    {
     "name": "stderr",
     "output_type": "stream",
     "text": [
      "/home/ec2-user/anaconda3/envs/python3/lib/python3.6/site-packages/lightgbm/engine.py:148: UserWarning: Found `num_boost_round` in params. Will use it instead of argument\n",
      "  _log_warning(\"Found `{}` in params. Will use it instead of argument\".format(alias))\n"
     ]
    },
    {
     "name": "stdout",
     "output_type": "stream",
     "text": [
      "parameter combination 7\n"
     ]
    },
    {
     "name": "stderr",
     "output_type": "stream",
     "text": [
      "/home/ec2-user/anaconda3/envs/python3/lib/python3.6/site-packages/lightgbm/engine.py:148: UserWarning: Found `num_boost_round` in params. Will use it instead of argument\n",
      "  _log_warning(\"Found `{}` in params. Will use it instead of argument\".format(alias))\n"
     ]
    },
    {
     "name": "stdout",
     "output_type": "stream",
     "text": [
      "parameter combination 8\n"
     ]
    },
    {
     "name": "stderr",
     "output_type": "stream",
     "text": [
      "/home/ec2-user/anaconda3/envs/python3/lib/python3.6/site-packages/lightgbm/engine.py:148: UserWarning: Found `num_boost_round` in params. Will use it instead of argument\n",
      "  _log_warning(\"Found `{}` in params. Will use it instead of argument\".format(alias))\n"
     ]
    },
    {
     "name": "stdout",
     "output_type": "stream",
     "text": [
      "SMAPE for all titles 0.16687616570517794\n",
      "SMAPE for the originals 0.20527902835697073\n",
      "running cvs at day 12\n",
      "Making prediction for day 12\n"
     ]
    },
    {
     "name": "stderr",
     "output_type": "stream",
     "text": [
      "/home/ec2-user/anaconda3/envs/python3/lib/python3.6/site-packages/lightgbm/engine.py:148: UserWarning: Found `num_boost_round` in params. Will use it instead of argument\n",
      "  _log_warning(\"Found `{}` in params. Will use it instead of argument\".format(alias))\n"
     ]
    },
    {
     "name": "stdout",
     "output_type": "stream",
     "text": [
      "keeps the titles above 80.0 percentile day1 viewed over all titles only\n",
      "only 1792 titles considered after popularity filter\n",
      "X and y are ready based on the input params\n",
      "Tune parameter for day 13\n",
      "parameter combination 1\n"
     ]
    },
    {
     "name": "stderr",
     "output_type": "stream",
     "text": [
      "/home/ec2-user/anaconda3/envs/python3/lib/python3.6/site-packages/lightgbm/engine.py:148: UserWarning: Found `num_boost_round` in params. Will use it instead of argument\n",
      "  _log_warning(\"Found `{}` in params. Will use it instead of argument\".format(alias))\n"
     ]
    },
    {
     "name": "stdout",
     "output_type": "stream",
     "text": [
      "parameter combination 2\n"
     ]
    },
    {
     "name": "stderr",
     "output_type": "stream",
     "text": [
      "/home/ec2-user/anaconda3/envs/python3/lib/python3.6/site-packages/lightgbm/engine.py:148: UserWarning: Found `num_boost_round` in params. Will use it instead of argument\n",
      "  _log_warning(\"Found `{}` in params. Will use it instead of argument\".format(alias))\n"
     ]
    },
    {
     "name": "stdout",
     "output_type": "stream",
     "text": [
      "parameter combination 3\n"
     ]
    },
    {
     "name": "stderr",
     "output_type": "stream",
     "text": [
      "/home/ec2-user/anaconda3/envs/python3/lib/python3.6/site-packages/lightgbm/engine.py:148: UserWarning: Found `num_boost_round` in params. Will use it instead of argument\n",
      "  _log_warning(\"Found `{}` in params. Will use it instead of argument\".format(alias))\n"
     ]
    },
    {
     "name": "stdout",
     "output_type": "stream",
     "text": [
      "parameter combination 4\n"
     ]
    },
    {
     "name": "stderr",
     "output_type": "stream",
     "text": [
      "/home/ec2-user/anaconda3/envs/python3/lib/python3.6/site-packages/lightgbm/engine.py:148: UserWarning: Found `num_boost_round` in params. Will use it instead of argument\n",
      "  _log_warning(\"Found `{}` in params. Will use it instead of argument\".format(alias))\n"
     ]
    },
    {
     "name": "stdout",
     "output_type": "stream",
     "text": [
      "parameter combination 5\n"
     ]
    },
    {
     "name": "stderr",
     "output_type": "stream",
     "text": [
      "/home/ec2-user/anaconda3/envs/python3/lib/python3.6/site-packages/lightgbm/engine.py:148: UserWarning: Found `num_boost_round` in params. Will use it instead of argument\n",
      "  _log_warning(\"Found `{}` in params. Will use it instead of argument\".format(alias))\n"
     ]
    },
    {
     "name": "stdout",
     "output_type": "stream",
     "text": [
      "parameter combination 6\n"
     ]
    },
    {
     "name": "stderr",
     "output_type": "stream",
     "text": [
      "/home/ec2-user/anaconda3/envs/python3/lib/python3.6/site-packages/lightgbm/engine.py:148: UserWarning: Found `num_boost_round` in params. Will use it instead of argument\n",
      "  _log_warning(\"Found `{}` in params. Will use it instead of argument\".format(alias))\n"
     ]
    },
    {
     "name": "stdout",
     "output_type": "stream",
     "text": [
      "parameter combination 7\n"
     ]
    },
    {
     "name": "stderr",
     "output_type": "stream",
     "text": [
      "/home/ec2-user/anaconda3/envs/python3/lib/python3.6/site-packages/lightgbm/engine.py:148: UserWarning: Found `num_boost_round` in params. Will use it instead of argument\n",
      "  _log_warning(\"Found `{}` in params. Will use it instead of argument\".format(alias))\n"
     ]
    },
    {
     "name": "stdout",
     "output_type": "stream",
     "text": [
      "parameter combination 8\n"
     ]
    },
    {
     "name": "stderr",
     "output_type": "stream",
     "text": [
      "/home/ec2-user/anaconda3/envs/python3/lib/python3.6/site-packages/lightgbm/engine.py:148: UserWarning: Found `num_boost_round` in params. Will use it instead of argument\n",
      "  _log_warning(\"Found `{}` in params. Will use it instead of argument\".format(alias))\n"
     ]
    },
    {
     "name": "stdout",
     "output_type": "stream",
     "text": [
      "SMAPE for all titles 0.15787274986478986\n",
      "SMAPE for the originals 0.1897297637588764\n",
      "running cvs at day 13\n",
      "Making prediction for day 13\n"
     ]
    },
    {
     "name": "stderr",
     "output_type": "stream",
     "text": [
      "/home/ec2-user/anaconda3/envs/python3/lib/python3.6/site-packages/lightgbm/engine.py:148: UserWarning: Found `num_boost_round` in params. Will use it instead of argument\n",
      "  _log_warning(\"Found `{}` in params. Will use it instead of argument\".format(alias))\n"
     ]
    },
    {
     "name": "stdout",
     "output_type": "stream",
     "text": [
      "keeps the titles above 80.0 percentile day1 viewed over all titles only\n",
      "only 1792 titles considered after popularity filter\n",
      "X and y are ready based on the input params\n",
      "Do cross prediction for day 14\n",
      "SMAPE for all titles 0.09324807253515545\n",
      "SMAPE for the originals 0.11345608532660294\n",
      "running cvs at day 14\n",
      "Making prediction for day 14\n",
      "keeps the titles above 80.0 percentile day1 viewed over all titles only\n",
      "only 1792 titles considered after popularity filter\n",
      "X and y are ready based on the input params\n",
      "Do cross prediction for day 15\n",
      "SMAPE for all titles 0.0869488653161281\n",
      "SMAPE for the originals 0.10836304871175213\n",
      "running cvs at day 15\n",
      "Making prediction for day 15\n",
      "keeps the titles above 80.0 percentile day1 viewed over all titles only\n",
      "only 1792 titles considered after popularity filter\n",
      "X and y are ready based on the input params\n",
      "Do cross prediction for day 16\n",
      "SMAPE for all titles 0.08334185129350849\n",
      "SMAPE for the originals 0.10192435921331733\n",
      "running cvs at day 16\n",
      "Making prediction for day 16\n",
      "keeps the titles above 80.0 percentile day1 viewed over all titles only\n",
      "only 1792 titles considered after popularity filter\n",
      "X and y are ready based on the input params\n",
      "Do cross prediction for day 17\n",
      "SMAPE for all titles 0.0742698088138617\n",
      "SMAPE for the originals 0.092221223795429\n",
      "running cvs at day 17\n",
      "Making prediction for day 17\n",
      "keeps the titles above 80.0 percentile day1 viewed over all titles only\n",
      "only 1792 titles considered after popularity filter\n",
      "X and y are ready based on the input params\n",
      "Do cross prediction for day 18\n",
      "SMAPE for all titles 0.06861862574582696\n",
      "SMAPE for the originals 0.0916897556367166\n",
      "running cvs at day 18\n",
      "Making prediction for day 18\n",
      "keeps the titles above 80.0 percentile day1 viewed over all titles only\n",
      "only 1792 titles considered after popularity filter\n",
      "X and y are ready based on the input params\n",
      "Do cross prediction for day 19\n",
      "SMAPE for all titles 0.05959973792301135\n",
      "SMAPE for the originals 0.09066034852238689\n",
      "running cvs at day 19\n",
      "Making prediction for day 19\n",
      "keeps the titles above 80.0 percentile day1 viewed over all titles only\n",
      "only 1792 titles considered after popularity filter\n",
      "X and y are ready based on the input params\n",
      "Do cross prediction for day 20\n",
      "SMAPE for all titles 0.059497826859193\n",
      "SMAPE for the originals 0.09612233215084563\n",
      "running cvs at day 20\n",
      "Making prediction for day 20\n",
      "keeps the titles above 80.0 percentile day1 viewed over all titles only\n",
      "only 1792 titles considered after popularity filter\n",
      "X and y are ready based on the input params\n",
      "Do cross prediction for day 21\n",
      "SMAPE for all titles 0.05137918515653775\n",
      "SMAPE for the originals 0.08532739552209928\n",
      "running cvs at day 21\n",
      "Making prediction for day 21\n",
      "keeps the titles above 80.0 percentile day1 viewed over all titles only\n",
      "only 1792 titles considered after popularity filter\n",
      "X and y are ready based on the input params\n",
      "Do cross prediction for day 22\n",
      "SMAPE for all titles 0.05232077681937634\n",
      "SMAPE for the originals 0.08263637159050818\n",
      "running cvs at day 22\n",
      "Making prediction for day 22\n",
      "keeps the titles above 80.0 percentile day1 viewed over all titles only\n",
      "only 1792 titles considered after popularity filter\n",
      "X and y are ready based on the input params\n",
      "Do cross prediction for day 23\n",
      "SMAPE for all titles 0.04202743704659818\n",
      "SMAPE for the originals 0.06790007416331581\n",
      "running cvs at day 23\n",
      "Making prediction for day 23\n",
      "keeps the titles above 80.0 percentile day1 viewed over all titles only\n",
      "only 1792 titles considered after popularity filter\n",
      "X and y are ready based on the input params\n",
      "Do cross prediction for day 24\n",
      "SMAPE for all titles 0.03099805877463177\n",
      "SMAPE for the originals 0.053670830211496864\n",
      "running cvs at day 24\n",
      "Making prediction for day 24\n",
      "keeps the titles above 80.0 percentile day1 viewed over all titles only\n",
      "only 1792 titles considered after popularity filter\n",
      "X and y are ready based on the input params\n",
      "Do cross prediction for day 25\n",
      "SMAPE for all titles 0.026758322661518858\n",
      "SMAPE for the originals 0.04851099533499216\n",
      "running cvs at day 25\n",
      "Making prediction for day 25\n",
      "keeps the titles above 80.0 percentile day1 viewed over all titles only\n",
      "only 1792 titles considered after popularity filter\n",
      "X and y are ready based on the input params\n",
      "Do cross prediction for day 26\n",
      "SMAPE for all titles 0.021487829383213954\n",
      "SMAPE for the originals 0.04344430227211286\n",
      "running cvs at day 26\n",
      "keeps the titles above 80.0 percentile day1 viewed over all titles only\n",
      "only 1792 titles considered after popularity filter\n",
      "X and y are ready based on the input params\n",
      "Do cross prediction for day 27\n",
      "SMAPE for all titles 0.014997585636128512\n",
      "SMAPE for the originals 0.038577723723645485\n",
      "running cvs at day 27\n"
     ]
    }
   ],
   "source": [
    "percent_data_process_info['exact_X_pred'] = False\n",
    "output_flag = True\n",
    "new_title_output = pd.DataFrame()\n",
    "existing_title_output = pd.DataFrame()\n",
    "back_consideration_date = 180\n",
    "\n",
    "for day in range(-27,28):\n",
    "    # renew the percent_data_process_info data very time\n",
    "    from lib.config import percent_data_process_info\n",
    "    from lib.config import prelaunch_process_info\n",
    "    from lib.config import metadata_process_info\n",
    "\n",
    "    # determine prelaunch or postlaunch\n",
    "    if day < 1:\n",
    "        input_process_info = dict(prelaunch_process_info)\n",
    "        percent_data_process_info['target_log_transformation'] = False\n",
    "        percent_data_process_info['log_ratio_transformation'] = False\n",
    "        input_percentile_used = percentile_used\n",
    "        model_name = 'lr'\n",
    "        model_name_list = [model_name]\n",
    "    elif day<14:\n",
    "        input_process_info = dict(metadata_process_info)\n",
    "        percent_data_process_info['target_log_transformation'] = True\n",
    "        percent_data_process_info['log_ratio_transformation'] = True\n",
    "        input_percentile_used = percentile_used\n",
    "        model_name = 'lgb'\n",
    "        model_name_list = [model_name]\n",
    "    else:\n",
    "        input_process_info = dict(metadata_process_info)\n",
    "        percent_data_process_info['target_log_transformation'] = False\n",
    "        percent_data_process_info['log_ratio_transformation'] = False\n",
    "        input_percentile_used = percentile_used\n",
    "        model_name = 'lr'\n",
    "        model_name_list = [model_name]\n",
    "\n",
    "    # just to make the values in the dict back to the initial values\n",
    "    percent_data_process_info = dict(percent_data_process_info)\n",
    "    percent_data_process_info['max_num_day'] = day\n",
    "    \n",
    "    # get x and y\n",
    "    logger.info('Get X and y for day {}'.format(day))\n",
    "    cv_func.get_X_y(percent_data_process_info, \n",
    "                     input_process_info, \n",
    "                     day001_popularity_threshold = input_percentile_used)\n",
    "\n",
    "    # tune parameter\n",
    "    if model_name not in  ['lr', 'enet']:\n",
    "        logger.info('Tune parameter for day {}'.format(day))\n",
    "        print('Tune parameter for day {}'.format(day))\n",
    "        cv_func.parameter_tuning(model_name, \n",
    "                            params_tunning_dict, \n",
    "                            percent_data_process_info,\n",
    "                            nfold = nfold,\n",
    "                            back_consideration_date = back_consideration_date)\n",
    "        \n",
    "        params_dict = cv_func.min_smape_param['min_smape_original']\n",
    "        param_stats = cv_func.parameter_tuning_stats\n",
    "        logger.info('SMAPE for all titles {}'.format(param_stats['min_smape_all']))\n",
    "        logger.info('SMAPE for the originals {}'.format(param_stats['min_smape_original']))\n",
    "        print('SMAPE for all titles {}'.format(param_stats['min_smape_all']))\n",
    "        print('SMAPE for the originals {}'.format(param_stats['min_smape_original']))\n",
    "    \n",
    "    else:\n",
    "        logger.info('Do cross prediction for day {}'.format(day))\n",
    "        print('Do cross prediction for day {}'.format(day))\n",
    "        cv_func.cross_prediction(\n",
    "                         model_name_list, \n",
    "                         params_dict, \n",
    "                         percent_data_process_info, \n",
    "                         nfold = nfold, \n",
    "                         back_consideration_date = back_consideration_date)\n",
    "        \n",
    "        logger.info('SMAPE for all titles {}'.format(cv_func.output['smape_' + model_name].mean()))\n",
    "        logger.info('SMAPE for the originals {}'.format(cv_func.output.loc[cv_func.output['program_type']==1,'smape_' + model_name].mean()))\n",
    "        print('SMAPE for all titles {}'.format(cv_func.output['smape_' + model_name].mean()))\n",
    "        print('SMAPE for the originals {}'.format(cv_func.output.loc[cv_func.output['program_type']==1,'smape_' + model_name].mean()))\n",
    "    \n",
    "    # make prediction\n",
    "    print('running cvs at day {}'.format(day))\n",
    "    cur_existing_title_output = cv_func.output\n",
    "    pred_column = cur_existing_title_output.columns[cur_existing_title_output.columns.str.contains(model_name)][0]\n",
    "    cur_existing_title_output['pred_day'] = day\n",
    "    cur_existing_title_output = cur_existing_title_output.rename(columns = {pred_column:'prediction'})\n",
    "    cur_existing_title_output = cur_existing_title_output.rename(columns = {'smape_lgb':'smape'\n",
    "                                                                    ,'smape_lr':'smape'\n",
    "                                                                    ,'smape_enet':'smape'\n",
    "                                                                    ,'mae_lgb':'mae'\n",
    "                                                                    ,'mae_lr':'mae'\n",
    "                                                                    ,'mae_enet':'mae'\n",
    "                                                                    })\n",
    "    existing_title_output = pd.concat([existing_title_output, cur_existing_title_output], axis = 0)\n",
    "            \n",
    "    if cv_func.pred_empty_flag == True:\n",
    "        pass\n",
    "    else:\n",
    "        logger.info('Making prediction for day {}'.format(day))\n",
    "        print('Making prediction for day {}'.format(day))\n",
    "        cv_func.predict_new_titles(model_name_list, \n",
    "                                   params_dict, \n",
    "                                   percent_data_process_info)\n",
    "    \n",
    "        # process the output\n",
    "        cur_new_title_output = cv_func.new_title_output\n",
    "        pred_column = cur_new_title_output.columns[cur_new_title_output.columns.str.contains(model_name)][0]\n",
    "        cur_new_title_output['pred_day'] = day\n",
    "        cur_new_title_output = cur_new_title_output.rename(columns = {pred_column:'prediction'})\n",
    "\n",
    "        new_title_output = pd.concat([new_title_output,cur_new_title_output], axis = 0)\n",
    "#         print (new_title_output.head())\n",
    "\n",
    "          \n",
    "# final formatting\n",
    "\n",
    "if new_title_output.shape[0]>0:    \n",
    "    new_title_output = new_title_output.drop(columns = ['target']).sort_values(['title_name','pred_day'])\n",
    "    new_title_output = new_title_output[['title_name'\n",
    "                                        ,'match_id'\n",
    "                                        ,'match_id_platform'\n",
    "                                        ,'platform_name'\n",
    "                                        ,'program_type'\n",
    "                                        ,'pred_day'\n",
    "                                        ,'prediction']]\n",
    "\n",
    "if existing_title_output.shape[0]>0:           \n",
    "    existing_title_output = existing_title_output.sort_values(['match_id_platform','pred_day'])\n",
    "    existing_title_output['platform_name'] = existing_title_output['match_id_platform'].apply(lambda x: x[0])\n",
    "    existing_title_output = existing_title_output[['title_name'\n",
    "                                                ,'match_id'\n",
    "                                                ,'match_id_platform'\n",
    "                                                ,'platform_name'\n",
    "                                                ,'program_type'\n",
    "                                                ,'target'\n",
    "                                                ,'pred_day'\n",
    "                                                ,'prediction'\n",
    "                                                ,'smape'\n",
    "                                                ,'mae'\n",
    "                                                ,'fold']]"
   ]
  },
  {
   "cell_type": "markdown",
   "id": "57253577",
   "metadata": {},
   "source": [
    "# Write csvs to S3"
   ]
  },
  {
   "cell_type": "markdown",
   "id": "014c17ca",
   "metadata": {},
   "source": [
    "### Step 3: Write the prediction result to S3"
   ]
  },
  {
   "cell_type": "code",
   "execution_count": 13,
   "id": "a2311fac",
   "metadata": {},
   "outputs": [],
   "source": [
    "output_bucket = 'hbo-outbound-datascience-content-dev'"
   ]
  },
  {
   "cell_type": "code",
   "execution_count": 14,
   "id": "dff08f2d",
   "metadata": {},
   "outputs": [],
   "source": [
    "def to_s3(filename, output_bucket, content):\n",
    "    client = boto3.client('s3')\n",
    "    client.put_object(Bucket=output_bucket, Key=filename, Body=content)"
   ]
  },
  {
   "cell_type": "code",
   "execution_count": 15,
   "id": "33efb19e",
   "metadata": {},
   "outputs": [
    {
     "name": "stdout",
     "output_type": "stream",
     "text": [
      "Writing new title predictions over time to S3 as an csv file\n"
     ]
    }
   ],
   "source": [
    "logger.info('Writing new title predictions over time to S3 as an csv file')\n",
    "print('Writing new title predictions over time to S3 as an csv file')\n",
    "csv_buffer = io.StringIO()\n",
    "new_title_output.to_csv(csv_buffer, index = False)\n",
    "content = csv_buffer.getvalue()\n",
    "\n",
    "filename = 'output_percent_actives/new_title_prediction.csv'\n",
    "\n",
    "to_s3(filename, output_bucket, content)"
   ]
  },
  {
   "cell_type": "code",
   "execution_count": 16,
   "id": "8b8be0c6",
   "metadata": {},
   "outputs": [
    {
     "name": "stdout",
     "output_type": "stream",
     "text": [
      "Writing existing title predictions over time to S3 as an csv file\n"
     ]
    }
   ],
   "source": [
    "logger.info('Writing existing title predictions over time to S3 as an csv file')\n",
    "print('Writing existing title predictions over time to S3 as an csv file')\n",
    "csv_buffer = io.StringIO()\n",
    "existing_title_output.to_csv(csv_buffer, index = False)\n",
    "content = csv_buffer.getvalue()\n",
    "\n",
    "filename = 'output_percent_actives/existing_title_prediction.csv'\n",
    "\n",
    "to_s3(filename, output_bucket, content)"
   ]
  }
 ],
 "metadata": {
  "kernelspec": {
   "display_name": "conda_python3",
   "language": "python",
   "name": "conda_python3"
  },
  "language_info": {
   "codemirror_mode": {
    "name": "ipython",
    "version": 3
   },
   "file_extension": ".py",
   "mimetype": "text/x-python",
   "name": "python",
   "nbconvert_exporter": "python",
   "pygments_lexer": "ipython3",
   "version": "3.6.13"
  }
 },
 "nbformat": 4,
 "nbformat_minor": 5
}
